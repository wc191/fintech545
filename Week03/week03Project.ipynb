{
 "cells": [
  {
   "cell_type": "code",
   "execution_count": 182,
   "metadata": {},
   "outputs": [],
   "source": [
    "import numpy as np\n",
    "from scipy.linalg import cholesky, eigvals\n",
    "import random\n",
    "import pandas as pd\n",
    "import matplotlib.pyplot as plt\n",
    "import time"
   ]
  },
  {
   "cell_type": "markdown",
   "metadata": {},
   "source": [
    "Problem 1\n",
    "\n",
    "Use the stock returns in DailyReturn.csv for this problem. DailyReturn.csv contains returns for 100 large US stocks and as well as the ETF, SPY which tracks the S&P500.\n",
    "\n",
    "Create a routine for calculating an exponentially weighted covariance matrix. If you have a package that calculates it for you, verify that it calculates the values you expect. This means you still have to implement it.\n",
    "\n",
    "Vary λ ∈ (0, 1). Use PCA and plot the cumulative variance explained by each eigenvalue for each λchosen.\n",
    "What does this tell us about values of λ and the effect it has on the covariance matrix?"
   ]
  },
  {
   "cell_type": "markdown",
   "metadata": {},
   "source": [
    "Problem 1.1\n",
    "\n",
    "Create a routine for calculating an exponentially weighted covariance matrix. If you have a package that calculates it for you, verify that it calculates the values you expect. This means you still have to implement it."
   ]
  },
  {
   "cell_type": "code",
   "execution_count": 7,
   "metadata": {},
   "outputs": [],
   "source": [
    "df = pd.read_csv(\"DailyReturn.csv\")\n",
    "df.drop('Unnamed: 0', axis=1, inplace=True)"
   ]
  },
  {
   "cell_type": "code",
   "execution_count": 9,
   "metadata": {},
   "outputs": [],
   "source": [
    "def exp_weighted_cov(input, lambda_=0.97):\n",
    "    ror = input.values\n",
    "    ror_mean = np.mean(ror, axis=0)\n",
    "    dev = ror - ror_mean\n",
    "    times = dev.shape[0]\n",
    "    weights = np.zeros(times)\n",
    "    \n",
    "    for i in range(times):\n",
    "        weights[times - i - 1]  = (1 - lambda_) * lambda_**i\n",
    "    \n",
    "    weights_mat = np.diag(weights/sum(weights))\n",
    "\n",
    "    cov = np.transpose(dev) @ weights_mat @ dev\n",
    "    return cov"
   ]
  },
  {
   "cell_type": "code",
   "execution_count": 207,
   "metadata": {},
   "outputs": [],
   "source": [
    "exp_weighted_cov_mat = exp_weighted_cov(df)"
   ]
  },
  {
   "cell_type": "markdown",
   "metadata": {},
   "source": [
    "Problem 1.2\n",
    "\n",
    "Vary λ ∈ (0, 1). Use PCA and plot the cumulative variance explained by each eigenvalue for each λchosen."
   ]
  },
  {
   "cell_type": "code",
   "execution_count": 25,
   "metadata": {},
   "outputs": [],
   "source": [
    "def simulate_pca(a, nsim, nval=None):\n",
    "    # Eigenvalue decomposition\n",
    "    vals, vecs = np.linalg.eig(a)\n",
    "\n",
    "    # Sort the eigenvalues and corresponding eigenvectors in descending order\n",
    "    idx = np.argsort(-vals)\n",
    "    vals = vals[idx]\n",
    "    vecs = vecs[:, idx]\n",
    "\n",
    "    posv = np.where(vals >= 1e-8)[0]\n",
    "    if nval is not None:\n",
    "        if nval < len(posv):\n",
    "            posv = posv[:nval]\n",
    "    vals = vals[posv]\n",
    "    vecs = vecs[:, posv]\n",
    "\n",
    "    cum_var = (np.cumsum(vals[:nsim]) / np.sum(vals))[-1]\n",
    "\n",
    "    return cum_var"
   ]
  },
  {
   "cell_type": "code",
   "execution_count": 29,
   "metadata": {},
   "outputs": [],
   "source": [
    "lambdas = [0.1, 0.4, 0.6, 0.9, 0.97]\n",
    "cum_vars = []\n",
    "\n",
    "for l in lambdas:\n",
    "    this_cov = exp_weighted_cov(df, l)\n",
    "    this_cum_vars = []\n",
    "    for i in range(1, 100):\n",
    "        this_cum_vars.append(simulate_pca(this_cov, i))\n",
    "    cum_vars.append(this_cum_vars)\n"
   ]
  },
  {
   "cell_type": "code",
   "execution_count": 211,
   "metadata": {},
   "outputs": [
    {
     "data": {
      "image/png": "[encoded data removed]",
      "text/plain": [
       "<Figure size 432x288 with 1 Axes>"
      ]
     },
     "metadata": {
      "needs_background": "light"
     },
     "output_type": "display_data"
    }
   ],
   "source": [
    "plt.figure()\n",
    "for i in cum_vars:\n",
    "    plt.plot(i)\n",
    "\n",
    "plt.legend(lambdas)\n",
    "plt.xlabel('number of values')\n",
    "plt.ylabel('% of variance explained')\n",
    "plt.show()"
   ]
  },
  {
   "cell_type": "markdown",
   "metadata": {},
   "source": [
    "Problem 2\n",
    "\n",
    "Copy the chol_psd(), and near_psd() functions from the course repository – implement in your programming language of choice. These are core functions you will need throughout the remainder of the class.\n",
    "\n",
    "Implement Higham’s 2002 nearest psd correlation function.\n",
    "\n",
    "Generate a non-psd correlation matrix that is 500x500. You can use the code I used in class:\n",
    "n=500\n",
    "sigma = fill(0.9,(n,n))\n",
    "for i in 1:n\n",
    "    sigma[i,i]=1.0\n",
    "end\n",
    "sigma[1,2] = 0.7357\n",
    "sigma[2,1] = 0.7357\n",
    "\n",
    "Use near_psd() and Higham’s method to fix the matrix. Confirm the matrix is now PSD.\n",
    "\n",
    "Compare the results of both using the Frobenius Norm. Compare the run time between the two. How does the run time of each function compare as N increases?\n",
    "\n",
    "Based on the above, discuss the pros and cons of each method and when you would use each. There is no wrong answer here, I want you to think through this and tell me what you think."
   ]
  },
  {
   "cell_type": "markdown",
   "metadata": {},
   "source": [
    "Problem 2.1\n",
    "\n",
    "Copy the chol_psd(), and near_psd() functions from the course repository – implement in your programming language of choice. These are core functions you will need throughout the remainder of the class."
   ]
  },
  {
   "cell_type": "code",
   "execution_count": 30,
   "metadata": {},
   "outputs": [],
   "source": [
    "#Cholesky that assumes PSD\n",
    "def chol_psd(a):\n",
    "    n = a.shape[0]\n",
    "    root = np.zeros((n, n))\n",
    "\n",
    "    for j in range(n):\n",
    "        s = 0.0\n",
    "        if j > 0:\n",
    "            s = np.dot(root[j, :j], root[j, :j])\n",
    "        temp = a[j, j] - s\n",
    "        if temp <= 0:\n",
    "            temp = 0.0\n",
    "        root[j, j] = np.sqrt(temp)\n",
    "\n",
    "        if root[j, j] == 0.0:\n",
    "            root[j, j+1:] = 0.0\n",
    "        else:\n",
    "            ir = 1.0 / root[j, j]\n",
    "            for i in range(j + 1, n):\n",
    "                s = np.dot(root[i, :j], root[j, :j])\n",
    "                root[i, j] = (a[i, j] - s) * ir\n",
    "    return root"
   ]
  },
  {
   "cell_type": "code",
   "execution_count": 173,
   "metadata": {},
   "outputs": [],
   "source": [
    "#Near PSD Matrix\n",
    "def near_psd(a, epsilon=0.0):\n",
    "    n = a.shape[0]\n",
    "\n",
    "    invSD = None\n",
    "    out = a.copy()\n",
    "\n",
    "    # calculate the correlation matrix if we got a covariance\n",
    "    if np.count_nonzero(np.diag(out) == 1.0) != n:\n",
    "        invSD = np.diag(1 / np.sqrt(np.diag(out)))\n",
    "        out = np.matmul(np.matmul(invSD, out), invSD)\n",
    "\n",
    "    # SVD, update the eigen value and scale\n",
    "    vals, vecs = np.linalg.eigh(out)\n",
    "    vals = np.maximum(vals, epsilon)\n",
    "    T = np.reciprocal(np.matmul(np.square(vecs), vals))\n",
    "    T = np.diag(np.sqrt(T))\n",
    "    l = np.diag(np.sqrt(vals))\n",
    "    B = T @ vecs @ l\n",
    "    out = B @ B.T\n",
    "\n",
    "    #Add back the variance\n",
    "    if invSD is not None:\n",
    "        invSD = np.diag(1 / np.diag(invSD))\n",
    "        out = invSD @ out @ invSD\n",
    "    return out"
   ]
  },
  {
   "cell_type": "markdown",
   "metadata": {},
   "source": [
    "Problem 2.2\n",
    "\n",
    "Implement Higham’s 2002 nearest psd correlation function."
   ]
  },
  {
   "cell_type": "code",
   "execution_count": 185,
   "metadata": {},
   "outputs": [],
   "source": [
    "def Frobenius(input):\n",
    "    result = 0\n",
    "    for i in range(len(input)):\n",
    "        for j in range(len(input)):\n",
    "            result += input[i][j]**2\n",
    "    return result"
   ]
  },
  {
   "cell_type": "code",
   "execution_count": 186,
   "metadata": {},
   "outputs": [],
   "source": [
    "def Higham_psd(input):\n",
    "    weight = np.identity(len(input))\n",
    "        \n",
    "    norml = np.inf\n",
    "    Yk = input.copy()\n",
    "    Delta_S = np.zeros_like(Yk)\n",
    "    \n",
    "    invSD = None\n",
    "    if np.count_nonzero(np.diag(Yk) == 1.0) != input.shape[0]:\n",
    "        invSD = np.diag(1 / np.sqrt(np.diag(Yk)))\n",
    "        Yk = invSD @ Yk @ invSD\n",
    "    \n",
    "    Y0 = Yk.copy()\n",
    "\n",
    "    for i in range(1000):\n",
    "        Rk = Yk - Delta_S\n",
    "        # PS\n",
    "        Xk = np.sqrt(weight)@ Rk @np.sqrt(weight)\n",
    "        vals, vecs = np.linalg.eigh(Xk)\n",
    "        vals = np.where(vals > 0, vals, 0)\n",
    "        Xk = np.sqrt(weight)@ vecs @ np.diagflat(vals) @ vecs.T @ np.sqrt(weight)\n",
    "        Delta_S = Xk - Rk\n",
    "        #PU\n",
    "        Yk = Xk.copy()\n",
    "        np.fill_diagonal(Yk, 1)\n",
    "        norm = Frobenius(Yk-Y0)\n",
    "        #norm = np.linalg.norm(Yk-Y0, ord='fro')\n",
    "        min_val = np.real(np.linalg.eigvals(Yk)).min()\n",
    "        if abs(norm - norml) < 1e-8 and min_val > -1e-9:\n",
    "            break\n",
    "        else:\n",
    "            norml = norm\n",
    "    \n",
    "    if invSD is not None:\n",
    "        invSD = np.diag(1 / np.diag(invSD))\n",
    "        Yk = invSD @ Yk @ invSD\n",
    "    return Yk"
   ]
  },
  {
   "cell_type": "markdown",
   "metadata": {},
   "source": [
    "Problem 2.3\n",
    "\n",
    "Generate a non-psd correlation matrix that is 500x500. You can use the code I used in class:\n",
    "n=500\n",
    "sigma = fill(0.9,(n,n))\n",
    "for i in 1:n\n",
    "    sigma[i,i]=1.0\n",
    "end\n",
    "sigma[1,2] = 0.7357\n",
    "sigma[2,1] = 0.7357"
   ]
  },
  {
   "cell_type": "code",
   "execution_count": 187,
   "metadata": {},
   "outputs": [],
   "source": [
    "n = 500\n",
    "sigma = np.full((n,n),0.9)\n",
    "for i in range(n):\n",
    "    sigma[i,i]=1.0\n",
    "sigma[0,1] = 0.7357\n",
    "sigma[1,0] = 0.7357"
   ]
  },
  {
   "cell_type": "markdown",
   "metadata": {},
   "source": [
    "Problem 2.4\n",
    "\n",
    "Use near_psd() and Higham’s method to fix the matrix. Confirm the matrix is now PSD."
   ]
  },
  {
   "cell_type": "code",
   "execution_count": 176,
   "metadata": {},
   "outputs": [],
   "source": [
    "def is_psd(matrix):\n",
    "    vals = np.linalg.eigh(matrix)[0]\n",
    "    return np.all(vals >= -1e-8)"
   ]
  },
  {
   "cell_type": "code",
   "execution_count": 188,
   "metadata": {},
   "outputs": [
    {
     "name": "stdout",
     "output_type": "stream",
     "text": [
      "Sigma:  False\n",
      "Sigma fixed with near_psd():  True\n",
      "Sigma fixed with Higham_psd():  True\n"
     ]
    }
   ],
   "source": [
    "print(\"Sigma: \", is_psd(sigma))\n",
    "print(\"Sigma fixed with near_psd(): \", is_psd(near_psd(sigma)))\n",
    "print(\"Sigma fixed with Higham_psd(): \", is_psd(Higham_psd(sigma)))"
   ]
  },
  {
   "cell_type": "markdown",
   "metadata": {},
   "source": [
    "Problem 2.5\n",
    "\n",
    "Compare the results of both using the Frobenius Norm.\n"
   ]
  },
  {
   "cell_type": "code",
   "execution_count": 212,
   "metadata": {},
   "outputs": [
    {
     "name": "stderr",
     "output_type": "stream",
     "text": [
      "/var/folders/mx/h47vz6_d3cj1b2c96lcwngfh0000gn/T/ipykernel_33783/1022536968.py:16: RuntimeWarning: invalid value encountered in reciprocal\n",
      "  T = np.reciprocal(np.matmul(np.square(vecs), vals))\n"
     ]
    },
    {
     "name": "stdout",
     "output_type": "stream",
     "text": [
      "[0.034479029796030715, 0.07441520643488334, 0.11434167015298123, 0.15426458619636677, 0.19418590463066357, 0.23410637472482018, 0.2740263418613265, 0.3139459866926763, 0.3538654127390431]\n",
      "[0.006189339355289434, 0.007164374459157218, 0.007517245714743978, 0.0076992888243104796, 0.007810362192229281, 0.007885193678452055, 0.007939032137917149, 0.007979624429548117, 0.008011323402941264]\n"
     ]
    },
    {
     "data": {
      "image/png": "[encoded data removed]",
      "text/plain": [
       "<Figure size 432x288 with 1 Axes>"
      ]
     },
     "metadata": {
      "needs_background": "light"
     },
     "output_type": "display_data"
    }
   ],
   "source": [
    "n_range = np.arange(50, 500, 50)\n",
    "near = []\n",
    "higham = []\n",
    "for i in n_range:\n",
    "    current_sigma = sigma[:i, :i]\n",
    "    \n",
    "    near_sigma = near_psd(current_sigma)\n",
    "    near_frobenius = Frobenius(current_sigma-near_sigma)\n",
    "    #near_frobenius = np.linalg.norm(current_sigma-near_sigma, ord='fro')\n",
    "    near.append(near_frobenius)\n",
    "    \n",
    "    higham_sigma = Higham_psd(current_sigma)\n",
    "    higham_frobenius = Frobenius(current_sigma-higham_sigma)\n",
    "    #higham_frobenius = np.linalg.norm(current_sigma-higham_sigma, ord='fro')\n",
    "    higham.append(higham_frobenius)\n",
    "\n",
    "print(near)\n",
    "print(higham)\n",
    "    \n",
    "\n",
    "\n",
    "plt.plot(n_range, near, label='near_psd')\n",
    "plt.plot(n_range, higham, label='Higham_psd')\n",
    "plt.legend()\n",
    "plt.xlabel('n')\n",
    "plt.ylabel('Accuracy (Frobenius Norm)')\n",
    "plt.show()"
   ]
  },
  {
   "cell_type": "markdown",
   "metadata": {},
   "source": [
    "Problem 2.6\n",
    "\n",
    "Compare the run time between the two. How does the run time of each function compare as N increases?"
   ]
  },
  {
   "cell_type": "code",
   "execution_count": 184,
   "metadata": {},
   "outputs": [
    {
     "name": "stderr",
     "output_type": "stream",
     "text": [
      "/var/folders/mx/h47vz6_d3cj1b2c96lcwngfh0000gn/T/ipykernel_33783/1022536968.py:16: RuntimeWarning: invalid value encountered in reciprocal\n",
      "  T = np.reciprocal(np.matmul(np.square(vecs), vals))\n"
     ]
    },
    {
     "data": {
      "image/png": "[encoded data removed]",
      "text/plain": [
       "<Figure size 432x288 with 1 Axes>"
      ]
     },
     "metadata": {
      "needs_background": "light"
     },
     "output_type": "display_data"
    }
   ],
   "source": [
    "n_range = np.arange(20, 501, 50)\n",
    "time_near_psd = []\n",
    "time_higham_psd = []\n",
    "for n in n_range:\n",
    "    sigma_current = sigma[:n, :n]\n",
    "    \n",
    "    start_time = time.time()\n",
    "    sigma_fixed_near = near_psd(sigma_current)\n",
    "    time_near = time.time() - start_time\n",
    "    time_near_psd.append(time_near)\n",
    "    \n",
    "    start_time = time.time()\n",
    "    sigma_fixed_higham = Higham_psd(sigma_current)\n",
    "    time_higham = time.time() - start_time\n",
    "    time_higham_psd.append(time_higham)\n",
    "\n",
    "plt.plot(n_range, time_near_psd, label='near_psd')\n",
    "plt.plot(n_range, time_higham_psd, label='Higham_psd')\n",
    "plt.xlabel('n')\n",
    "plt.ylabel('Run time')\n",
    "plt.legend()\n",
    "plt.show()"
   ]
  },
  {
   "cell_type": "markdown",
   "metadata": {},
   "source": [
    "Problem 3\n",
    "\n",
    "Using DailyReturn.csv.\n",
    "\n",
    "Implement a multivariate normal simulation that allows for simulation directly from a covariance matrix or using PCA with an optional parameter for % variance explained. If you have a library that can do these, you still need to implement it yourself for this homework and prove that it functions as expected.\n",
    "\n",
    "Generate a correlation matrix and variance vector 2 ways:\n",
    "\n",
    "1. Standard Pearson correlation/variance (you do not need to reimplement the cor() and\n",
    "var() functions).\n",
    "\n",
    "2. Exponentially weighted λ = 0. 97\n",
    "\n",
    "Combine these to form 4 different covariance matrices. (Pearson correlation + var()), Pearson correlation + EW variance, etc.)\n",
    "\n",
    "Simulate 25,000 draws from each covariance matrix using:\n",
    "\n",
    "1. Direct Simulation\n",
    "\n",
    "2. PCA with 100% explained.\n",
    "\n",
    "3. PCA with 75% explained.\n",
    "\n",
    "4. PCA with 50% explained.\n",
    "\n",
    "Calculate the covariance of the simulated values. Compare the simulated covariance to it’s input matrix using the Frobenius Norm (L2 norm, sum of the square of the difference between the matrices).\n",
    "\n",
    "Compare the run times for each simulation.\n",
    "\n",
    "What can we say about the trade offs between time to run and accuracy."
   ]
  },
  {
   "cell_type": "markdown",
   "metadata": {},
   "source": [
    "Problem 3.1\n",
    "\n",
    "Using DailyReturn.csv.\n",
    "\n",
    "Implement a multivariate normal simulation that allows for simulation directly from a covariance matrix or using PCA with an optional parameter for % variance explained. If you have a library that can do these, you still need to implement it yourself for this homework and prove that it functions as expected.\n"
   ]
  },
  {
   "cell_type": "code",
   "execution_count": 197,
   "metadata": {},
   "outputs": [],
   "source": [
    "#simulation directly from a covariance matrix or using PCA with an optional parameter for % variance explained.\n",
    "def multivar_norm_simu(cov, method='direct', mean = 0, explained_variance=1.0, samples_num=25000):\n",
    "    if method == 'direct':\n",
    "        L = chol_psd(cov)\n",
    "        normal_samples = np.random.normal(size=(cov.shape[0], samples_num))\n",
    "        samples = np.transpose(L @ normal_samples + mean)\n",
    "        return samples\n",
    "    \n",
    "    elif method == 'pca':\n",
    "        vals, vecs = np.linalg.eigh(cov)\n",
    "        idx = vals > 1e-8\n",
    "        vals = vals[idx]\n",
    "        vecs = vecs[:, idx]\n",
    "        \n",
    "        idx = np.argsort(vals)[::-1]\n",
    "        vals = vals[idx]\n",
    "        vecs = vecs[:, idx]\n",
    "        \n",
    "        if explained_variance == 1.0:\n",
    "            explained_variance = (np.cumsum(vals)/np.sum(vals))[-1]\n",
    "        \n",
    "        n_components = np.where((np.cumsum(vals)/np.sum(vals))>= explained_variance)[0][0] + 1\n",
    "        vecs = vecs[:,:n_components]\n",
    "        vals = vals[:n_components]\n",
    "\n",
    "        normal_samples = np.random.normal(size=(n_components, samples_num))\n",
    "        \n",
    "        B = vecs @ np.diag(np.sqrt(vals))\n",
    "        samples = np.transpose(B @ normal_samples)\n",
    "        \n",
    "        return samples"
   ]
  },
  {
   "cell_type": "markdown",
   "metadata": {},
   "source": [
    "Problem 3.2\n",
    "\n",
    "Generate a correlation matrix and variance vector 2 ways:\n",
    "\n",
    "1. Standard Pearson correlation/variance (you do not need to reimplement the cor() and\n",
    "var() functions).\n",
    "\n",
    "2. Exponentially weighted λ = 0. 97\n",
    "\n",
    "Combine these to form 4 different covariance matrices. (Pearson correlation + var()), Pearson correlation + EW variance, etc.)"
   ]
  },
  {
   "cell_type": "markdown",
   "metadata": {},
   "source": [
    "The four combinations are\n",
    "\n",
    "1. Pearson correlation and var\n",
    "\n",
    "2. Pearson correlation and EW variance\n",
    "\n",
    "3. EW(cov+corr)\n",
    "\n",
    "4. EW Corr +Var"
   ]
  },
  {
   "cell_type": "code",
   "execution_count": 191,
   "metadata": {},
   "outputs": [],
   "source": [
    "#1. Pearson correlation and var\n",
    "p_cov_var = np.cov(df, rowvar=False)"
   ]
  },
  {
   "cell_type": "code",
   "execution_count": 203,
   "metadata": {},
   "outputs": [],
   "source": [
    "#2. Pearson correlation and EW variance\n",
    "def p_corr_ew_var_f(returns, lambda_=0.97):\n",
    "    cov = exp_weighted_cov(returns, lambda_)\n",
    "    std_dev = np.sqrt(np.diag(cov))\n",
    "    corr = np.corrcoef(returns.T)\n",
    "    cov = np.outer(std_dev, std_dev) * corr\n",
    "    return cov\n",
    "p_corr_ew_var = p_corr_ew_var_f(df)"
   ]
  },
  {
   "cell_type": "code",
   "execution_count": 192,
   "metadata": {},
   "outputs": [],
   "source": [
    "#3. EW(cov+corr) is exp_weighted_cov(input, lambda_)\n",
    "ew_corr_cov = exp_weighted_cov(df)"
   ]
  },
  {
   "cell_type": "code",
   "execution_count": 193,
   "metadata": {},
   "outputs": [
    {
     "name": "stderr",
     "output_type": "stream",
     "text": [
      "/var/folders/mx/h47vz6_d3cj1b2c96lcwngfh0000gn/T/ipykernel_33783/1176477688.py:5: RuntimeWarning: invalid value encountered in reciprocal\n",
      "  asset_std = np.diag(np.reciprocal(np.sqrt(np.diag(cov))))\n"
     ]
    }
   ],
   "source": [
    "#4. EW Corr +Var\n",
    "def ew_corr_p_var_f(returns, lambda_=0.97):\n",
    "    cov = exp_weighted_cov(returns, lambda_)\n",
    "        \n",
    "    asset_std = np.diag(np.reciprocal(np.sqrt(np.diag(cov))))\n",
    "    corr = asset_std @ cov @ asset_std.T\n",
    "    \n",
    "    var = np.var(returns)\n",
    "    std_dev = np.sqrt(var)\n",
    "    \n",
    "    cov = np.outer(std_dev, std_dev) * corr\n",
    "    return cov\n",
    "\n",
    "ew_corr_p_var = ew_corr_p_var_f(df)"
   ]
  },
  {
   "cell_type": "markdown",
   "metadata": {},
   "source": [
    "Simulate 25,000 draws from each covariance matrix using:\n",
    "\n",
    "1. Direct Simulation\n",
    "\n",
    "2. PCA with 100% explained.\n",
    "\n",
    "3. PCA with 75% explained.\n",
    "\n",
    "4. PCA with 50% explained.\n",
    "\n",
    "Calculate the covariance of the simulated values. Compare the simulated covariance to it’s input matrix using the Frobenius Norm (L2 norm, sum of the square of the difference between the matrices)."
   ]
  },
  {
   "cell_type": "code",
   "execution_count": 200,
   "metadata": {},
   "outputs": [],
   "source": [
    "def time_and_error(covariance_matrix, method, explained_variance=1.0):\n",
    "    \n",
    "    start_time = time.time()\n",
    "    samples = multivar_norm_simu(covariance_matrix, method=method, explained_variance=explained_variance)\n",
    "    time_used = time.time() - start_time\n",
    "    \n",
    "    simulated_covariance = np.cov(samples, rowvar=False)\n",
    "    error = Frobenius(simulated_covariance - covariance_matrix)\n",
    "    \n",
    "    return time_used, error"
   ]
  },
  {
   "cell_type": "code",
   "execution_count": 220,
   "metadata": {},
   "outputs": [],
   "source": [
    "def simulate4(covariance_matrix):\n",
    "    np.random.seed(0)\n",
    "    variances = [1.0, 0.75, 0.5]\n",
    "    \n",
    "    time_used = []\n",
    "    errors = []\n",
    "    labels = []\n",
    "    \n",
    "    t, error = time_and_error(covariance_matrix, 'direct')\n",
    "    time_used.append(t)\n",
    "    errors.append(error)\n",
    "    labels.append(\"direct\")\n",
    "    \n",
    "    for var in variances:\n",
    "        t, error = time_and_error(covariance_matrix, 'pca', var)\n",
    "        time_used.append(t)\n",
    "        errors.append(error)\n",
    "        labels.append(\"PCA with {}\".format(var))\n",
    "            \n",
    "    plt.plot(time_used, errors, 'r+')\n",
    "    \n",
    "    for i, label in enumerate(labels):\n",
    "        plt.annotate(label, (time_used[i], errors[i]))\n",
    "        \n",
    "    plt.xlabel('Time used')\n",
    "    plt.ylabel('Accuracy(Frobenius Norm)')"
   ]
  },
  {
   "cell_type": "code",
   "execution_count": 221,
   "metadata": {},
   "outputs": [
    {
     "data": {
      "image/png": "[encoded data removed]",
      "text/plain": [
       "<Figure size 432x288 with 1 Axes>"
      ]
     },
     "metadata": {
      "needs_background": "light"
     },
     "output_type": "display_data"
    }
   ],
   "source": [
    "simulate4(p_cov_var)"
   ]
  },
  {
   "cell_type": "code",
   "execution_count": 222,
   "metadata": {},
   "outputs": [
    {
     "data": {
      "image/png": "[encoded data removed]",
      "text/plain": [
       "<Figure size 432x288 with 1 Axes>"
      ]
     },
     "metadata": {
      "needs_background": "light"
     },
     "output_type": "display_data"
    }
   ],
   "source": [
    "simulate4(p_corr_ew_var)"
   ]
  },
  {
   "cell_type": "code",
   "execution_count": 223,
   "metadata": {},
   "outputs": [
    {
     "data": {
      "image/png": "[encoded data removed]",
      "text/plain": [
       "<Figure size 432x288 with 1 Axes>"
      ]
     },
     "metadata": {
      "needs_background": "light"
     },
     "output_type": "display_data"
    }
   ],
   "source": [
    "simulate4(ew_corr_cov)"
   ]
  },
  {
   "cell_type": "code",
   "execution_count": 224,
   "metadata": {},
   "outputs": [
    {
     "data": {
      "image/png": "[encoded data removed]",
      "text/plain": [
       "<Figure size 432x288 with 1 Axes>"
      ]
     },
     "metadata": {
      "needs_background": "light"
     },
     "output_type": "display_data"
    }
   ],
   "source": [
    "simulate4(ew_corr_p_var)"
   ]
  }
 ],
 "metadata": {
  "kernelspec": {
   "display_name": "Python 3.9.12 ('base')",
   "language": "python",
   "name": "python3"
  },
  "language_info": {
   "codemirror_mode": {
    "name": "ipython",
    "version": 3
   },
   "file_extension": ".py",
   "mimetype": "text/x-python",
   "name": "python",
   "nbconvert_exporter": "python",
   "pygments_lexer": "ipython3",
   "version": "3.9.12"
  },
  "orig_nbformat": 4,
  "vscode": {
   "interpreter": {
    "hash": "bada05c741908938772dd81041b6c561c9f7d1f74c82862b4ca2e2d664fb5f14"
   }
  }
 },
 "nbformat": 4,
 "nbformat_minor": 2
}
