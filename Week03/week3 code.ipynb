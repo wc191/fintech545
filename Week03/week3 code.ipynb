{
 "cells": [
  {
   "cell_type": "code",
   "execution_count": 6,
   "metadata": {},
   "outputs": [],
   "source": [
    "# import libraries\n",
    "import os\n",
    "import pandas as pd\n",
    "import numpy as np\n",
    "import matplotlib.pyplot as plt\n",
    "from scipy import linalg\n",
    "from numpy.linalg import eigh\n",
    "import sys\n",
    "import itertools\n",
    "import time\n",
    "from matplotlib import pyplot as plt"
   ]
  },
  {
   "cell_type": "code",
   "execution_count": 7,
   "metadata": {},
   "outputs": [],
   "source": [
    "os.chdir(r'C:\\Users\\WANGLIN CAI\\fintech545\\Week03')"
   ]
  },
  {
   "cell_type": "code",
   "execution_count": 8,
   "metadata": {},
   "outputs": [],
   "source": [
    "DR = pd.read_csv('DailyReturn.csv')"
   ]
  },
  {
   "cell_type": "code",
   "execution_count": 26,
   "metadata": {},
   "outputs": [
    {
     "data": {
      "text/html": [
       "<div>\n",
       "<style scoped>\n",
       "    .dataframe tbody tr th:only-of-type {\n",
       "        vertical-align: middle;\n",
       "    }\n",
       "\n",
       "    .dataframe tbody tr th {\n",
       "        vertical-align: top;\n",
       "    }\n",
       "\n",
       "    .dataframe thead th {\n",
       "        text-align: right;\n",
       "    }\n",
       "</style>\n",
       "<table border=\"1\" class=\"dataframe\">\n",
       "  <thead>\n",
       "    <tr style=\"text-align: right;\">\n",
       "      <th></th>\n",
       "      <th>Unnamed: 0</th>\n",
       "      <th>SPY</th>\n",
       "      <th>AAPL</th>\n",
       "      <th>MSFT</th>\n",
       "      <th>AMZN</th>\n",
       "      <th>TSLA</th>\n",
       "      <th>GOOGL</th>\n",
       "      <th>GOOG</th>\n",
       "      <th>FB</th>\n",
       "      <th>NVDA</th>\n",
       "      <th>...</th>\n",
       "      <th>PNC</th>\n",
       "      <th>MDLZ</th>\n",
       "      <th>MO</th>\n",
       "      <th>ADI</th>\n",
       "      <th>GILD</th>\n",
       "      <th>LMT</th>\n",
       "      <th>SYK</th>\n",
       "      <th>GM</th>\n",
       "      <th>TFC</th>\n",
       "      <th>TJX</th>\n",
       "    </tr>\n",
       "  </thead>\n",
       "  <tbody>\n",
       "    <tr>\n",
       "      <th>55</th>\n",
       "      <td>2022/1/10</td>\n",
       "      <td>-0.001244</td>\n",
       "      <td>0.000116</td>\n",
       "      <td>0.000732</td>\n",
       "      <td>-0.006570</td>\n",
       "      <td>0.030342</td>\n",
       "      <td>0.012060</td>\n",
       "      <td>0.011456</td>\n",
       "      <td>-0.011212</td>\n",
       "      <td>0.005615</td>\n",
       "      <td>...</td>\n",
       "      <td>-0.005721</td>\n",
       "      <td>-0.007698</td>\n",
       "      <td>0.015471</td>\n",
       "      <td>0.009240</td>\n",
       "      <td>0.011647</td>\n",
       "      <td>0.008635</td>\n",
       "      <td>0.001062</td>\n",
       "      <td>-0.019271</td>\n",
       "      <td>0.004462</td>\n",
       "      <td>-0.025410</td>\n",
       "    </tr>\n",
       "    <tr>\n",
       "      <th>56</th>\n",
       "      <td>2022/1/11</td>\n",
       "      <td>0.009108</td>\n",
       "      <td>0.016784</td>\n",
       "      <td>0.002259</td>\n",
       "      <td>0.024002</td>\n",
       "      <td>0.005935</td>\n",
       "      <td>0.007691</td>\n",
       "      <td>0.010417</td>\n",
       "      <td>0.019203</td>\n",
       "      <td>0.015219</td>\n",
       "      <td>...</td>\n",
       "      <td>0.006249</td>\n",
       "      <td>0.003431</td>\n",
       "      <td>-0.020974</td>\n",
       "      <td>0.018955</td>\n",
       "      <td>0.003884</td>\n",
       "      <td>0.002450</td>\n",
       "      <td>0.016373</td>\n",
       "      <td>0.006386</td>\n",
       "      <td>0.005667</td>\n",
       "      <td>0.023727</td>\n",
       "    </tr>\n",
       "    <tr>\n",
       "      <th>57</th>\n",
       "      <td>2022/1/12</td>\n",
       "      <td>0.002704</td>\n",
       "      <td>0.002570</td>\n",
       "      <td>0.010445</td>\n",
       "      <td>-0.000937</td>\n",
       "      <td>0.039290</td>\n",
       "      <td>0.012126</td>\n",
       "      <td>0.011645</td>\n",
       "      <td>-0.003320</td>\n",
       "      <td>0.006543</td>\n",
       "      <td>...</td>\n",
       "      <td>0.004870</td>\n",
       "      <td>0.001635</td>\n",
       "      <td>0.000202</td>\n",
       "      <td>0.000691</td>\n",
       "      <td>-0.001658</td>\n",
       "      <td>-0.007799</td>\n",
       "      <td>-0.000522</td>\n",
       "      <td>-0.006996</td>\n",
       "      <td>0.010204</td>\n",
       "      <td>-0.010780</td>\n",
       "    </tr>\n",
       "    <tr>\n",
       "      <th>58</th>\n",
       "      <td>2022/1/13</td>\n",
       "      <td>-0.013779</td>\n",
       "      <td>-0.019028</td>\n",
       "      <td>-0.042323</td>\n",
       "      <td>-0.024170</td>\n",
       "      <td>-0.067491</td>\n",
       "      <td>-0.020105</td>\n",
       "      <td>-0.017769</td>\n",
       "      <td>-0.020344</td>\n",
       "      <td>-0.050859</td>\n",
       "      <td>...</td>\n",
       "      <td>0.006758</td>\n",
       "      <td>0.004008</td>\n",
       "      <td>0.016569</td>\n",
       "      <td>-0.022849</td>\n",
       "      <td>-0.005121</td>\n",
       "      <td>0.010739</td>\n",
       "      <td>-0.000522</td>\n",
       "      <td>0.012125</td>\n",
       "      <td>0.006633</td>\n",
       "      <td>-0.010898</td>\n",
       "    </tr>\n",
       "    <tr>\n",
       "      <th>59</th>\n",
       "      <td>2022/1/14</td>\n",
       "      <td>0.000409</td>\n",
       "      <td>0.005111</td>\n",
       "      <td>0.017717</td>\n",
       "      <td>0.005732</td>\n",
       "      <td>0.017498</td>\n",
       "      <td>0.006447</td>\n",
       "      <td>0.004711</td>\n",
       "      <td>0.016601</td>\n",
       "      <td>0.013810</td>\n",
       "      <td>...</td>\n",
       "      <td>-0.013321</td>\n",
       "      <td>0.006801</td>\n",
       "      <td>0.009938</td>\n",
       "      <td>0.013076</td>\n",
       "      <td>-0.001530</td>\n",
       "      <td>0.020374</td>\n",
       "      <td>-0.004405</td>\n",
       "      <td>-0.010847</td>\n",
       "      <td>0.009585</td>\n",
       "      <td>-0.019694</td>\n",
       "    </tr>\n",
       "  </tbody>\n",
       "</table>\n",
       "<p>5 rows × 102 columns</p>\n",
       "</div>"
      ],
      "text/plain": [
       "   Unnamed: 0       SPY      AAPL      MSFT      AMZN      TSLA     GOOGL  \\\n",
       "55  2022/1/10 -0.001244  0.000116  0.000732 -0.006570  0.030342  0.012060   \n",
       "56  2022/1/11  0.009108  0.016784  0.002259  0.024002  0.005935  0.007691   \n",
       "57  2022/1/12  0.002704  0.002570  0.010445 -0.000937  0.039290  0.012126   \n",
       "58  2022/1/13 -0.013779 -0.019028 -0.042323 -0.024170 -0.067491 -0.020105   \n",
       "59  2022/1/14  0.000409  0.005111  0.017717  0.005732  0.017498  0.006447   \n",
       "\n",
       "        GOOG        FB      NVDA  ...       PNC      MDLZ        MO       ADI  \\\n",
       "55  0.011456 -0.011212  0.005615  ... -0.005721 -0.007698  0.015471  0.009240   \n",
       "56  0.010417  0.019203  0.015219  ...  0.006249  0.003431 -0.020974  0.018955   \n",
       "57  0.011645 -0.003320  0.006543  ...  0.004870  0.001635  0.000202  0.000691   \n",
       "58 -0.017769 -0.020344 -0.050859  ...  0.006758  0.004008  0.016569 -0.022849   \n",
       "59  0.004711  0.016601  0.013810  ... -0.013321  0.006801  0.009938  0.013076   \n",
       "\n",
       "        GILD       LMT       SYK        GM       TFC       TJX  \n",
       "55  0.011647  0.008635  0.001062 -0.019271  0.004462 -0.025410  \n",
       "56  0.003884  0.002450  0.016373  0.006386  0.005667  0.023727  \n",
       "57 -0.001658 -0.007799 -0.000522 -0.006996  0.010204 -0.010780  \n",
       "58 -0.005121  0.010739 -0.000522  0.012125  0.006633 -0.010898  \n",
       "59 -0.001530  0.020374 -0.004405 -0.010847  0.009585 -0.019694  \n",
       "\n",
       "[5 rows x 102 columns]"
      ]
     },
     "execution_count": 26,
     "metadata": {},
     "output_type": "execute_result"
    }
   ],
   "source": [
    "DR.head(5)"
   ]
  },
  {
   "cell_type": "code",
   "execution_count": 20,
   "metadata": {},
   "outputs": [
    {
     "data": {
      "text/html": [
       "<div>\n",
       "<style scoped>\n",
       "    .dataframe tbody tr th:only-of-type {\n",
       "        vertical-align: middle;\n",
       "    }\n",
       "\n",
       "    .dataframe tbody tr th {\n",
       "        vertical-align: top;\n",
       "    }\n",
       "\n",
       "    .dataframe thead th {\n",
       "        text-align: right;\n",
       "    }\n",
       "</style>\n",
       "<table border=\"1\" class=\"dataframe\">\n",
       "  <thead>\n",
       "    <tr style=\"text-align: right;\">\n",
       "      <th></th>\n",
       "      <th>SPY</th>\n",
       "      <th>AAPL</th>\n",
       "      <th>MSFT</th>\n",
       "      <th>AMZN</th>\n",
       "      <th>TSLA</th>\n",
       "      <th>GOOGL</th>\n",
       "      <th>GOOG</th>\n",
       "      <th>FB</th>\n",
       "      <th>NVDA</th>\n",
       "      <th>BRK-B</th>\n",
       "      <th>...</th>\n",
       "      <th>PNC</th>\n",
       "      <th>MDLZ</th>\n",
       "      <th>MO</th>\n",
       "      <th>ADI</th>\n",
       "      <th>GILD</th>\n",
       "      <th>LMT</th>\n",
       "      <th>SYK</th>\n",
       "      <th>GM</th>\n",
       "      <th>TFC</th>\n",
       "      <th>TJX</th>\n",
       "    </tr>\n",
       "  </thead>\n",
       "  <tbody>\n",
       "    <tr>\n",
       "      <th>SPY</th>\n",
       "      <td>0.000078</td>\n",
       "      <td>0.000092</td>\n",
       "      <td>1.010179e-04</td>\n",
       "      <td>0.000086</td>\n",
       "      <td>0.000192</td>\n",
       "      <td>0.000093</td>\n",
       "      <td>0.000094</td>\n",
       "      <td>0.000115</td>\n",
       "      <td>0.000221</td>\n",
       "      <td>3.138730e-05</td>\n",
       "      <td>...</td>\n",
       "      <td>0.000070</td>\n",
       "      <td>0.000029</td>\n",
       "      <td>-0.000012</td>\n",
       "      <td>0.000098</td>\n",
       "      <td>0.000010</td>\n",
       "      <td>2.342080e-05</td>\n",
       "      <td>0.000087</td>\n",
       "      <td>0.000120</td>\n",
       "      <td>0.000086</td>\n",
       "      <td>0.000085</td>\n",
       "    </tr>\n",
       "    <tr>\n",
       "      <th>AAPL</th>\n",
       "      <td>0.000092</td>\n",
       "      <td>0.000257</td>\n",
       "      <td>1.557756e-04</td>\n",
       "      <td>0.000164</td>\n",
       "      <td>0.000321</td>\n",
       "      <td>0.000122</td>\n",
       "      <td>0.000123</td>\n",
       "      <td>0.000122</td>\n",
       "      <td>0.000319</td>\n",
       "      <td>4.840384e-07</td>\n",
       "      <td>...</td>\n",
       "      <td>0.000040</td>\n",
       "      <td>-0.000009</td>\n",
       "      <td>-0.000062</td>\n",
       "      <td>0.000143</td>\n",
       "      <td>0.000006</td>\n",
       "      <td>-1.772938e-06</td>\n",
       "      <td>0.000077</td>\n",
       "      <td>0.000093</td>\n",
       "      <td>0.000044</td>\n",
       "      <td>0.000078</td>\n",
       "    </tr>\n",
       "    <tr>\n",
       "      <th>MSFT</th>\n",
       "      <td>0.000101</td>\n",
       "      <td>0.000156</td>\n",
       "      <td>2.547999e-04</td>\n",
       "      <td>0.000130</td>\n",
       "      <td>0.000302</td>\n",
       "      <td>0.000201</td>\n",
       "      <td>0.000199</td>\n",
       "      <td>0.000148</td>\n",
       "      <td>0.000349</td>\n",
       "      <td>-6.264725e-06</td>\n",
       "      <td>...</td>\n",
       "      <td>0.000009</td>\n",
       "      <td>0.000002</td>\n",
       "      <td>-0.000045</td>\n",
       "      <td>0.000114</td>\n",
       "      <td>-0.000026</td>\n",
       "      <td>4.834127e-07</td>\n",
       "      <td>0.000082</td>\n",
       "      <td>0.000071</td>\n",
       "      <td>0.000025</td>\n",
       "      <td>0.000066</td>\n",
       "    </tr>\n",
       "    <tr>\n",
       "      <th>AMZN</th>\n",
       "      <td>0.000086</td>\n",
       "      <td>0.000164</td>\n",
       "      <td>1.297129e-04</td>\n",
       "      <td>0.000261</td>\n",
       "      <td>0.000166</td>\n",
       "      <td>0.000155</td>\n",
       "      <td>0.000154</td>\n",
       "      <td>0.000152</td>\n",
       "      <td>0.000401</td>\n",
       "      <td>-6.332347e-06</td>\n",
       "      <td>...</td>\n",
       "      <td>0.000018</td>\n",
       "      <td>0.000010</td>\n",
       "      <td>-0.000044</td>\n",
       "      <td>0.000132</td>\n",
       "      <td>0.000003</td>\n",
       "      <td>-2.135792e-05</td>\n",
       "      <td>0.000069</td>\n",
       "      <td>0.000025</td>\n",
       "      <td>0.000037</td>\n",
       "      <td>0.000109</td>\n",
       "    </tr>\n",
       "    <tr>\n",
       "      <th>TSLA</th>\n",
       "      <td>0.000192</td>\n",
       "      <td>0.000321</td>\n",
       "      <td>3.018838e-04</td>\n",
       "      <td>0.000166</td>\n",
       "      <td>0.002052</td>\n",
       "      <td>0.000169</td>\n",
       "      <td>0.000178</td>\n",
       "      <td>0.000275</td>\n",
       "      <td>0.000732</td>\n",
       "      <td>-2.088436e-05</td>\n",
       "      <td>...</td>\n",
       "      <td>0.000129</td>\n",
       "      <td>-0.000085</td>\n",
       "      <td>-0.000136</td>\n",
       "      <td>0.000274</td>\n",
       "      <td>0.000041</td>\n",
       "      <td>5.138087e-05</td>\n",
       "      <td>0.000135</td>\n",
       "      <td>0.000316</td>\n",
       "      <td>0.000177</td>\n",
       "      <td>0.000154</td>\n",
       "    </tr>\n",
       "    <tr>\n",
       "      <th>...</th>\n",
       "      <td>...</td>\n",
       "      <td>...</td>\n",
       "      <td>...</td>\n",
       "      <td>...</td>\n",
       "      <td>...</td>\n",
       "      <td>...</td>\n",
       "      <td>...</td>\n",
       "      <td>...</td>\n",
       "      <td>...</td>\n",
       "      <td>...</td>\n",
       "      <td>...</td>\n",
       "      <td>...</td>\n",
       "      <td>...</td>\n",
       "      <td>...</td>\n",
       "      <td>...</td>\n",
       "      <td>...</td>\n",
       "      <td>...</td>\n",
       "      <td>...</td>\n",
       "      <td>...</td>\n",
       "      <td>...</td>\n",
       "      <td>...</td>\n",
       "    </tr>\n",
       "    <tr>\n",
       "      <th>LMT</th>\n",
       "      <td>0.000023</td>\n",
       "      <td>-0.000002</td>\n",
       "      <td>4.834127e-07</td>\n",
       "      <td>-0.000021</td>\n",
       "      <td>0.000051</td>\n",
       "      <td>-0.000008</td>\n",
       "      <td>0.000005</td>\n",
       "      <td>0.000146</td>\n",
       "      <td>-0.000129</td>\n",
       "      <td>3.723024e-05</td>\n",
       "      <td>...</td>\n",
       "      <td>0.000045</td>\n",
       "      <td>0.000014</td>\n",
       "      <td>0.000032</td>\n",
       "      <td>0.000019</td>\n",
       "      <td>0.000006</td>\n",
       "      <td>3.132292e-04</td>\n",
       "      <td>0.000046</td>\n",
       "      <td>0.000096</td>\n",
       "      <td>0.000059</td>\n",
       "      <td>0.000045</td>\n",
       "    </tr>\n",
       "    <tr>\n",
       "      <th>SYK</th>\n",
       "      <td>0.000087</td>\n",
       "      <td>0.000077</td>\n",
       "      <td>8.152754e-05</td>\n",
       "      <td>0.000069</td>\n",
       "      <td>0.000135</td>\n",
       "      <td>0.000091</td>\n",
       "      <td>0.000091</td>\n",
       "      <td>0.000120</td>\n",
       "      <td>0.000125</td>\n",
       "      <td>5.124850e-05</td>\n",
       "      <td>...</td>\n",
       "      <td>0.000104</td>\n",
       "      <td>0.000031</td>\n",
       "      <td>0.000022</td>\n",
       "      <td>0.000118</td>\n",
       "      <td>0.000015</td>\n",
       "      <td>4.600008e-05</td>\n",
       "      <td>0.000260</td>\n",
       "      <td>0.000181</td>\n",
       "      <td>0.000123</td>\n",
       "      <td>0.000129</td>\n",
       "    </tr>\n",
       "    <tr>\n",
       "      <th>GM</th>\n",
       "      <td>0.000120</td>\n",
       "      <td>0.000093</td>\n",
       "      <td>7.144827e-05</td>\n",
       "      <td>0.000025</td>\n",
       "      <td>0.000316</td>\n",
       "      <td>0.000079</td>\n",
       "      <td>0.000083</td>\n",
       "      <td>0.000119</td>\n",
       "      <td>0.000285</td>\n",
       "      <td>1.153542e-04</td>\n",
       "      <td>...</td>\n",
       "      <td>0.000234</td>\n",
       "      <td>0.000051</td>\n",
       "      <td>0.000057</td>\n",
       "      <td>0.000164</td>\n",
       "      <td>0.000019</td>\n",
       "      <td>9.552426e-05</td>\n",
       "      <td>0.000181</td>\n",
       "      <td>0.000730</td>\n",
       "      <td>0.000236</td>\n",
       "      <td>0.000194</td>\n",
       "    </tr>\n",
       "    <tr>\n",
       "      <th>TFC</th>\n",
       "      <td>0.000086</td>\n",
       "      <td>0.000044</td>\n",
       "      <td>2.494068e-05</td>\n",
       "      <td>0.000037</td>\n",
       "      <td>0.000177</td>\n",
       "      <td>0.000041</td>\n",
       "      <td>0.000041</td>\n",
       "      <td>0.000099</td>\n",
       "      <td>0.000126</td>\n",
       "      <td>1.226939e-04</td>\n",
       "      <td>...</td>\n",
       "      <td>0.000257</td>\n",
       "      <td>0.000067</td>\n",
       "      <td>0.000043</td>\n",
       "      <td>0.000084</td>\n",
       "      <td>0.000030</td>\n",
       "      <td>5.885253e-05</td>\n",
       "      <td>0.000123</td>\n",
       "      <td>0.000236</td>\n",
       "      <td>0.000301</td>\n",
       "      <td>0.000094</td>\n",
       "    </tr>\n",
       "    <tr>\n",
       "      <th>TJX</th>\n",
       "      <td>0.000085</td>\n",
       "      <td>0.000078</td>\n",
       "      <td>6.577223e-05</td>\n",
       "      <td>0.000109</td>\n",
       "      <td>0.000154</td>\n",
       "      <td>0.000081</td>\n",
       "      <td>0.000083</td>\n",
       "      <td>0.000138</td>\n",
       "      <td>0.000146</td>\n",
       "      <td>3.159839e-05</td>\n",
       "      <td>...</td>\n",
       "      <td>0.000084</td>\n",
       "      <td>0.000051</td>\n",
       "      <td>0.000004</td>\n",
       "      <td>0.000106</td>\n",
       "      <td>0.000008</td>\n",
       "      <td>4.524900e-05</td>\n",
       "      <td>0.000129</td>\n",
       "      <td>0.000194</td>\n",
       "      <td>0.000094</td>\n",
       "      <td>0.000277</td>\n",
       "    </tr>\n",
       "  </tbody>\n",
       "</table>\n",
       "<p>101 rows × 101 columns</p>\n",
       "</div>"
      ],
      "text/plain": [
       "           SPY      AAPL          MSFT      AMZN      TSLA     GOOGL  \\\n",
       "SPY   0.000078  0.000092  1.010179e-04  0.000086  0.000192  0.000093   \n",
       "AAPL  0.000092  0.000257  1.557756e-04  0.000164  0.000321  0.000122   \n",
       "MSFT  0.000101  0.000156  2.547999e-04  0.000130  0.000302  0.000201   \n",
       "AMZN  0.000086  0.000164  1.297129e-04  0.000261  0.000166  0.000155   \n",
       "TSLA  0.000192  0.000321  3.018838e-04  0.000166  0.002052  0.000169   \n",
       "...        ...       ...           ...       ...       ...       ...   \n",
       "LMT   0.000023 -0.000002  4.834127e-07 -0.000021  0.000051 -0.000008   \n",
       "SYK   0.000087  0.000077  8.152754e-05  0.000069  0.000135  0.000091   \n",
       "GM    0.000120  0.000093  7.144827e-05  0.000025  0.000316  0.000079   \n",
       "TFC   0.000086  0.000044  2.494068e-05  0.000037  0.000177  0.000041   \n",
       "TJX   0.000085  0.000078  6.577223e-05  0.000109  0.000154  0.000081   \n",
       "\n",
       "          GOOG        FB      NVDA         BRK-B  ...       PNC      MDLZ  \\\n",
       "SPY   0.000094  0.000115  0.000221  3.138730e-05  ...  0.000070  0.000029   \n",
       "AAPL  0.000123  0.000122  0.000319  4.840384e-07  ...  0.000040 -0.000009   \n",
       "MSFT  0.000199  0.000148  0.000349 -6.264725e-06  ...  0.000009  0.000002   \n",
       "AMZN  0.000154  0.000152  0.000401 -6.332347e-06  ...  0.000018  0.000010   \n",
       "TSLA  0.000178  0.000275  0.000732 -2.088436e-05  ...  0.000129 -0.000085   \n",
       "...        ...       ...       ...           ...  ...       ...       ...   \n",
       "LMT   0.000005  0.000146 -0.000129  3.723024e-05  ...  0.000045  0.000014   \n",
       "SYK   0.000091  0.000120  0.000125  5.124850e-05  ...  0.000104  0.000031   \n",
       "GM    0.000083  0.000119  0.000285  1.153542e-04  ...  0.000234  0.000051   \n",
       "TFC   0.000041  0.000099  0.000126  1.226939e-04  ...  0.000257  0.000067   \n",
       "TJX   0.000083  0.000138  0.000146  3.159839e-05  ...  0.000084  0.000051   \n",
       "\n",
       "            MO       ADI      GILD           LMT       SYK        GM  \\\n",
       "SPY  -0.000012  0.000098  0.000010  2.342080e-05  0.000087  0.000120   \n",
       "AAPL -0.000062  0.000143  0.000006 -1.772938e-06  0.000077  0.000093   \n",
       "MSFT -0.000045  0.000114 -0.000026  4.834127e-07  0.000082  0.000071   \n",
       "AMZN -0.000044  0.000132  0.000003 -2.135792e-05  0.000069  0.000025   \n",
       "TSLA -0.000136  0.000274  0.000041  5.138087e-05  0.000135  0.000316   \n",
       "...        ...       ...       ...           ...       ...       ...   \n",
       "LMT   0.000032  0.000019  0.000006  3.132292e-04  0.000046  0.000096   \n",
       "SYK   0.000022  0.000118  0.000015  4.600008e-05  0.000260  0.000181   \n",
       "GM    0.000057  0.000164  0.000019  9.552426e-05  0.000181  0.000730   \n",
       "TFC   0.000043  0.000084  0.000030  5.885253e-05  0.000123  0.000236   \n",
       "TJX   0.000004  0.000106  0.000008  4.524900e-05  0.000129  0.000194   \n",
       "\n",
       "           TFC       TJX  \n",
       "SPY   0.000086  0.000085  \n",
       "AAPL  0.000044  0.000078  \n",
       "MSFT  0.000025  0.000066  \n",
       "AMZN  0.000037  0.000109  \n",
       "TSLA  0.000177  0.000154  \n",
       "...        ...       ...  \n",
       "LMT   0.000059  0.000045  \n",
       "SYK   0.000123  0.000129  \n",
       "GM    0.000236  0.000194  \n",
       "TFC   0.000301  0.000094  \n",
       "TJX   0.000094  0.000277  \n",
       "\n",
       "[101 rows x 101 columns]"
      ]
     },
     "execution_count": 20,
     "metadata": {},
     "output_type": "execute_result"
    }
   ],
   "source": [
    "DR.iloc[:,1:102].cov()"
   ]
  },
  {
   "cell_type": "code",
   "execution_count": 162,
   "metadata": {},
   "outputs": [
    {
     "data": {
      "text/plain": [
       "array([[ 3.86288511e-06,  1.52059856e-05,  1.93204344e-05, ...,\n",
       "        -1.42056816e-05, -1.16327578e-05,  5.01017431e-07],\n",
       "       [ 1.52059856e-05,  1.72836814e-04,  5.57443294e-05, ...,\n",
       "        -4.88781235e-05, -4.03577438e-05,  4.27103200e-06],\n",
       "       [ 1.93204344e-05,  5.57443294e-05,  1.77344032e-04, ...,\n",
       "        -7.96223664e-05, -7.90683802e-05, -1.86135008e-05],\n",
       "       ...,\n",
       "       [-1.42056816e-05, -4.88781235e-05, -7.96223664e-05, ...,\n",
       "         4.87878044e-04,  3.39439295e-05,  5.03572341e-05],\n",
       "       [-1.16327578e-05, -4.03577438e-05, -7.90683802e-05, ...,\n",
       "         3.39439295e-05,  1.47587815e-04, -1.94320736e-05],\n",
       "       [ 5.01017431e-07,  4.27103200e-06, -1.86135008e-05, ...,\n",
       "         5.03572341e-05, -1.94320736e-05,  1.85826826e-04]])"
      ]
     },
     "execution_count": 162,
     "metadata": {},
     "output_type": "execute_result"
    }
   ],
   "source": [
    "def getweight(matrix, L):\n",
    "    \n",
    "    nrows = matrix.shape[0]\n",
    "    weights = np.zeros(nrows)\n",
    "    \n",
    "    for i in range(1,nrows+1):\n",
    "        weights[i-1] = (1 - L) * (L**(i-1))\n",
    "        \n",
    "    return weights/weights.sum()\n",
    "\n",
    "#weights = getweight(0.97,DR.shape[0])\n",
    "\n",
    "def weightedcov(matrix, L):\n",
    "    \n",
    "    weights = getweight(matrix, L)\n",
    "    weightedcov = np.zeros([matrix.shape[1], matrix.shape[1]])\n",
    "    \n",
    "    for i in range(0,matrix.shape[0]):\n",
    "        w = weights[i]\n",
    "        x = np.asmatrix(matrix[i,:]-matrix[i,:].mean())\n",
    "        weightedcov += np.dot(np.dot(w,x).T,x)\n",
    "        \n",
    "    return weightedcov\n",
    "\n",
    "wcov = weightedcov(np.asmatrix(DR.iloc[:,1:102]), L = 0.97)\n",
    "wcov\n",
    "\n"
   ]
  },
  {
   "cell_type": "code",
   "execution_count": 30,
   "metadata": {},
   "outputs": [
    {
     "data": {
      "text/html": [
       "<div>\n",
       "<style scoped>\n",
       "    .dataframe tbody tr th:only-of-type {\n",
       "        vertical-align: middle;\n",
       "    }\n",
       "\n",
       "    .dataframe tbody tr th {\n",
       "        vertical-align: top;\n",
       "    }\n",
       "\n",
       "    .dataframe thead th {\n",
       "        text-align: right;\n",
       "    }\n",
       "</style>\n",
       "<table border=\"1\" class=\"dataframe\">\n",
       "  <thead>\n",
       "    <tr style=\"text-align: right;\">\n",
       "      <th></th>\n",
       "      <th>0</th>\n",
       "      <th>1</th>\n",
       "      <th>2</th>\n",
       "      <th>3</th>\n",
       "      <th>4</th>\n",
       "    </tr>\n",
       "  </thead>\n",
       "  <tbody>\n",
       "    <tr>\n",
       "      <th>0</th>\n",
       "      <td>0.000004</td>\n",
       "      <td>0.000015</td>\n",
       "      <td>0.000019</td>\n",
       "      <td>0.000017</td>\n",
       "      <td>0.000027</td>\n",
       "    </tr>\n",
       "    <tr>\n",
       "      <th>1</th>\n",
       "      <td>0.000015</td>\n",
       "      <td>0.000173</td>\n",
       "      <td>0.000056</td>\n",
       "      <td>0.000097</td>\n",
       "      <td>0.000082</td>\n",
       "    </tr>\n",
       "    <tr>\n",
       "      <th>2</th>\n",
       "      <td>0.000019</td>\n",
       "      <td>0.000056</td>\n",
       "      <td>0.000177</td>\n",
       "      <td>0.000056</td>\n",
       "      <td>0.000083</td>\n",
       "    </tr>\n",
       "    <tr>\n",
       "      <th>3</th>\n",
       "      <td>0.000017</td>\n",
       "      <td>0.000097</td>\n",
       "      <td>0.000056</td>\n",
       "      <td>0.000228</td>\n",
       "      <td>-0.000106</td>\n",
       "    </tr>\n",
       "    <tr>\n",
       "      <th>4</th>\n",
       "      <td>0.000027</td>\n",
       "      <td>0.000082</td>\n",
       "      <td>0.000083</td>\n",
       "      <td>-0.000106</td>\n",
       "      <td>0.002008</td>\n",
       "    </tr>\n",
       "  </tbody>\n",
       "</table>\n",
       "</div>"
      ],
      "text/plain": [
       "          0         1         2         3         4\n",
       "0  0.000004  0.000015  0.000019  0.000017  0.000027\n",
       "1  0.000015  0.000173  0.000056  0.000097  0.000082\n",
       "2  0.000019  0.000056  0.000177  0.000056  0.000083\n",
       "3  0.000017  0.000097  0.000056  0.000228 -0.000106\n",
       "4  0.000027  0.000082  0.000083 -0.000106  0.002008"
      ]
     },
     "execution_count": 30,
     "metadata": {},
     "output_type": "execute_result"
    }
   ],
   "source": [
    "wcov = weightedcov(np.asmatrix(DR.iloc[:,1:102]), L = 0.97)\n",
    "pd.DataFrame(wcov).iloc[:5,:5]"
   ]
  },
  {
   "cell_type": "code",
   "execution_count": 14,
   "metadata": {},
   "outputs": [],
   "source": [
    "def simulate_pca(matrix):\n",
    "    col = []\n",
    "    for i in range(1, matrix.shape[0]+1):\n",
    "            \n",
    "        # Eigenvalue decomposition\n",
    "        vals, vecs = linalg.eig(matrix)\n",
    "        vals = vals.real\n",
    "        vecs = vecs.real\n",
    "        \n",
    "        rank = vals.argsort()\n",
    "        vals = vals[rank]\n",
    "        vecs = vecs[:, rank]\n",
    "        \n",
    "        # sort from big to small\n",
    "        flip = [i for i in range(len(vals)-1, -1, -1)]\n",
    "        vals = vals[flip]\n",
    "        vecs = vecs[:, flip]\n",
    "\n",
    "        tv = sum(vals)\n",
    "\n",
    "        posv = np.where(vals >= 1e-8)[0]\n",
    "        if i < len(posv):\n",
    "            posv = posv[:i]\n",
    "\n",
    "        vals = vals[posv]\n",
    "        vecs = vecs[:, posv]\n",
    "\n",
    "        col.append(sum(vals)/tv*100)\n",
    "    return col\n",
    "    '''\n",
    "    print(f\"Simulating with {len(posv)} PC Factors: {sum(vals)/tv*100:.2f}% total variance explained\")\n",
    "    B = np.dot(vecs, np.diag(np.sqrt(vals)))\n",
    "    \n",
    "    matrix = len(vals)\n",
    "    r = np.random.randn(matrix, nsim)\n",
    "\n",
    "    return np.dot(B, r).T\n",
    "    '''\n",
    "data_1 = pd.DataFrame()\n",
    "data_1['0.1'] = simulate_pca(weightedcov(np.asmatrix(DR.iloc[:,1:102]), L = 0.1))\n",
    "data_1['0.3'] = simulate_pca(weightedcov(np.asmatrix(DR.iloc[:,1:102]), L = 0.3))\n",
    "data_1['0.5'] = simulate_pca(weightedcov(np.asmatrix(DR.iloc[:,1:102]), L = 0.5))\n",
    "data_1['0.7'] = simulate_pca(weightedcov(np.asmatrix(DR.iloc[:,1:102]), L = 0.7))\n",
    "data_1['0.9'] = simulate_pca(weightedcov(np.asmatrix(DR.iloc[:,1:102]), L = 0.9))\n",
    "data_1['0.97'] = simulate_pca(weightedcov(np.asmatrix(DR.iloc[:,1:102]), L = 0.97))\n"
   ]
  },
  {
   "cell_type": "code",
   "execution_count": 15,
   "metadata": {},
   "outputs": [
    {
     "data": {
      "text/html": [
       "<div>\n",
       "<style scoped>\n",
       "    .dataframe tbody tr th:only-of-type {\n",
       "        vertical-align: middle;\n",
       "    }\n",
       "\n",
       "    .dataframe tbody tr th {\n",
       "        vertical-align: top;\n",
       "    }\n",
       "\n",
       "    .dataframe thead th {\n",
       "        text-align: right;\n",
       "    }\n",
       "</style>\n",
       "<table border=\"1\" class=\"dataframe\">\n",
       "  <thead>\n",
       "    <tr style=\"text-align: right;\">\n",
       "      <th></th>\n",
       "      <th>0.1</th>\n",
       "      <th>0.3</th>\n",
       "      <th>0.5</th>\n",
       "      <th>0.7</th>\n",
       "      <th>0.9</th>\n",
       "      <th>0.97</th>\n",
       "    </tr>\n",
       "  </thead>\n",
       "  <tbody>\n",
       "    <tr>\n",
       "      <th>0</th>\n",
       "      <td>88.206919</td>\n",
       "      <td>66.876154</td>\n",
       "      <td>47.404189</td>\n",
       "      <td>29.736156</td>\n",
       "      <td>16.218654</td>\n",
       "      <td>17.198561</td>\n",
       "    </tr>\n",
       "    <tr>\n",
       "      <th>1</th>\n",
       "      <td>99.115104</td>\n",
       "      <td>91.679116</td>\n",
       "      <td>76.620115</td>\n",
       "      <td>54.871920</td>\n",
       "      <td>29.565889</td>\n",
       "      <td>28.032374</td>\n",
       "    </tr>\n",
       "    <tr>\n",
       "      <th>2</th>\n",
       "      <td>99.874669</td>\n",
       "      <td>96.861082</td>\n",
       "      <td>86.916596</td>\n",
       "      <td>68.535799</td>\n",
       "      <td>40.436983</td>\n",
       "      <td>35.291471</td>\n",
       "    </tr>\n",
       "    <tr>\n",
       "      <th>3</th>\n",
       "      <td>99.988662</td>\n",
       "      <td>99.165618</td>\n",
       "      <td>94.180583</td>\n",
       "      <td>79.282425</td>\n",
       "      <td>49.287415</td>\n",
       "      <td>41.762350</td>\n",
       "    </tr>\n",
       "    <tr>\n",
       "      <th>4</th>\n",
       "      <td>99.999142</td>\n",
       "      <td>99.807144</td>\n",
       "      <td>97.653078</td>\n",
       "      <td>87.297130</td>\n",
       "      <td>56.344945</td>\n",
       "      <td>47.560228</td>\n",
       "    </tr>\n",
       "    <tr>\n",
       "      <th>...</th>\n",
       "      <td>...</td>\n",
       "      <td>...</td>\n",
       "      <td>...</td>\n",
       "      <td>...</td>\n",
       "      <td>...</td>\n",
       "      <td>...</td>\n",
       "    </tr>\n",
       "    <tr>\n",
       "      <th>96</th>\n",
       "      <td>99.999993</td>\n",
       "      <td>99.999967</td>\n",
       "      <td>99.999940</td>\n",
       "      <td>99.999915</td>\n",
       "      <td>100.000000</td>\n",
       "      <td>100.000000</td>\n",
       "    </tr>\n",
       "    <tr>\n",
       "      <th>97</th>\n",
       "      <td>99.999993</td>\n",
       "      <td>99.999967</td>\n",
       "      <td>99.999940</td>\n",
       "      <td>99.999915</td>\n",
       "      <td>100.000000</td>\n",
       "      <td>100.000000</td>\n",
       "    </tr>\n",
       "    <tr>\n",
       "      <th>98</th>\n",
       "      <td>99.999993</td>\n",
       "      <td>99.999967</td>\n",
       "      <td>99.999940</td>\n",
       "      <td>99.999915</td>\n",
       "      <td>100.000000</td>\n",
       "      <td>100.000000</td>\n",
       "    </tr>\n",
       "    <tr>\n",
       "      <th>99</th>\n",
       "      <td>99.999993</td>\n",
       "      <td>99.999967</td>\n",
       "      <td>99.999940</td>\n",
       "      <td>99.999915</td>\n",
       "      <td>100.000000</td>\n",
       "      <td>100.000000</td>\n",
       "    </tr>\n",
       "    <tr>\n",
       "      <th>100</th>\n",
       "      <td>99.999993</td>\n",
       "      <td>99.999967</td>\n",
       "      <td>99.999940</td>\n",
       "      <td>99.999915</td>\n",
       "      <td>100.000000</td>\n",
       "      <td>100.000000</td>\n",
       "    </tr>\n",
       "  </tbody>\n",
       "</table>\n",
       "<p>101 rows × 6 columns</p>\n",
       "</div>"
      ],
      "text/plain": [
       "           0.1        0.3        0.5        0.7         0.9        0.97\n",
       "0    88.206919  66.876154  47.404189  29.736156   16.218654   17.198561\n",
       "1    99.115104  91.679116  76.620115  54.871920   29.565889   28.032374\n",
       "2    99.874669  96.861082  86.916596  68.535799   40.436983   35.291471\n",
       "3    99.988662  99.165618  94.180583  79.282425   49.287415   41.762350\n",
       "4    99.999142  99.807144  97.653078  87.297130   56.344945   47.560228\n",
       "..         ...        ...        ...        ...         ...         ...\n",
       "96   99.999993  99.999967  99.999940  99.999915  100.000000  100.000000\n",
       "97   99.999993  99.999967  99.999940  99.999915  100.000000  100.000000\n",
       "98   99.999993  99.999967  99.999940  99.999915  100.000000  100.000000\n",
       "99   99.999993  99.999967  99.999940  99.999915  100.000000  100.000000\n",
       "100  99.999993  99.999967  99.999940  99.999915  100.000000  100.000000\n",
       "\n",
       "[101 rows x 6 columns]"
      ]
     },
     "execution_count": 15,
     "metadata": {},
     "output_type": "execute_result"
    }
   ],
   "source": [
    "data_1"
   ]
  },
  {
   "cell_type": "code",
   "execution_count": 20,
   "metadata": {},
   "outputs": [
    {
     "data": {
      "text/plain": [
       "Text(0, 0.5, 'cumulative variance explained')"
      ]
     },
     "execution_count": 20,
     "metadata": {},
     "output_type": "execute_result"
    },
    {
     "data": {
      "image/png": "[encoded data removed]",
      "text/plain": [
       "<Figure size 640x480 with 1 Axes>"
      ]
     },
     "metadata": {},
     "output_type": "display_data"
    }
   ],
   "source": [
    "plt.title('PCA method')\n",
    "x = np.arange(1,102)\n",
    "plt.plot(x, data_1['0.1'], color = 'green', label='0.1')\n",
    "plt.plot(x, data_1['0.3'], color = 'blue', label='0.3')\n",
    "plt.plot(x, data_1['0.5'], color = 'orange', label='0.5')\n",
    "plt.plot(x, data_1['0.7'], color = 'black', label='0.7')\n",
    "plt.plot(x, data_1['0.9'], color = 'red', label='0.9')\n",
    "plt.plot(x, data_1['0.97'], color = 'purple', label='0.97')\n",
    "plt.legend()\n",
    "plt.xlabel('number of eigenvalues')\n",
    "plt.ylabel('cumulative variance explained')\n"
   ]
  },
  {
   "cell_type": "code",
   "execution_count": 19,
   "metadata": {},
   "outputs": [],
   "source": [
    "## problem 2\n",
    "# implementation of chol_psd, near_psd and Higham psd"
   ]
  },
  {
   "cell_type": "code",
   "execution_count": 39,
   "metadata": {},
   "outputs": [
    {
     "data": {
      "text/plain": [
       "array([[ 3.86288511e-06,  1.52059856e-05,  1.93204344e-05, ...,\n",
       "        -1.42056816e-05, -1.16327578e-05,  5.01017431e-07],\n",
       "       [ 1.52059856e-05,  1.72836814e-04,  5.57443294e-05, ...,\n",
       "        -4.88781235e-05, -4.03577438e-05,  4.27103200e-06],\n",
       "       [ 1.93204344e-05,  5.57443294e-05,  1.77344032e-04, ...,\n",
       "        -7.96223664e-05, -7.90683802e-05, -1.86135008e-05],\n",
       "       ...,\n",
       "       [-1.42056816e-05, -4.88781235e-05, -7.96223664e-05, ...,\n",
       "         4.87878044e-04,  3.39439295e-05,  5.03572341e-05],\n",
       "       [-1.16327578e-05, -4.03577438e-05, -7.90683802e-05, ...,\n",
       "         3.39439295e-05,  1.47587815e-04, -1.94320736e-05],\n",
       "       [ 5.01017431e-07,  4.27103200e-06, -1.86135008e-05, ...,\n",
       "         5.03572341e-05, -1.94320736e-05,  1.85826826e-04]])"
      ]
     },
     "execution_count": 39,
     "metadata": {},
     "output_type": "execute_result"
    }
   ],
   "source": [
    "def chol_psd(matrix):\n",
    "    n = matrix.shape[0]\n",
    "    # Initialize the root matrix with 0 values\n",
    "    root = np.zeros([n,n])\n",
    "\n",
    "    # Loop over columns\n",
    "    for j in range(n):\n",
    "        s = 0.0\n",
    "        # If we are not on the first column, calculate the dot product of the preceding row values.\n",
    "        if j > 0:\n",
    "            s = np.dot(root[j, :j], root[j, :j])\n",
    "        #print(root[j, :j])\n",
    "        #print(s)\n",
    "\n",
    "        # Diagonal Element\n",
    "        temp = matrix[j, j] - s\n",
    "        if temp < 0.0 and temp > -1e-8:\n",
    "            temp = 0.0\n",
    "        root[j, j] = np.sqrt(temp)\n",
    "\n",
    "        # Check for the 0 eigenvalue. Just set the column to 0 if we have one\n",
    "        if root[j, j] == 0.0:\n",
    "            root[j, j+1:].fill(0.0)\n",
    "        else:\n",
    "            # Update off-diagonal rows of the column\n",
    "            ir = 1.0 / root[j, j]\n",
    "            for i in range(j+1, n):\n",
    "                s = np.dot(root[i, :j], root[j, :j])\n",
    "                root[i, j] = (matrix[i, j] - s) * ir\n",
    "    \n",
    "    return root\n",
    "\n",
    "root_matrix = chol_psd(wcov)\n",
    "np.dot(root_matrix,root_matrix.T)\n"
   ]
  },
  {
   "cell_type": "code",
   "execution_count": 40,
   "metadata": {},
   "outputs": [
    {
     "data": {
      "text/plain": [
       "array([[ 3.86288511e-06,  1.52059856e-05,  1.93204344e-05, ...,\n",
       "        -1.42056816e-05, -1.16327578e-05,  5.01017431e-07],\n",
       "       [ 1.52059856e-05,  1.72836814e-04,  5.57443294e-05, ...,\n",
       "        -4.88781235e-05, -4.03577438e-05,  4.27103200e-06],\n",
       "       [ 1.93204344e-05,  5.57443294e-05,  1.77344032e-04, ...,\n",
       "        -7.96223664e-05, -7.90683802e-05, -1.86135008e-05],\n",
       "       ...,\n",
       "       [-1.42056816e-05, -4.88781235e-05, -7.96223664e-05, ...,\n",
       "         4.87878044e-04,  3.39439295e-05,  5.03572341e-05],\n",
       "       [-1.16327578e-05, -4.03577438e-05, -7.90683802e-05, ...,\n",
       "         3.39439295e-05,  1.47587815e-04, -1.94320736e-05],\n",
       "       [ 5.01017431e-07,  4.27103200e-06, -1.86135008e-05, ...,\n",
       "         5.03572341e-05, -1.94320736e-05,  1.85826826e-04]])"
      ]
     },
     "execution_count": 40,
     "metadata": {},
     "output_type": "execute_result"
    }
   ],
   "source": [
    "wcov"
   ]
  },
  {
   "cell_type": "code",
   "execution_count": 66,
   "metadata": {},
   "outputs": [],
   "source": [
    "def near_PSD(matrix, epsilon=0.0):\n",
    "    # check if the matrix is a correlation matrix - if all numbers on the diagonal are one\n",
    "    matrix_diag = np.diag(matrix)\n",
    "    for i in matrix_diag:\n",
    "        assert i == 1\n",
    "    \n",
    "    # calculate the eigenvalues and eigenvectors\n",
    "    e_val, e_vec = eigh(matrix)\n",
    "    \n",
    "    # sort eigenvalues and corresponding eigenvectors in a descending order\n",
    "    index = np.argsort(-1 * e_val)\n",
    "    d_e_val = e_val[index]\n",
    "    d_e_vec = e_vec[:,index]\n",
    "    \n",
    "    # set eigenvalues that are smaller than epsilon to epsilon\n",
    "    d_e_val[d_e_val < epsilon] = epsilon\n",
    "    \n",
    "    # construct the scaling diagonal matrix, calculating t(s) and store them into the list called t_vec\n",
    "    t_vec = []\n",
    "    for i in range(len(d_e_val)):\n",
    "        sum_t = 0\n",
    "        for j in range(len(d_e_val)):\n",
    "            t = pow(d_e_vec[i][j],2) * d_e_val[j]\n",
    "            sum_t += t\n",
    "        t_i = 1 / sum_t\n",
    "        t_vec.append(t_i)\n",
    "    \n",
    "    # construct the resulting near_PSD matrix\n",
    "    B_matrix = np.diag(np.sqrt(t_vec)) @ d_e_vec @ np.diag(np.sqrt(d_e_val))\n",
    "    B_matrix_transpose = B_matrix.transpose()\n",
    "    C_prime_matrix = B_matrix @ B_matrix_transpose\n",
    "    \n",
    "    # checking if eigenvalues are all non-negative now (assuming all significantly small eigenvalues are zero, the tolerance level here is set to be -1e-8)\n",
    "    result_vals, result_vecs = eigh(C_prime_matrix)\n",
    "    neg_result_vals = result_vals[result_vals < 0]\n",
    "    if neg_result_vals.any() < -1e-8:\n",
    "        print(\"There are still significantly negative eigenvalues, recommend to run the function again over the result until a PSD is generated\")\n",
    "    \n",
    "    return C_prime_matrix\n"
   ]
  },
  {
   "cell_type": "code",
   "execution_count": 72,
   "metadata": {},
   "outputs": [],
   "source": [
    "# define a function to calculate Frobenius Norm\n",
    "def F_Norm(matrix):\n",
    "    # get the number of rows and columns of the input matrix\n",
    "    size = matrix.shape\n",
    "    rows = size[0]\n",
    "    columns = size[1]\n",
    "    \n",
    "    # compute the norm\n",
    "    sum = 0\n",
    "    for i in range(rows):\n",
    "        for j in range(columns):\n",
    "            square = pow(matrix[i][j],2)\n",
    "            sum += square\n",
    "    \n",
    "    return sum\n",
    "\n",
    "# define a function calculating PSD via Higham's method\n",
    "def Higham(matrix, tolerance=1e-8):\n",
    "    # set up delta S, Y, and gamma\n",
    "    delta_s = np.full(matrix.shape,0)\n",
    "    Y = matrix.copy()\n",
    "    gamma_last = sys.float_info.max\n",
    "    gamma_now = 0\n",
    "    \n",
    "    # start the actual iteration\n",
    "    for i in itertools.count(start=1):        \n",
    "        R = Y - delta_s\n",
    "        \n",
    "        # conduct the second projection of Higham's method over R\n",
    "        Rval, Rvec = eigh(R)\n",
    "        Rval[Rval < 0] = 0\n",
    "        Rvec_transpose = Rvec.transpose()\n",
    "        \n",
    "        X = Rvec @ np.diag(Rval) @ Rvec_transpose\n",
    "        \n",
    "        delta_s = X - R\n",
    "        \n",
    "        # conduct the first projection of Higham's method over X\n",
    "        size_X = X.shape\n",
    "        for i in range(size_X[0]):\n",
    "            for j in range(size_X[1]):\n",
    "                if i == j:\n",
    "                    Y[i][j] = 1\n",
    "                else:\n",
    "                    Y[i][j] = X[i][j]\n",
    "        \n",
    "        difference_mat = Y - matrix\n",
    "        gamma_now = F_Norm(difference_mat)\n",
    "        \n",
    "        # get eigenvalues and eigenvectors of updated Y\n",
    "        Yval, Yvec = eigh(Y)\n",
    "        \n",
    "        #set breaking conditions\n",
    "        if np.amin(Yval) > -1*tolerance:\n",
    "            break\n",
    "        else:\n",
    "            gamma_last = gamma_now\n",
    "    \n",
    "    return Y\n",
    "\n"
   ]
  },
  {
   "cell_type": "code",
   "execution_count": 37,
   "metadata": {},
   "outputs": [
    {
     "data": {
      "text/plain": [
       "array([[1.    , 0.7357, 0.9   , ..., 0.9   , 0.9   , 0.9   ],\n",
       "       [0.7357, 1.    , 0.9   , ..., 0.9   , 0.9   , 0.9   ],\n",
       "       [0.9   , 0.9   , 1.    , ..., 0.9   , 0.9   , 0.9   ],\n",
       "       ...,\n",
       "       [0.9   , 0.9   , 0.9   , ..., 1.    , 0.9   , 0.9   ],\n",
       "       [0.9   , 0.9   , 0.9   , ..., 0.9   , 1.    , 0.9   ],\n",
       "       [0.9   , 0.9   , 0.9   , ..., 0.9   , 0.9   , 1.    ]])"
      ]
     },
     "execution_count": 37,
     "metadata": {},
     "output_type": "execute_result"
    }
   ],
   "source": [
    "# generate a N * N non-psd correlation matrix\n",
    "N = 1000\n",
    "n_psd = np.full((N, N), 0.9)\n",
    "for i in range(N):\n",
    "    n_psd[i][i] = 1.0\n",
    "n_psd[0][1] = 0.7357\n",
    "n_psd[1][0] = 0.7357\n",
    "n_psd\n",
    "\n"
   ]
  },
  {
   "cell_type": "code",
   "execution_count": 67,
   "metadata": {},
   "outputs": [
    {
     "data": {
      "text/plain": [
       "array([[1.        , 0.74387594, 0.88590719, ..., 0.88590719, 0.88590719,\n",
       "        0.88590719],\n",
       "       [0.74387594, 1.        , 0.88590719, ..., 0.88590719, 0.88590719,\n",
       "        0.88590719],\n",
       "       [0.88590719, 0.88590719, 1.        , ..., 0.90000001, 0.90000001,\n",
       "        0.90000001],\n",
       "       ...,\n",
       "       [0.88590719, 0.88590719, 0.90000001, ..., 1.        , 0.90000001,\n",
       "        0.90000001],\n",
       "       [0.88590719, 0.88590719, 0.90000001, ..., 0.90000001, 1.        ,\n",
       "        0.90000001],\n",
       "       [0.88590719, 0.88590719, 0.90000001, ..., 0.90000001, 0.90000001,\n",
       "        1.        ]])"
      ]
     },
     "execution_count": 67,
     "metadata": {},
     "output_type": "execute_result"
    }
   ],
   "source": [
    "near_PSD(n_psd)"
   ]
  },
  {
   "cell_type": "code",
   "execution_count": 77,
   "metadata": {},
   "outputs": [],
   "source": [
    "N = np.arange(50,501,step=50)\n",
    "f = []\n",
    "for nn in N:\n",
    "    n_psd = np.full((nn, nn), 0.9)\n",
    "    for i in range(nn):\n",
    "        n_psd[i][i] = 1.0\n",
    "    n_psd[0][1] = 0.7357\n",
    "    n_psd[1][0] = 0.7357\n",
    "    n_psd\n",
    "\n",
    "    n = near_PSD(n_psd)\n",
    "    f.append(F_Norm(n - n_psd))"
   ]
  },
  {
   "cell_type": "code",
   "execution_count": 79,
   "metadata": {},
   "outputs": [],
   "source": [
    "f_2 = []\n",
    "for nn in N:\n",
    "    n_psd = np.full((nn, nn), 0.9)\n",
    "    for i in range(nn):\n",
    "        n_psd[i][i] = 1.0\n",
    "    n_psd[0][1] = 0.7357\n",
    "    n_psd[1][0] = 0.7357\n",
    "    n_psd\n",
    "\n",
    "    h = Higham(n_psd)\n",
    "    f_2.append(F_Norm(h - n_psd))"
   ]
  },
  {
   "cell_type": "code",
   "execution_count": 80,
   "metadata": {},
   "outputs": [
    {
     "data": {
      "text/plain": [
       "Text(0, 0.5, 'Frobenius Norm')"
      ]
     },
     "execution_count": 80,
     "metadata": {},
     "output_type": "execute_result"
    },
    {
     "data": {
      "image/png": "[encoded data removed]",
      "text/plain": [
       "<Figure size 640x480 with 1 Axes>"
      ]
     },
     "metadata": {},
     "output_type": "display_data"
    }
   ],
   "source": [
    "\n",
    "plt.title('Frobenius Norm Comparison with Different N')\n",
    "plt.plot(N, f, color = 'green', label='near_psd')\n",
    "plt.plot(N, f_2, color = 'blue', label='Higham')\n",
    "plt.legend()\n",
    "plt.xlabel('n')\n",
    "plt.ylabel('Frobenius Norm')"
   ]
  },
  {
   "cell_type": "code",
   "execution_count": 70,
   "metadata": {},
   "outputs": [
    {
     "name": "stdout",
     "output_type": "stream",
     "text": [
      "Execution time: 1.6926679611206055 seconds\n",
      "[4.44347298e-16 9.99999872e-02 9.99999872e-02 9.99999872e-02\n",
      " 9.99999872e-02 9.99999872e-02 9.99999872e-02 9.99999872e-02\n",
      " 9.99999872e-02 9.99999872e-02 9.99999872e-02 9.99999872e-02\n",
      " 9.99999872e-02 9.99999872e-02 9.99999872e-02 9.99999872e-02\n",
      " 9.99999872e-02 9.99999872e-02 9.99999872e-02 9.99999872e-02\n",
      " 9.99999872e-02 9.99999872e-02 9.99999872e-02 9.99999872e-02\n",
      " 9.99999872e-02 9.99999872e-02 9.99999872e-02 9.99999872e-02\n",
      " 9.99999872e-02 9.99999872e-02 9.99999872e-02 9.99999872e-02\n",
      " 9.99999872e-02 9.99999872e-02 9.99999872e-02 9.99999872e-02\n",
      " 9.99999872e-02 9.99999872e-02 9.99999872e-02 9.99999872e-02\n",
      " 9.99999872e-02 9.99999872e-02 9.99999872e-02 9.99999872e-02\n",
      " 9.99999872e-02 9.99999872e-02 9.99999872e-02 9.99999872e-02\n",
      " 9.99999872e-02 9.99999872e-02 9.99999872e-02 9.99999872e-02\n",
      " 9.99999872e-02 9.99999872e-02 9.99999872e-02 9.99999872e-02\n",
      " 9.99999872e-02 9.99999872e-02 9.99999872e-02 9.99999872e-02\n",
      " 9.99999872e-02 9.99999872e-02 9.99999872e-02 9.99999872e-02\n",
      " 9.99999872e-02 9.99999872e-02 9.99999872e-02 9.99999872e-02\n",
      " 9.99999872e-02 9.99999872e-02 9.99999872e-02 9.99999872e-02\n",
      " 9.99999872e-02 9.99999872e-02 9.99999872e-02 9.99999872e-02\n",
      " 9.99999872e-02 9.99999872e-02 9.99999872e-02 9.99999872e-02\n",
      " 9.99999872e-02 9.99999872e-02 9.99999872e-02 9.99999872e-02\n",
      " 9.99999872e-02 9.99999872e-02 9.99999872e-02 9.99999872e-02\n",
      " 9.99999872e-02 9.99999872e-02 9.99999872e-02 9.99999872e-02\n",
      " 9.99999872e-02 9.99999872e-02 9.99999872e-02 9.99999872e-02\n",
      " 9.99999872e-02 9.99999872e-02 9.99999872e-02 9.99999872e-02\n",
      " 9.99999872e-02 9.99999872e-02 9.99999872e-02 9.99999872e-02\n",
      " 9.99999872e-02 9.99999872e-02 9.99999872e-02 9.99999872e-02\n",
      " 9.99999872e-02 9.99999872e-02 9.99999872e-02 9.99999872e-02\n",
      " 9.99999872e-02 9.99999872e-02 9.99999872e-02 9.99999872e-02\n",
      " 9.99999872e-02 9.99999872e-02 9.99999872e-02 9.99999872e-02\n",
      " 9.99999872e-02 9.99999872e-02 9.99999872e-02 9.99999872e-02\n",
      " 9.99999872e-02 9.99999872e-02 9.99999872e-02 9.99999872e-02\n",
      " 9.99999872e-02 9.99999872e-02 9.99999872e-02 9.99999872e-02\n",
      " 9.99999872e-02 9.99999872e-02 9.99999872e-02 9.99999872e-02\n",
      " 9.99999872e-02 9.99999872e-02 9.99999872e-02 9.99999872e-02\n",
      " 9.99999872e-02 9.99999872e-02 9.99999872e-02 9.99999872e-02\n",
      " 9.99999872e-02 9.99999872e-02 9.99999872e-02 9.99999872e-02\n",
      " 9.99999872e-02 9.99999872e-02 9.99999872e-02 9.99999872e-02\n",
      " 9.99999872e-02 9.99999872e-02 9.99999872e-02 9.99999872e-02\n",
      " 9.99999872e-02 9.99999872e-02 9.99999872e-02 9.99999872e-02\n",
      " 9.99999872e-02 9.99999872e-02 9.99999872e-02 9.99999872e-02\n",
      " 9.99999872e-02 9.99999872e-02 9.99999872e-02 9.99999872e-02\n",
      " 9.99999872e-02 9.99999872e-02 9.99999872e-02 9.99999872e-02\n",
      " 9.99999872e-02 9.99999872e-02 9.99999872e-02 9.99999872e-02\n",
      " 9.99999872e-02 9.99999872e-02 9.99999872e-02 9.99999872e-02\n",
      " 9.99999872e-02 9.99999872e-02 9.99999872e-02 9.99999872e-02\n",
      " 9.99999872e-02 9.99999872e-02 9.99999872e-02 9.99999872e-02\n",
      " 9.99999872e-02 9.99999872e-02 9.99999872e-02 9.99999872e-02\n",
      " 9.99999872e-02 9.99999872e-02 9.99999872e-02 9.99999872e-02\n",
      " 9.99999872e-02 9.99999872e-02 9.99999872e-02 9.99999872e-02\n",
      " 9.99999872e-02 9.99999872e-02 9.99999872e-02 9.99999872e-02\n",
      " 9.99999872e-02 9.99999872e-02 9.99999872e-02 9.99999872e-02\n",
      " 9.99999872e-02 9.99999872e-02 9.99999872e-02 9.99999872e-02\n",
      " 9.99999872e-02 9.99999872e-02 9.99999872e-02 9.99999872e-02\n",
      " 9.99999872e-02 9.99999872e-02 9.99999872e-02 9.99999872e-02\n",
      " 9.99999872e-02 9.99999872e-02 9.99999872e-02 9.99999872e-02\n",
      " 9.99999872e-02 9.99999872e-02 9.99999872e-02 9.99999872e-02\n",
      " 9.99999872e-02 9.99999872e-02 9.99999872e-02 9.99999872e-02\n",
      " 9.99999872e-02 9.99999872e-02 9.99999872e-02 9.99999872e-02\n",
      " 9.99999872e-02 9.99999872e-02 9.99999872e-02 9.99999872e-02\n",
      " 9.99999872e-02 9.99999872e-02 9.99999872e-02 9.99999872e-02\n",
      " 9.99999872e-02 9.99999872e-02 9.99999872e-02 9.99999872e-02\n",
      " 9.99999872e-02 9.99999872e-02 9.99999872e-02 9.99999872e-02\n",
      " 9.99999872e-02 9.99999872e-02 9.99999872e-02 9.99999872e-02\n",
      " 9.99999872e-02 9.99999872e-02 9.99999872e-02 9.99999872e-02\n",
      " 9.99999872e-02 9.99999872e-02 9.99999872e-02 9.99999872e-02\n",
      " 9.99999872e-02 9.99999872e-02 9.99999872e-02 9.99999872e-02\n",
      " 9.99999872e-02 9.99999872e-02 9.99999872e-02 9.99999872e-02\n",
      " 9.99999872e-02 9.99999872e-02 9.99999872e-02 9.99999872e-02\n",
      " 9.99999872e-02 9.99999872e-02 9.99999872e-02 9.99999872e-02\n",
      " 9.99999872e-02 9.99999872e-02 9.99999872e-02 9.99999872e-02\n",
      " 9.99999872e-02 9.99999872e-02 9.99999872e-02 9.99999872e-02\n",
      " 9.99999872e-02 9.99999872e-02 9.99999872e-02 9.99999872e-02\n",
      " 9.99999872e-02 9.99999872e-02 9.99999872e-02 9.99999872e-02\n",
      " 9.99999872e-02 9.99999872e-02 9.99999872e-02 9.99999872e-02\n",
      " 9.99999872e-02 9.99999872e-02 9.99999872e-02 9.99999872e-02\n",
      " 9.99999872e-02 9.99999872e-02 9.99999872e-02 9.99999872e-02\n",
      " 9.99999872e-02 9.99999872e-02 9.99999872e-02 9.99999872e-02\n",
      " 9.99999872e-02 9.99999872e-02 9.99999872e-02 9.99999872e-02\n",
      " 9.99999872e-02 9.99999872e-02 9.99999872e-02 9.99999872e-02\n",
      " 9.99999872e-02 9.99999872e-02 9.99999872e-02 9.99999872e-02\n",
      " 9.99999872e-02 9.99999872e-02 9.99999872e-02 9.99999872e-02\n",
      " 9.99999872e-02 9.99999872e-02 9.99999872e-02 9.99999872e-02\n",
      " 9.99999872e-02 9.99999872e-02 9.99999872e-02 9.99999872e-02\n",
      " 9.99999872e-02 9.99999872e-02 9.99999872e-02 9.99999872e-02\n",
      " 9.99999872e-02 9.99999872e-02 9.99999872e-02 9.99999872e-02\n",
      " 9.99999872e-02 9.99999872e-02 9.99999872e-02 9.99999872e-02\n",
      " 9.99999872e-02 9.99999872e-02 9.99999872e-02 9.99999872e-02\n",
      " 9.99999872e-02 9.99999872e-02 9.99999872e-02 9.99999872e-02\n",
      " 9.99999872e-02 9.99999872e-02 9.99999872e-02 9.99999872e-02\n",
      " 9.99999872e-02 9.99999872e-02 9.99999872e-02 9.99999872e-02\n",
      " 9.99999872e-02 9.99999872e-02 9.99999872e-02 9.99999872e-02\n",
      " 9.99999872e-02 9.99999872e-02 9.99999872e-02 9.99999872e-02\n",
      " 9.99999872e-02 9.99999872e-02 9.99999872e-02 9.99999872e-02\n",
      " 9.99999872e-02 9.99999872e-02 9.99999872e-02 9.99999872e-02\n",
      " 9.99999872e-02 9.99999872e-02 9.99999872e-02 9.99999872e-02\n",
      " 9.99999872e-02 9.99999872e-02 9.99999872e-02 9.99999872e-02\n",
      " 9.99999872e-02 9.99999872e-02 9.99999872e-02 9.99999872e-02\n",
      " 9.99999872e-02 9.99999872e-02 9.99999872e-02 9.99999872e-02\n",
      " 9.99999872e-02 9.99999872e-02 9.99999872e-02 9.99999872e-02\n",
      " 9.99999872e-02 9.99999872e-02 9.99999872e-02 9.99999872e-02\n",
      " 9.99999872e-02 9.99999872e-02 9.99999872e-02 9.99999872e-02\n",
      " 9.99999872e-02 9.99999872e-02 9.99999872e-02 9.99999872e-02\n",
      " 9.99999872e-02 9.99999872e-02 9.99999872e-02 9.99999872e-02\n",
      " 9.99999872e-02 9.99999872e-02 9.99999872e-02 9.99999872e-02\n",
      " 9.99999872e-02 9.99999872e-02 9.99999872e-02 9.99999872e-02\n",
      " 9.99999872e-02 9.99999872e-02 9.99999872e-02 9.99999872e-02\n",
      " 9.99999872e-02 9.99999872e-02 9.99999872e-02 9.99999872e-02\n",
      " 9.99999872e-02 9.99999872e-02 9.99999872e-02 9.99999872e-02\n",
      " 9.99999872e-02 9.99999872e-02 9.99999872e-02 9.99999872e-02\n",
      " 9.99999872e-02 9.99999872e-02 9.99999872e-02 9.99999872e-02\n",
      " 9.99999872e-02 9.99999872e-02 9.99999872e-02 9.99999872e-02\n",
      " 9.99999872e-02 9.99999872e-02 9.99999872e-02 9.99999872e-02\n",
      " 9.99999872e-02 9.99999872e-02 9.99999872e-02 9.99999872e-02\n",
      " 9.99999872e-02 9.99999872e-02 9.99999872e-02 9.99999872e-02\n",
      " 9.99999872e-02 9.99999872e-02 9.99999872e-02 9.99999872e-02\n",
      " 9.99999872e-02 9.99999872e-02 9.99999872e-02 9.99999872e-02\n",
      " 9.99999872e-02 9.99999872e-02 9.99999872e-02 9.99999872e-02\n",
      " 9.99999872e-02 9.99999872e-02 9.99999872e-02 9.99999872e-02\n",
      " 9.99999872e-02 9.99999872e-02 9.99999872e-02 9.99999872e-02\n",
      " 9.99999872e-02 9.99999872e-02 9.99999872e-02 9.99999872e-02\n",
      " 9.99999872e-02 9.99999872e-02 9.99999872e-02 9.99999872e-02\n",
      " 9.99999872e-02 9.99999872e-02 9.99999872e-02 9.99999872e-02\n",
      " 9.99999872e-02 9.99999872e-02 9.99999872e-02 9.99999872e-02\n",
      " 9.99999872e-02 9.99999872e-02 9.99999872e-02 9.99999872e-02\n",
      " 9.99999872e-02 9.99999872e-02 9.99999872e-02 9.99999872e-02\n",
      " 9.99999872e-02 9.99999872e-02 9.99999872e-02 9.99999872e-02\n",
      " 9.99999872e-02 9.99999872e-02 9.99999872e-02 9.99999872e-02\n",
      " 9.99999872e-02 9.99999872e-02 9.99999872e-02 9.99999872e-02\n",
      " 9.99999872e-02 9.99999872e-02 9.99999872e-02 9.99999872e-02\n",
      " 9.99999872e-02 9.99999872e-02 9.99999872e-02 9.99999872e-02\n",
      " 9.99999872e-02 9.99999872e-02 9.99999872e-02 9.99999872e-02\n",
      " 9.99999872e-02 9.99999872e-02 9.99999872e-02 9.99999872e-02\n",
      " 9.99999872e-02 9.99999872e-02 9.99999872e-02 9.99999872e-02\n",
      " 9.99999872e-02 9.99999872e-02 9.99999872e-02 9.99999872e-02\n",
      " 9.99999872e-02 9.99999872e-02 9.99999872e-02 9.99999872e-02\n",
      " 9.99999872e-02 9.99999872e-02 9.99999872e-02 9.99999872e-02\n",
      " 9.99999872e-02 9.99999872e-02 9.99999872e-02 9.99999872e-02\n",
      " 9.99999872e-02 9.99999872e-02 9.99999872e-02 9.99999872e-02\n",
      " 9.99999872e-02 9.99999872e-02 9.99999872e-02 9.99999872e-02\n",
      " 9.99999872e-02 9.99999872e-02 9.99999872e-02 9.99999872e-02\n",
      " 9.99999872e-02 9.99999872e-02 9.99999872e-02 9.99999872e-02\n",
      " 9.99999872e-02 9.99999872e-02 9.99999872e-02 9.99999872e-02\n",
      " 9.99999872e-02 9.99999872e-02 9.99999872e-02 9.99999872e-02\n",
      " 9.99999872e-02 9.99999872e-02 9.99999872e-02 9.99999872e-02\n",
      " 9.99999872e-02 9.99999872e-02 9.99999872e-02 9.99999872e-02\n",
      " 9.99999872e-02 9.99999872e-02 9.99999872e-02 9.99999872e-02\n",
      " 9.99999872e-02 9.99999872e-02 9.99999872e-02 9.99999872e-02\n",
      " 9.99999872e-02 9.99999872e-02 9.99999872e-02 9.99999872e-02\n",
      " 9.99999872e-02 9.99999872e-02 9.99999872e-02 9.99999872e-02\n",
      " 9.99999872e-02 9.99999872e-02 9.99999872e-02 9.99999872e-02\n",
      " 9.99999872e-02 9.99999872e-02 9.99999872e-02 9.99999872e-02\n",
      " 9.99999872e-02 9.99999872e-02 9.99999872e-02 9.99999872e-02\n",
      " 9.99999872e-02 9.99999872e-02 9.99999872e-02 9.99999872e-02\n",
      " 9.99999872e-02 9.99999872e-02 9.99999872e-02 9.99999872e-02\n",
      " 9.99999872e-02 9.99999872e-02 9.99999872e-02 9.99999872e-02\n",
      " 9.99999872e-02 9.99999872e-02 9.99999872e-02 9.99999872e-02\n",
      " 9.99999872e-02 9.99999872e-02 9.99999872e-02 9.99999872e-02\n",
      " 9.99999872e-02 9.99999872e-02 9.99999872e-02 9.99999872e-02\n",
      " 9.99999872e-02 9.99999872e-02 9.99999872e-02 9.99999872e-02\n",
      " 9.99999872e-02 9.99999872e-02 9.99999872e-02 9.99999872e-02\n",
      " 9.99999872e-02 9.99999872e-02 9.99999872e-02 9.99999872e-02\n",
      " 9.99999872e-02 9.99999872e-02 9.99999872e-02 9.99999872e-02\n",
      " 9.99999872e-02 9.99999872e-02 9.99999872e-02 9.99999872e-02\n",
      " 9.99999872e-02 9.99999872e-02 9.99999872e-02 9.99999872e-02\n",
      " 9.99999872e-02 9.99999872e-02 9.99999872e-02 9.99999872e-02\n",
      " 9.99999872e-02 9.99999872e-02 9.99999872e-02 9.99999872e-02\n",
      " 9.99999872e-02 9.99999872e-02 9.99999872e-02 9.99999872e-02\n",
      " 9.99999872e-02 9.99999872e-02 9.99999872e-02 9.99999872e-02\n",
      " 9.99999872e-02 9.99999872e-02 9.99999872e-02 9.99999872e-02\n",
      " 9.99999872e-02 9.99999872e-02 9.99999872e-02 9.99999872e-02\n",
      " 9.99999872e-02 9.99999872e-02 9.99999872e-02 9.99999872e-02\n",
      " 9.99999872e-02 9.99999872e-02 9.99999872e-02 9.99999872e-02\n",
      " 9.99999872e-02 9.99999872e-02 9.99999872e-02 9.99999872e-02\n",
      " 9.99999872e-02 9.99999872e-02 9.99999872e-02 9.99999872e-02\n",
      " 9.99999872e-02 9.99999872e-02 9.99999872e-02 9.99999872e-02\n",
      " 9.99999872e-02 9.99999872e-02 9.99999872e-02 9.99999872e-02\n",
      " 9.99999872e-02 9.99999872e-02 9.99999872e-02 9.99999872e-02\n",
      " 9.99999872e-02 9.99999872e-02 9.99999872e-02 9.99999872e-02\n",
      " 9.99999872e-02 9.99999872e-02 9.99999872e-02 9.99999872e-02\n",
      " 9.99999872e-02 9.99999872e-02 9.99999872e-02 9.99999872e-02\n",
      " 9.99999872e-02 9.99999872e-02 9.99999872e-02 9.99999872e-02\n",
      " 9.99999872e-02 9.99999872e-02 9.99999872e-02 9.99999872e-02\n",
      " 9.99999872e-02 9.99999872e-02 9.99999872e-02 9.99999872e-02\n",
      " 9.99999872e-02 9.99999872e-02 9.99999872e-02 9.99999872e-02\n",
      " 9.99999872e-02 9.99999872e-02 9.99999872e-02 9.99999872e-02\n",
      " 9.99999872e-02 9.99999872e-02 9.99999872e-02 9.99999872e-02\n",
      " 9.99999872e-02 9.99999872e-02 9.99999872e-02 9.99999872e-02\n",
      " 9.99999872e-02 9.99999872e-02 9.99999872e-02 9.99999872e-02\n",
      " 9.99999872e-02 9.99999872e-02 9.99999872e-02 9.99999872e-02\n",
      " 9.99999872e-02 9.99999872e-02 9.99999872e-02 9.99999872e-02\n",
      " 9.99999872e-02 9.99999872e-02 9.99999872e-02 9.99999872e-02\n",
      " 9.99999872e-02 9.99999872e-02 9.99999872e-02 9.99999872e-02\n",
      " 9.99999872e-02 9.99999872e-02 9.99999872e-02 9.99999872e-02\n",
      " 9.99999872e-02 9.99999872e-02 9.99999872e-02 9.99999872e-02\n",
      " 9.99999872e-02 9.99999872e-02 9.99999872e-02 9.99999872e-02\n",
      " 9.99999872e-02 9.99999872e-02 9.99999872e-02 9.99999872e-02\n",
      " 9.99999872e-02 9.99999872e-02 9.99999872e-02 9.99999872e-02\n",
      " 9.99999872e-02 9.99999872e-02 9.99999872e-02 9.99999872e-02\n",
      " 9.99999872e-02 9.99999872e-02 9.99999872e-02 9.99999872e-02\n",
      " 9.99999872e-02 9.99999872e-02 9.99999872e-02 9.99999872e-02\n",
      " 9.99999872e-02 9.99999872e-02 9.99999872e-02 9.99999872e-02\n",
      " 9.99999872e-02 9.99999872e-02 9.99999872e-02 9.99999872e-02\n",
      " 9.99999872e-02 9.99999872e-02 9.99999872e-02 9.99999872e-02\n",
      " 9.99999872e-02 9.99999872e-02 9.99999872e-02 9.99999872e-02\n",
      " 9.99999872e-02 9.99999872e-02 9.99999872e-02 9.99999872e-02\n",
      " 9.99999872e-02 9.99999872e-02 9.99999872e-02 9.99999872e-02\n",
      " 9.99999872e-02 9.99999872e-02 9.99999872e-02 9.99999872e-02\n",
      " 9.99999872e-02 9.99999872e-02 9.99999872e-02 9.99999872e-02\n",
      " 9.99999872e-02 9.99999872e-02 9.99999872e-02 9.99999872e-02\n",
      " 9.99999872e-02 9.99999872e-02 9.99999872e-02 9.99999872e-02\n",
      " 9.99999872e-02 9.99999872e-02 9.99999872e-02 9.99999872e-02\n",
      " 9.99999872e-02 9.99999872e-02 9.99999872e-02 9.99999872e-02\n",
      " 9.99999872e-02 9.99999872e-02 9.99999872e-02 9.99999872e-02\n",
      " 9.99999872e-02 9.99999872e-02 9.99999872e-02 9.99999872e-02\n",
      " 9.99999872e-02 9.99999872e-02 9.99999872e-02 9.99999872e-02\n",
      " 9.99999872e-02 9.99999872e-02 9.99999872e-02 9.99999872e-02\n",
      " 9.99999872e-02 9.99999872e-02 9.99999872e-02 9.99999872e-02\n",
      " 9.99999872e-02 9.99999872e-02 9.99999872e-02 9.99999872e-02\n",
      " 9.99999872e-02 9.99999872e-02 9.99999872e-02 9.99999872e-02\n",
      " 9.99999872e-02 9.99999872e-02 9.99999872e-02 9.99999872e-02\n",
      " 9.99999872e-02 9.99999872e-02 9.99999872e-02 9.99999872e-02\n",
      " 9.99999872e-02 9.99999872e-02 9.99999872e-02 9.99999872e-02\n",
      " 9.99999872e-02 9.99999872e-02 9.99999872e-02 9.99999872e-02\n",
      " 9.99999872e-02 9.99999872e-02 9.99999872e-02 9.99999872e-02\n",
      " 9.99999872e-02 9.99999872e-02 9.99999872e-02 9.99999872e-02\n",
      " 9.99999872e-02 9.99999872e-02 9.99999872e-02 9.99999872e-02\n",
      " 9.99999872e-02 9.99999872e-02 9.99999872e-02 9.99999872e-02\n",
      " 9.99999872e-02 9.99999872e-02 9.99999872e-02 9.99999872e-02\n",
      " 9.99999872e-02 9.99999872e-02 9.99999872e-02 9.99999872e-02\n",
      " 9.99999872e-02 9.99999872e-02 9.99999872e-02 9.99999872e-02\n",
      " 9.99999872e-02 9.99999872e-02 9.99999872e-02 9.99999872e-02\n",
      " 9.99999872e-02 9.99999872e-02 9.99999872e-02 9.99999872e-02\n",
      " 9.99999872e-02 9.99999872e-02 9.99999872e-02 9.99999872e-02\n",
      " 9.99999872e-02 9.99999872e-02 9.99999872e-02 9.99999872e-02\n",
      " 9.99999872e-02 9.99999872e-02 9.99999872e-02 9.99999872e-02\n",
      " 9.99999872e-02 9.99999872e-02 9.99999872e-02 9.99999872e-02\n",
      " 9.99999872e-02 9.99999872e-02 9.99999872e-02 9.99999872e-02\n",
      " 9.99999872e-02 9.99999872e-02 9.99999872e-02 9.99999872e-02\n",
      " 9.99999872e-02 9.99999872e-02 9.99999872e-02 9.99999872e-02\n",
      " 9.99999872e-02 9.99999872e-02 9.99999872e-02 9.99999872e-02\n",
      " 9.99999872e-02 9.99999872e-02 9.99999872e-02 9.99999872e-02\n",
      " 9.99999872e-02 9.99999872e-02 9.99999872e-02 9.99999872e-02\n",
      " 9.99999872e-02 9.99999872e-02 9.99999872e-02 9.99999872e-02\n",
      " 9.99999872e-02 9.99999872e-02 9.99999872e-02 9.99999872e-02\n",
      " 9.99999872e-02 9.99999872e-02 9.99999872e-02 9.99999872e-02\n",
      " 9.99999872e-02 9.99999872e-02 9.99999872e-02 9.99999872e-02\n",
      " 9.99999872e-02 9.99999872e-02 9.99999872e-02 9.99999872e-02\n",
      " 9.99999872e-02 9.99999872e-02 9.99999872e-02 9.99999872e-02\n",
      " 9.99999872e-02 9.99999872e-02 2.56124064e-01 9.00043889e+02]\n"
     ]
    },
    {
     "data": {
      "text/plain": [
       "0.7929738933947517"
      ]
     },
     "execution_count": 70,
     "metadata": {},
     "output_type": "execute_result"
    }
   ],
   "source": [
    "# implement near_PSD()\n",
    "# execute the above function, and print execution time used\n",
    "st = time.time()\n",
    "n = near_PSD(n_psd)\n",
    "et = time.time()\n",
    "exe_time = et - st\n",
    "print(\"Execution time:\", exe_time, \"seconds\")\n",
    "\n",
    "# Check eigenvalues of the resulting matrix\n",
    "nval, nvec = eigh(n)\n",
    "np.where(nval<0)\n",
    "\n",
    "# compute the Fabenious norm, as defined below, of the difference between resulting matrix n and original matrix n_psd\n",
    "F_Norm(n - n_psd)"
   ]
  },
  {
   "cell_type": "code",
   "execution_count": null,
   "metadata": {},
   "outputs": [],
   "source": [
    "# implement Higham()\n",
    "# execute the above function, and print execution time used\n",
    "st_2 = time.time()\n",
    "h = Higham(n_psd)\n",
    "et_2 = time.time()\n",
    "exe_time_2 = et_2 - st_2\n",
    "print(\"Execution time:\", exe_time_2, \"seconds\")\n",
    "\n",
    "# Check eigenvalues of the resulting matrix\n",
    "hval_2, hvec_2 = eigh(h)\n",
    "hval_2\n",
    "\n",
    "# compute the Fabenious norm, as defined below, of the difference between resulting matrix n and original matrix n_psd\n",
    "F_Norm(h - n_psd)"
   ]
  },
  {
   "cell_type": "code",
   "execution_count": 73,
   "metadata": {},
   "outputs": [
    {
     "data": {
      "text/plain": [
       "array([[1.        , 0.79928959, 0.8998726 , ..., 0.8998726 , 0.8998726 ,\n",
       "        0.8998726 ],\n",
       "       [0.79928959, 1.        , 0.8998726 , ..., 0.8998726 , 0.8998726 ,\n",
       "        0.8998726 ],\n",
       "       [0.8998726 , 0.8998726 , 1.        , ..., 0.90000026, 0.90000026,\n",
       "        0.90000026],\n",
       "       ...,\n",
       "       [0.8998726 , 0.8998726 , 0.90000026, ..., 1.        , 0.90000026,\n",
       "        0.90000026],\n",
       "       [0.8998726 , 0.8998726 , 0.90000026, ..., 0.90000026, 1.        ,\n",
       "        0.90000026],\n",
       "       [0.8998726 , 0.8998726 , 0.90000026, ..., 0.90000026, 0.90000026,\n",
       "        1.        ]])"
      ]
     },
     "execution_count": 73,
     "metadata": {},
     "output_type": "execute_result"
    }
   ],
   "source": [
    "Higham(n_psd)"
   ]
  },
  {
   "cell_type": "code",
   "execution_count": 74,
   "metadata": {},
   "outputs": [
    {
     "data": {
      "text/plain": [
       "(array([], dtype=int64),)"
      ]
     },
     "execution_count": 74,
     "metadata": {},
     "output_type": "execute_result"
    }
   ],
   "source": [
    "np.where(nval<0)"
   ]
  },
  {
   "cell_type": "code",
   "execution_count": 81,
   "metadata": {},
   "outputs": [],
   "source": [
    "N = np.arange(50,501,step=50)\n",
    "f = []\n",
    "for nn in N:\n",
    "    n_psd = np.full((nn, nn), 0.9)\n",
    "    for i in range(nn):\n",
    "        n_psd[i][i] = 1.0\n",
    "    n_psd[0][1] = 0.7357\n",
    "    n_psd[1][0] = 0.7357\n",
    "    \n",
    "    st = time.time()\n",
    "    n = near_PSD(n_psd)\n",
    "    et = time.time()\n",
    "    f.append(et - st)\n",
    "\n",
    "f_2 = []\n",
    "for nn in N:\n",
    "    n_psd = np.full((nn, nn), 0.9)\n",
    "    for i in range(nn):\n",
    "        n_psd[i][i] = 1.0\n",
    "    n_psd[0][1] = 0.7357\n",
    "    n_psd[1][0] = 0.7357\n",
    "\n",
    "    st_2 = time.time()\n",
    "    h = Higham(n_psd)\n",
    "    et_2 = time.time()\n",
    "    \n",
    "    f_2.append(et_2 - st_2)"
   ]
  },
  {
   "cell_type": "code",
   "execution_count": 82,
   "metadata": {},
   "outputs": [
    {
     "data": {
      "text/plain": [
       "Text(0, 0.5, 'Frobenius Norm')"
      ]
     },
     "execution_count": 82,
     "metadata": {},
     "output_type": "execute_result"
    },
    {
     "data": {
      "image/png": "[encoded data removed]",
      "text/plain": [
       "<Figure size 640x480 with 1 Axes>"
      ]
     },
     "metadata": {},
     "output_type": "display_data"
    }
   ],
   "source": [
    "\n",
    "plt.title('Frobenius Norm Comparison with Different N')\n",
    "plt.plot(N, f, color = 'green', label='near_psd')\n",
    "plt.plot(N, f_2, color = 'blue', label='Higham')\n",
    "plt.legend()\n",
    "plt.xlabel('n')\n",
    "plt.ylabel('Frobenius Norm')"
   ]
  },
  {
   "cell_type": "code",
   "execution_count": 168,
   "metadata": {},
   "outputs": [],
   "source": [
    "# problem 3\n",
    "\n",
    "def simulate_pca(matrix, nsim, nval = None):\n",
    "            \n",
    "    # Eigenvalue decomposition\n",
    "    vals, vecs = linalg.eig(matrix)\n",
    "    vals = vals.real\n",
    "    vecs = vecs.real\n",
    "    \n",
    "    rank = vals.argsort()\n",
    "    vals = vals[rank]\n",
    "    vecs = vecs[:, rank]\n",
    "    \n",
    "    # sort from big to small\n",
    "    flip = [i for i in range(len(vals)-1, -1, -1)]\n",
    "    vals = vals[flip]\n",
    "    vecs = vecs[:, flip]\n",
    "    #print(vals)\n",
    "    tv = sum(vals)\n",
    "\n",
    "    posv = np.where(vals >= 1e-8)[0]\n",
    "    if nval != None:\n",
    "        if nval < len(posv):\n",
    "            posv = posv[:nval]\n",
    "\n",
    "    vals = vals[posv]\n",
    "    vecs = vecs[:, posv]\n",
    "\n",
    "    print(f\"Simulating with {len(posv)} PC Factors: {sum(vals)/tv*100:.2f}% total variance explained\")\n",
    "    B = np.dot(vecs, np.diag(np.sqrt(vals)))\n",
    "    \n",
    "    r = np.random.randn(len(vals), nsim)\n",
    "\n",
    "    return np.dot(B, r)\n",
    "\n",
    "def direct_simulate(a, nsim):\n",
    "    # get eigenvalues and eigenvectors of the input matrix\n",
    "    val, vec = eigh(a)\n",
    "    sort_index = np.argsort(-1 * val)\n",
    "    d_sorted_val = val[sort_index]\n",
    "    d_sorted_vec = vec[:,sort_index]\n",
    "    \n",
    "    # to check if all eigenvalues are non-negative or negative but effectively zero, and set all effectively-zero eigenvalues to zero\n",
    "    assert np.amin(d_sorted_val) > -1e-8\n",
    "    d_sorted_val[d_sorted_val<0] = 0\n",
    "    \n",
    "    # construct the matrix for the simulating process\n",
    "    B = d_sorted_vec @ np.diag(np.sqrt(d_sorted_val))\n",
    "    r = np.random.randn(len(d_sorted_val),nsim)\n",
    "    \n",
    "    result = np.dot(B, r)\n",
    "    \n",
    "    return result\n"
   ]
  },
  {
   "cell_type": "code",
   "execution_count": 123,
   "metadata": {},
   "outputs": [
    {
     "data": {
      "text/plain": [
       "array([[1.    , 0.7357, 0.9   , ..., 0.9   , 0.9   , 0.9   ],\n",
       "       [0.7357, 1.    , 0.9   , ..., 0.9   , 0.9   , 0.9   ],\n",
       "       [0.9   , 0.9   , 1.    , ..., 0.9   , 0.9   , 0.9   ],\n",
       "       ...,\n",
       "       [0.9   , 0.9   , 0.9   , ..., 1.    , 0.9   , 0.9   ],\n",
       "       [0.9   , 0.9   , 0.9   , ..., 0.9   , 1.    , 0.9   ],\n",
       "       [0.9   , 0.9   , 0.9   , ..., 0.9   , 0.9   , 1.    ]])"
      ]
     },
     "execution_count": 123,
     "metadata": {},
     "output_type": "execute_result"
    }
   ],
   "source": [
    "# generate a N * N non-psd correlation matrix\n",
    "N = 100\n",
    "n_psd = np.full((N, N), 0.9)\n",
    "for i in range(N):\n",
    "    n_psd[i][i] = 1.0\n",
    "n_psd[0][1] = 0.7357\n",
    "n_psd[1][0] = 0.7357\n",
    "n_psd\n"
   ]
  },
  {
   "cell_type": "code",
   "execution_count": 163,
   "metadata": {},
   "outputs": [
    {
     "name": "stdout",
     "output_type": "stream",
     "text": [
      "Simulating with 99 PC Factors: 100.06% total variance explained\n"
     ]
    },
    {
     "data": {
      "text/plain": [
       "array([[ 1.1879193 , -0.24902943, -0.45047059, ...,  1.43518791,\n",
       "        -0.58709555, -0.70962988],\n",
       "       [ 1.43585534,  0.63632264, -0.43816213, ...,  2.16692017,\n",
       "        -0.52264512, -1.21017767],\n",
       "       [ 0.84685908,  0.48665052, -0.30078612, ...,  1.6670532 ,\n",
       "        -0.68874572, -1.00208553],\n",
       "       ...,\n",
       "       [ 1.01689564,  0.18773296, -0.70235366, ...,  1.83108881,\n",
       "        -0.1924842 , -1.04468962],\n",
       "       [ 1.32959908, -0.53390326, -0.31190687, ...,  1.77659646,\n",
       "        -0.60502475, -1.12870014],\n",
       "       [ 1.79827058,  0.19746457, -0.53891826, ...,  1.64857563,\n",
       "        -0.2144838 , -0.79284631]])"
      ]
     },
     "execution_count": 163,
     "metadata": {},
     "output_type": "execute_result"
    }
   ],
   "source": [
    "np.cov(simulate_pca(n_psd, 25000, nval = None)"
   ]
  },
  {
   "cell_type": "code",
   "execution_count": 186,
   "metadata": {},
   "outputs": [],
   "source": [
    "wcov = weightedcov(np.asmatrix(DR.iloc[:,1:102]), L = 0.97)\n",
    "cov = np.cov(DR.iloc[:,1:102])"
   ]
  },
  {
   "cell_type": "code",
   "execution_count": 164,
   "metadata": {},
   "outputs": [
    {
     "name": "stdout",
     "output_type": "stream",
     "text": [
      "Simulating with 60 PC Factors: 100.00% total variance explained\n"
     ]
    },
    {
     "data": {
      "text/plain": [
       "array([[ 3.84224155e-06,  1.50188048e-05,  1.92565584e-05, ...,\n",
       "        -1.44894175e-05, -1.17176532e-05,  3.75718970e-07],\n",
       "       [ 1.50188048e-05,  1.69723241e-04,  5.54220770e-05, ...,\n",
       "        -4.77176360e-05, -4.17014583e-05,  2.32767492e-06],\n",
       "       [ 1.92565584e-05,  5.54220770e-05,  1.77694600e-04, ...,\n",
       "        -8.16715226e-05, -7.99721154e-05, -1.84200244e-05],\n",
       "       ...,\n",
       "       [-1.44894175e-05, -4.77176360e-05, -8.16715226e-05, ...,\n",
       "         4.92942254e-04,  3.48471387e-05,  4.93895073e-05],\n",
       "       [-1.17176532e-05, -4.17014583e-05, -7.99721154e-05, ...,\n",
       "         3.48471387e-05,  1.46332645e-04, -1.95936053e-05],\n",
       "       [ 3.75718970e-07,  2.32767492e-06, -1.84200244e-05, ...,\n",
       "         4.93895073e-05, -1.95936053e-05,  1.87389393e-04]])"
      ]
     },
     "execution_count": 164,
     "metadata": {},
     "output_type": "execute_result"
    }
   ],
   "source": [
    "np.cov(simulate_pca(wcov, 25000, nval = None))"
   ]
  },
  {
   "cell_type": "code",
   "execution_count": 169,
   "metadata": {},
   "outputs": [
    {
     "name": "stdout",
     "output_type": "stream",
     "text": [
      "Execution time: 0.5993995666503906 seconds\n"
     ]
    },
    {
     "data": {
      "text/plain": [
       "3.414994025214227e-08"
      ]
     },
     "execution_count": 169,
     "metadata": {},
     "output_type": "execute_result"
    }
   ],
   "source": [
    "# implement ew\n",
    "# execute the above function, and print execution time used\n",
    "st = time.time()\n",
    "n = np.cov(direct_simulate(wcov, 25000))\n",
    "et = time.time()\n",
    "exe_time = et - st\n",
    "print(\"Execution time:\", exe_time, \"seconds\")\n",
    "\n",
    "# compute the Fabenious norm, as defined below, of the difference between resulting matrix n and original matrix n_psd\n",
    "F_Norm(n - wcov)"
   ]
  },
  {
   "cell_type": "code",
   "execution_count": 176,
   "metadata": {},
   "outputs": [
    {
     "name": "stdout",
     "output_type": "stream",
     "text": [
      "Simulating with 60 PC Factors: 100.00% total variance explained\n",
      "Execution time: 0.07103133201599121 seconds\n"
     ]
    },
    {
     "data": {
      "text/plain": [
       "3.5418361872461544e-08"
      ]
     },
     "execution_count": 176,
     "metadata": {},
     "output_type": "execute_result"
    }
   ],
   "source": [
    "# implement ew\n",
    "# execute the above function, and print execution time used\n",
    "st = time.time()\n",
    "n = np.cov(simulate_pca(wcov, 25000))\n",
    "et = time.time()\n",
    "exe_time = et - st\n",
    "print(\"Execution time:\", exe_time, \"seconds\")\n",
    "\n",
    "# compute the Fabenious norm, as defined below, of the difference between resulting matrix n and original matrix n_psd\n",
    "F_Norm(n - wcov)"
   ]
  },
  {
   "cell_type": "code",
   "execution_count": 177,
   "metadata": {},
   "outputs": [
    {
     "name": "stdout",
     "output_type": "stream",
     "text": [
      "Simulating with 13 PC Factors: 74.44% total variance explained\n",
      "Execution time: 0.05301356315612793 seconds\n"
     ]
    },
    {
     "data": {
      "text/plain": [
       "2.232385242120468e-06"
      ]
     },
     "execution_count": 177,
     "metadata": {},
     "output_type": "execute_result"
    }
   ],
   "source": [
    "# implement ew\n",
    "# execute the above function, and print execution time used\n",
    "st = time.time()\n",
    "n = np.cov(simulate_pca(wcov, 25000, nval = 13))\n",
    "et = time.time()\n",
    "exe_time = et - st\n",
    "print(\"Execution time:\", exe_time, \"seconds\")\n",
    "\n",
    "# compute the Fabenious norm, as defined below, of the difference between resulting matrix n and original matrix n_psd\n",
    "F_Norm(n - wcov)"
   ]
  },
  {
   "cell_type": "code",
   "execution_count": 180,
   "metadata": {},
   "outputs": [
    {
     "name": "stdout",
     "output_type": "stream",
     "text": [
      "Simulating with 5 PC Factors: 47.56% total variance explained\n",
      "Execution time: 0.04590868949890137 seconds\n"
     ]
    },
    {
     "data": {
      "text/plain": [
       "9.819525369507181e-06"
      ]
     },
     "execution_count": 180,
     "metadata": {},
     "output_type": "execute_result"
    }
   ],
   "source": [
    "# implement ew\n",
    "# execute the above function, and print execution time used\n",
    "st = time.time()\n",
    "n = np.cov(simulate_pca(wcov, 25000, nval = 5))\n",
    "et = time.time()\n",
    "exe_time = et - st\n",
    "print(\"Execution time:\", exe_time, \"seconds\")\n",
    "\n",
    "# compute the Fabenious norm, as defined below, of the difference between resulting matrix n and original matrix n_psd\n",
    "F_Norm(n - wcov)"
   ]
  },
  {
   "cell_type": "code",
   "execution_count": 200,
   "metadata": {},
   "outputs": [
    {
     "data": {
      "text/plain": [
       "Text(0, 0.5, 'Frobenius Norm')"
      ]
     },
     "execution_count": 200,
     "metadata": {},
     "output_type": "execute_result"
    },
    {
     "data": {
      "image/png": "[encoded data removed]",
      "text/plain": [
       "<Figure size 640x480 with 1 Axes>"
      ]
     },
     "metadata": {},
     "output_type": "display_data"
    }
   ],
   "source": [
    "plt.title('EW')\n",
    "plt.plot(0.5993995666503906 , 3.414994025214227e-08, 'o', color = 'green', label='direct')\n",
    "plt.plot(0.07103133201599121, 3.5418361872461544e-08 ,'o', color = 'blue', label='pca 100%')\n",
    "plt.plot(0.05301356315612793, 2.232385242120468e-06, 'o',color = 'red', label='pca 75%')\n",
    "plt.plot(0.04590868949890137, 9.819525369507181e-06, 'o',color = 'orange', label='pca 50%')\n",
    "plt.legend()\n",
    "plt.xlabel('run time')\n",
    "plt.ylabel('Frobenius Norm')"
   ]
  },
  {
   "cell_type": "code",
   "execution_count": 193,
   "metadata": {},
   "outputs": [
    {
     "name": "stdout",
     "output_type": "stream",
     "text": [
      "Execution time: 0.05800747871398926 seconds\n"
     ]
    }
   ],
   "source": [
    "# implement ew\n",
    "# execute the above function, and print execution time used\n",
    "st = time.time()\n",
    "n = np.cov(direct_simulate(cov, 25000))\n",
    "et = time.time()\n",
    "exe_time1 = et - st\n",
    "print(\"Execution time:\", exe_time1, \"seconds\")\n",
    "\n",
    "# compute the Fabenious norm, as defined below, of the difference between resulting matrix n and original matrix n_psd\n",
    "a1 = F_Norm(n - cov)"
   ]
  },
  {
   "cell_type": "code",
   "execution_count": 194,
   "metadata": {},
   "outputs": [
    {
     "name": "stdout",
     "output_type": "stream",
     "text": [
      "Simulating with 60 PC Factors: 100.00% total variance explained\n",
      "Execution time: 0.052321434020996094 seconds\n"
     ]
    }
   ],
   "source": [
    "# implement ew\n",
    "# execute the above function, and print execution time used\n",
    "st = time.time()\n",
    "n = np.cov(simulate_pca(cov, 25000))\n",
    "et = time.time()\n",
    "exe_time2 = et - st\n",
    "print(\"Execution time:\", exe_time2, \"seconds\")\n",
    "\n",
    "# compute the Fabenious norm, as defined below, of the difference between resulting matrix n and original matrix n_psd\n",
    "a2 = F_Norm(n - cov)"
   ]
  },
  {
   "cell_type": "code",
   "execution_count": 202,
   "metadata": {},
   "outputs": [
    {
     "name": "stdout",
     "output_type": "stream",
     "text": [
      "Simulating with 14 PC Factors: 74.90% total variance explained\n",
      "Execution time: 0.031000852584838867 seconds\n"
     ]
    }
   ],
   "source": [
    "# implement ew\n",
    "# execute the above function, and print execution time used\n",
    "st = time.time()\n",
    "n = np.cov(simulate_pca(cov, 25000, nval = 14))\n",
    "et = time.time()\n",
    "exe_time3 = et - st\n",
    "print(\"Execution time:\", exe_time3, \"seconds\")\n",
    "\n",
    "# compute the Fabenious norm, as defined below, of the difference between resulting matrix n and original matrix n_psd\n",
    "a3 = F_Norm(n - cov)"
   ]
  },
  {
   "cell_type": "code",
   "execution_count": 203,
   "metadata": {},
   "outputs": [
    {
     "name": "stdout",
     "output_type": "stream",
     "text": [
      "Simulating with 5 PC Factors: 50.00% total variance explained\n",
      "Execution time: 0.022594690322875977 seconds\n"
     ]
    }
   ],
   "source": [
    "# implement ew\n",
    "# execute the above function, and print execution time used\n",
    "st = time.time()\n",
    "n = np.cov(simulate_pca(cov, 25000, nval = 5))\n",
    "et = time.time()\n",
    "exe_time4 = et - st\n",
    "print(\"Execution time:\", exe_time4, \"seconds\")\n",
    "\n",
    "# compute the Fabenious norm, as defined below, of the difference between resulting matrix n and original matrix n_psd\n",
    "a4 = F_Norm(n - cov)"
   ]
  },
  {
   "cell_type": "code",
   "execution_count": 204,
   "metadata": {},
   "outputs": [
    {
     "data": {
      "text/plain": [
       "Text(0, 0.5, 'Frobenius Norm')"
      ]
     },
     "execution_count": 204,
     "metadata": {},
     "output_type": "execute_result"
    },
    {
     "data": {
      "image/png": "[encoded data removed]",
      "text/plain": [
       "<Figure size 640x480 with 1 Axes>"
      ]
     },
     "metadata": {},
     "output_type": "display_data"
    }
   ],
   "source": [
    "plt.title('Pearson correlation and var')\n",
    "plt.plot( exe_time1, a1, 'o', color = 'green', label='direct')\n",
    "plt.plot(exe_time2, a2 ,'o', color = 'blue', label='pca 100%')\n",
    "plt.plot(exe_time3,a3 , 'o',color = 'red', label='pca 75%')\n",
    "plt.plot(exe_time4, a4, 'o',color = 'orange', label='pca 50%')\n",
    "plt.legend()\n",
    "plt.xlabel('run time')\n",
    "plt.ylabel('Frobenius Norm')"
   ]
  },
  {
   "cell_type": "code",
   "execution_count": 216,
   "metadata": {},
   "outputs": [],
   "source": [
    "def exwVarMat(w_cov_mat):\n",
    "    # the diagonal of exponentially weighted matrix is the expontially weighted variances\n",
    "    w_var_mat = np.diag(w_cov_mat)\n",
    "    \n",
    "    return w_var_mat\n",
    "\n",
    "w_var = exwVarMat(wcov)\n",
    "w_std = np.sqrt(w_var)\n",
    "# compute the exponentially weighted correlation matrix for later use\n",
    "w_cor = np.zeros((len(wcov),len(wcov)))\n",
    "std = DR.iloc[:,1:102].std()\n",
    "# compute (normally computed) correlation matrix for later use\n",
    "cor = DR.iloc[:,1:102].corr()\n",
    "\n",
    "for i in range(len(wcov)):\n",
    "    for j in range(len(wcov)):\n",
    "        w_cor[i][j] = wcov[i,j] / (w_std[i] * w_std[j])\n",
    "        \n",
    "cov4 = np.zeros((len(w_cor),len(w_cor)))\n",
    "for i in range(len(w_cor)):\n",
    "    for j in range(len(w_cor)):\n",
    "        cov4[i][j] = w_cor[i][j] * std[i] * std[j]\n",
    "\n",
    "cov2 = np.zeros((len(cor),len(cor)))\n",
    "for i in range(len(cor)):\n",
    "    for j in range(len(cor)):\n",
    "        cov2[i][j] = cor.iloc[i,j] * w_std[i] * w_std[j]"
   ]
  },
  {
   "cell_type": "code",
   "execution_count": 214,
   "metadata": {},
   "outputs": [
    {
     "name": "stdout",
     "output_type": "stream",
     "text": [
      "Execution time: 0.10488367080688477 seconds\n",
      "Simulating with 60 PC Factors: 100.00% total variance explained\n",
      "Execution time: 0.07800054550170898 seconds\n",
      "Simulating with 13 PC Factors: 73.37% total variance explained\n",
      "Execution time: 0.04815316200256348 seconds\n",
      "Simulating with 5 PC Factors: 47.41% total variance explained\n",
      "Execution time: 0.04100394248962402 seconds\n"
     ]
    }
   ],
   "source": [
    "# implement ew\n",
    "# execute the above function, and print execution time used\n",
    "st = time.time()\n",
    "n = np.cov(direct_simulate(cov4, 25000))\n",
    "et = time.time()\n",
    "exe_time1 = et - st\n",
    "print(\"Execution time:\", exe_time1, \"seconds\")\n",
    "\n",
    "# compute the Fabenious norm, as defined below, of the difference between resulting matrix n and original matrix n_psd\n",
    "a1 = F_Norm(n - cov4)\n",
    "\n",
    "# implement ew\n",
    "# execute the above function, and print execution time used\n",
    "st = time.time()\n",
    "n = np.cov(simulate_pca(cov4, 25000))\n",
    "et = time.time()\n",
    "exe_time2 = et - st\n",
    "print(\"Execution time:\", exe_time2, \"seconds\")\n",
    "\n",
    "# compute the Fabenious norm, as defined below, of the difference between resulting matrix n and original matrix n_psd\n",
    "a2 = F_Norm(n - cov4)\n",
    "\n",
    "# implement ew\n",
    "# execute the above function, and print execution time used\n",
    "st = time.time()\n",
    "n = np.cov(simulate_pca(cov4, 25000, nval = 13))\n",
    "et = time.time()\n",
    "exe_time3 = et - st\n",
    "print(\"Execution time:\", exe_time3, \"seconds\")\n",
    "\n",
    "# compute the Fabenious norm, as defined below, of the difference between resulting matrix n and original matrix n_psd\n",
    "a3 = F_Norm(n - cov4)\n",
    "\n",
    "# implement ew\n",
    "# execute the above function, and print execution time used\n",
    "st = time.time()\n",
    "n = np.cov(simulate_pca(cov4, 25000, nval = 5))\n",
    "et = time.time()\n",
    "exe_time4 = et - st\n",
    "print(\"Execution time:\", exe_time4, \"seconds\")\n",
    "\n",
    "# compute the Fabenious norm, as defined below, of the difference between resulting matrix n and original matrix n_psd\n",
    "a4 = F_Norm(n - cov4)"
   ]
  },
  {
   "cell_type": "code",
   "execution_count": 215,
   "metadata": {},
   "outputs": [
    {
     "data": {
      "text/plain": [
       "Text(0, 0.5, 'Frobenius Norm')"
      ]
     },
     "execution_count": 215,
     "metadata": {},
     "output_type": "execute_result"
    },
    {
     "data": {
      "image/png": "[encoded data removed]",
      "text/plain": [
       "<Figure size 640x480 with 1 Axes>"
      ]
     },
     "metadata": {},
     "output_type": "display_data"
    }
   ],
   "source": [
    "plt.title('EW correlation + var')\n",
    "plt.plot( exe_time1, a1, 'o', color = 'green', label='direct')\n",
    "plt.plot(exe_time2, a2 ,'o', color = 'blue', label='pca 100%')\n",
    "plt.plot(exe_time3,a3 , 'o',color = 'red', label='pca 75%')\n",
    "plt.plot(exe_time4, a4, 'o',color = 'orange', label='pca 50%')\n",
    "plt.legend()\n",
    "plt.xlabel('run time')\n",
    "plt.ylabel('Frobenius Norm')"
   ]
  },
  {
   "cell_type": "code",
   "execution_count": 219,
   "metadata": {},
   "outputs": [
    {
     "name": "stdout",
     "output_type": "stream",
     "text": [
      "Execution time: 0.10800385475158691 seconds\n",
      "Simulating with 59 PC Factors: 100.00% total variance explained\n",
      "Execution time: 0.07390689849853516 seconds\n",
      "Simulating with 11 PC Factors: 73.80% total variance explained\n",
      "Execution time: 0.04600119590759277 seconds\n",
      "Simulating with 3 PC Factors: 45.87% total variance explained\n",
      "Execution time: 0.043825626373291016 seconds\n"
     ]
    }
   ],
   "source": [
    "# implement ew\n",
    "# execute the above function, and print execution time used\n",
    "st = time.time()\n",
    "n = np.cov(direct_simulate(cov2, 25000))\n",
    "et = time.time()\n",
    "exe_time1 = et - st\n",
    "print(\"Execution time:\", exe_time1, \"seconds\")\n",
    "\n",
    "# compute the Fabenious norm, as defined below, of the difference between resulting matrix n and original matrix n_psd\n",
    "a1 = F_Norm(n - cov2)\n",
    "\n",
    "# implement ew\n",
    "# execute the above function, and print execution time used\n",
    "st = time.time()\n",
    "n = np.cov(simulate_pca(cov2, 25000))\n",
    "et = time.time()\n",
    "exe_time2 = et - st\n",
    "print(\"Execution time:\", exe_time2, \"seconds\")\n",
    "\n",
    "# compute the Fabenious norm, as defined below, of the difference between resulting matrix n and original matrix n_psd\n",
    "a2 = F_Norm(n - cov2)\n",
    "\n",
    "# implement ew\n",
    "# execute the above function, and print execution time used\n",
    "st = time.time()\n",
    "n = np.cov(simulate_pca(cov2, 25000, nval = 11))\n",
    "et = time.time()\n",
    "exe_time3 = et - st\n",
    "print(\"Execution time:\", exe_time3, \"seconds\")\n",
    "\n",
    "# compute the Fabenious norm, as defined below, of the difference between resulting matrix n and original matrix n_psd\n",
    "a3 = F_Norm(n - cov2)\n",
    "\n",
    "# implement ew\n",
    "# execute the above function, and print execution time used\n",
    "st = time.time()\n",
    "n = np.cov(simulate_pca(cov2, 25000, nval = 3))\n",
    "et = time.time()\n",
    "exe_time4 = et - st\n",
    "print(\"Execution time:\", exe_time4, \"seconds\")\n",
    "\n",
    "# compute the Fabenious norm, as defined below, of the difference between resulting matrix n and original matrix n_psd\n",
    "a4 = F_Norm(n - cov2)"
   ]
  },
  {
   "cell_type": "code",
   "execution_count": 220,
   "metadata": {},
   "outputs": [
    {
     "data": {
      "text/plain": [
       "Text(0, 0.5, 'Frobenius Norm')"
      ]
     },
     "execution_count": 220,
     "metadata": {},
     "output_type": "execute_result"
    },
    {
     "data": {
      "image/png": "[encoded data removed]",
      "text/plain": [
       "<Figure size 640x480 with 1 Axes>"
      ]
     },
     "metadata": {},
     "output_type": "display_data"
    }
   ],
   "source": [
    "plt.title('Pearson correlation and EW variance')\n",
    "plt.plot( exe_time1, a1, 'o', color = 'green', label='direct')\n",
    "plt.plot(exe_time2, a2 ,'o', color = 'blue', label='pca 100%')\n",
    "plt.plot(exe_time3,a3 , 'o',color = 'red', label='pca 75%')\n",
    "plt.plot(exe_time4, a4, 'o',color = 'orange', label='pca 50%')\n",
    "plt.legend()\n",
    "plt.xlabel('run time')\n",
    "plt.ylabel('Frobenius Norm')"
   ]
  },
  {
   "cell_type": "code",
   "execution_count": null,
   "metadata": {},
   "outputs": [],
   "source": []
  }
 ],
 "metadata": {
  "kernelspec": {
   "display_name": "Python 3",
   "language": "python",
   "name": "python3"
  },
  "language_info": {
   "codemirror_mode": {
    "name": "ipython",
    "version": 3
   },
   "file_extension": ".py",
   "mimetype": "text/x-python",
   "name": "python",
   "nbconvert_exporter": "python",
   "pygments_lexer": "ipython3",
   "version": "3.10.3"
  },
  "orig_nbformat": 4,
  "vscode": {
   "interpreter": {
    "hash": "6b475a9657af21a44ad9c743f6d355eb686a7b25bf6add97a26c30ff5c2c747d"
   }
  }
 },
 "nbformat": 4,
 "nbformat_minor": 2
}
