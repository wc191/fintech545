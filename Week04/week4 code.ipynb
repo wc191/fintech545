{
 "cells": [
  {
   "cell_type": "code",
   "execution_count": 1,
   "metadata": {},
   "outputs": [],
   "source": [
    "# import libraries\n",
    "import os\n",
    "import pandas as pd\n",
    "import numpy as np\n",
    "import matplotlib.pyplot as plt\n",
    "from scipy.stats import norm\n",
    "import seaborn as sns\n",
    "from scipy.stats import t\n",
    "from scipy.optimize import minimize\n",
    "import statsmodels.api as sm\n",
    "from statsmodels.tsa.ar_model import AutoReg\n",
    "from matplotlib import pyplot as plt"
   ]
  },
  {
   "cell_type": "code",
   "execution_count": 2,
   "metadata": {},
   "outputs": [],
   "source": [
    "os.chdir(r'C:\\Users\\WANGLIN CAI\\fintech545\\Week04')"
   ]
  },
  {
   "cell_type": "code",
   "execution_count": 73,
   "metadata": {},
   "outputs": [
    {
     "data": {
      "text/plain": [
       "'c:\\\\Users\\\\WANGLIN CAI\\\\fintech545\\\\Week04'"
      ]
     },
     "execution_count": 73,
     "metadata": {},
     "output_type": "execute_result"
    }
   ],
   "source": [
    "os.getcwd()"
   ]
  },
  {
   "cell_type": "code",
   "execution_count": 3,
   "metadata": {},
   "outputs": [
    {
     "data": {
      "text/html": [
       "<div>\n",
       "<style scoped>\n",
       "    .dataframe tbody tr th:only-of-type {\n",
       "        vertical-align: middle;\n",
       "    }\n",
       "\n",
       "    .dataframe tbody tr th {\n",
       "        vertical-align: top;\n",
       "    }\n",
       "\n",
       "    .dataframe thead th {\n",
       "        text-align: right;\n",
       "    }\n",
       "</style>\n",
       "<table border=\"1\" class=\"dataframe\">\n",
       "  <thead>\n",
       "    <tr style=\"text-align: right;\">\n",
       "      <th></th>\n",
       "      <th>Date</th>\n",
       "      <th>SPY</th>\n",
       "      <th>AAPL</th>\n",
       "      <th>MSFT</th>\n",
       "      <th>AMZN</th>\n",
       "      <th>TSLA</th>\n",
       "      <th>GOOGL</th>\n",
       "      <th>GOOG</th>\n",
       "      <th>META</th>\n",
       "      <th>NVDA</th>\n",
       "      <th>...</th>\n",
       "      <th>PNC</th>\n",
       "      <th>MDLZ</th>\n",
       "      <th>MO</th>\n",
       "      <th>ADI</th>\n",
       "      <th>GILD</th>\n",
       "      <th>LMT</th>\n",
       "      <th>SYK</th>\n",
       "      <th>GM</th>\n",
       "      <th>TFC</th>\n",
       "      <th>TJX</th>\n",
       "    </tr>\n",
       "  </thead>\n",
       "  <tbody>\n",
       "    <tr>\n",
       "      <th>0</th>\n",
       "      <td>2/14/2022 0:00</td>\n",
       "      <td>432.011322</td>\n",
       "      <td>167.863144</td>\n",
       "      <td>292.261475</td>\n",
       "      <td>155.167007</td>\n",
       "      <td>291.920013</td>\n",
       "      <td>135.526001</td>\n",
       "      <td>135.300003</td>\n",
       "      <td>217.699997</td>\n",
       "      <td>242.443298</td>\n",
       "      <td>...</td>\n",
       "      <td>197.263107</td>\n",
       "      <td>64.592575</td>\n",
       "      <td>46.290192</td>\n",
       "      <td>151.118790</td>\n",
       "      <td>58.443172</td>\n",
       "      <td>377.068665</td>\n",
       "      <td>247.324020</td>\n",
       "      <td>48.182598</td>\n",
       "      <td>60.352272</td>\n",
       "      <td>66.789505</td>\n",
       "    </tr>\n",
       "    <tr>\n",
       "      <th>1</th>\n",
       "      <td>2/15/2022 0:00</td>\n",
       "      <td>438.978333</td>\n",
       "      <td>171.749573</td>\n",
       "      <td>297.680664</td>\n",
       "      <td>156.510498</td>\n",
       "      <td>307.476654</td>\n",
       "      <td>136.608505</td>\n",
       "      <td>136.425507</td>\n",
       "      <td>221.000000</td>\n",
       "      <td>264.702484</td>\n",
       "      <td>...</td>\n",
       "      <td>199.789520</td>\n",
       "      <td>64.328896</td>\n",
       "      <td>46.502743</td>\n",
       "      <td>159.029022</td>\n",
       "      <td>58.653572</td>\n",
       "      <td>372.440185</td>\n",
       "      <td>255.490829</td>\n",
       "      <td>49.446892</td>\n",
       "      <td>62.076630</td>\n",
       "      <td>67.673614</td>\n",
       "    </tr>\n",
       "    <tr>\n",
       "      <th>2</th>\n",
       "      <td>2/16/2022 0:00</td>\n",
       "      <td>439.470337</td>\n",
       "      <td>171.511032</td>\n",
       "      <td>297.333191</td>\n",
       "      <td>158.100494</td>\n",
       "      <td>307.796661</td>\n",
       "      <td>137.738007</td>\n",
       "      <td>137.487503</td>\n",
       "      <td>216.539993</td>\n",
       "      <td>264.862305</td>\n",
       "      <td>...</td>\n",
       "      <td>201.139511</td>\n",
       "      <td>64.172638</td>\n",
       "      <td>46.770744</td>\n",
       "      <td>165.211960</td>\n",
       "      <td>59.198696</td>\n",
       "      <td>377.000458</td>\n",
       "      <td>256.349976</td>\n",
       "      <td>50.203476</td>\n",
       "      <td>61.990410</td>\n",
       "      <td>65.915215</td>\n",
       "    </tr>\n",
       "    <tr>\n",
       "      <th>3</th>\n",
       "      <td>2/17/2022 0:00</td>\n",
       "      <td>430.082642</td>\n",
       "      <td>167.863144</td>\n",
       "      <td>288.626679</td>\n",
       "      <td>154.652496</td>\n",
       "      <td>292.116669</td>\n",
       "      <td>132.539002</td>\n",
       "      <td>132.308502</td>\n",
       "      <td>207.710007</td>\n",
       "      <td>244.841064</td>\n",
       "      <td>...</td>\n",
       "      <td>194.109894</td>\n",
       "      <td>64.514450</td>\n",
       "      <td>47.473091</td>\n",
       "      <td>157.448944</td>\n",
       "      <td>58.615318</td>\n",
       "      <td>378.822571</td>\n",
       "      <td>248.439911</td>\n",
       "      <td>48.600708</td>\n",
       "      <td>59.921181</td>\n",
       "      <td>64.019295</td>\n",
       "    </tr>\n",
       "    <tr>\n",
       "      <th>4</th>\n",
       "      <td>2/18/2022 0:00</td>\n",
       "      <td>427.297852</td>\n",
       "      <td>166.292648</td>\n",
       "      <td>285.846893</td>\n",
       "      <td>152.601502</td>\n",
       "      <td>285.660004</td>\n",
       "      <td>130.403000</td>\n",
       "      <td>130.467499</td>\n",
       "      <td>206.160004</td>\n",
       "      <td>236.199127</td>\n",
       "      <td>...</td>\n",
       "      <td>193.984528</td>\n",
       "      <td>64.455841</td>\n",
       "      <td>47.815025</td>\n",
       "      <td>157.380234</td>\n",
       "      <td>58.385788</td>\n",
       "      <td>376.571686</td>\n",
       "      <td>245.042847</td>\n",
       "      <td>48.381695</td>\n",
       "      <td>59.700851</td>\n",
       "      <td>64.981995</td>\n",
       "    </tr>\n",
       "  </tbody>\n",
       "</table>\n",
       "<p>5 rows × 101 columns</p>\n",
       "</div>"
      ],
      "text/plain": [
       "             Date         SPY        AAPL        MSFT        AMZN        TSLA  \\\n",
       "0  2/14/2022 0:00  432.011322  167.863144  292.261475  155.167007  291.920013   \n",
       "1  2/15/2022 0:00  438.978333  171.749573  297.680664  156.510498  307.476654   \n",
       "2  2/16/2022 0:00  439.470337  171.511032  297.333191  158.100494  307.796661   \n",
       "3  2/17/2022 0:00  430.082642  167.863144  288.626679  154.652496  292.116669   \n",
       "4  2/18/2022 0:00  427.297852  166.292648  285.846893  152.601502  285.660004   \n",
       "\n",
       "        GOOGL        GOOG        META        NVDA  ...         PNC       MDLZ  \\\n",
       "0  135.526001  135.300003  217.699997  242.443298  ...  197.263107  64.592575   \n",
       "1  136.608505  136.425507  221.000000  264.702484  ...  199.789520  64.328896   \n",
       "2  137.738007  137.487503  216.539993  264.862305  ...  201.139511  64.172638   \n",
       "3  132.539002  132.308502  207.710007  244.841064  ...  194.109894  64.514450   \n",
       "4  130.403000  130.467499  206.160004  236.199127  ...  193.984528  64.455841   \n",
       "\n",
       "          MO         ADI       GILD         LMT         SYK         GM  \\\n",
       "0  46.290192  151.118790  58.443172  377.068665  247.324020  48.182598   \n",
       "1  46.502743  159.029022  58.653572  372.440185  255.490829  49.446892   \n",
       "2  46.770744  165.211960  59.198696  377.000458  256.349976  50.203476   \n",
       "3  47.473091  157.448944  58.615318  378.822571  248.439911  48.600708   \n",
       "4  47.815025  157.380234  58.385788  376.571686  245.042847  48.381695   \n",
       "\n",
       "         TFC        TJX  \n",
       "0  60.352272  66.789505  \n",
       "1  62.076630  67.673614  \n",
       "2  61.990410  65.915215  \n",
       "3  59.921181  64.019295  \n",
       "4  59.700851  64.981995  \n",
       "\n",
       "[5 rows x 101 columns]"
      ]
     },
     "execution_count": 3,
     "metadata": {},
     "output_type": "execute_result"
    }
   ],
   "source": [
    "portfolio = pd.read_csv('Portfolio.csv')\n",
    "DP = pd.read_csv('DailyPrices.csv')\n",
    "DP.head(5)"
   ]
  },
  {
   "cell_type": "code",
   "execution_count": null,
   "metadata": {},
   "outputs": [],
   "source": [
    "# Q1"
   ]
  },
  {
   "cell_type": "code",
   "execution_count": 208,
   "metadata": {},
   "outputs": [
    {
     "name": "stdout",
     "output_type": "stream",
     "text": [
      "100.00158777650971 0.9982961730041116\n",
      "100 1\n",
      "100.15877765097063 99.82961730041116\n",
      "100 100\n",
      "4.606757962497798 0.9982961730041117\n",
      "4.605170185988092 1\n"
     ]
    }
   ],
   "source": [
    "sigma = 1\n",
    "price_prev = 100\n",
    "\n",
    "# return\n",
    "rt = np.random.normal(0, sigma, 100000)\n",
    "\n",
    "price_brownian = price_prev + rt\n",
    "price_arithmetic = price_prev * (1 + rt)\n",
    "price_log = price_prev * np.exp(rt)\n",
    "\n",
    "theory_mean_cla = price_prev\n",
    "theory_std_cla = sigma\n",
    "print(np.mean(price_brownian), np.std(price_brownian))\n",
    "print(theory_mean_cla, theory_std_cla)\n",
    "\n",
    "theory_mean_ari = price_prev\n",
    "theory_std_ari = price_prev * sigma\n",
    "print(np.mean(price_arithmetic), np.std(price_arithmetic))\n",
    "print(theory_mean_ari, theory_std_ari)\n",
    "\n",
    "# log price\n",
    "theory_mean_geo = np.log(price_prev)\n",
    "theory_std_geo = 1\n",
    "\n",
    "print(np.mean(np.log(price_log)), np.std(np.log(price_log)))\n",
    "print(theory_mean_geo, theory_std_geo)\n"
   ]
  },
  {
   "cell_type": "code",
   "execution_count": 207,
   "metadata": {},
   "outputs": [
    {
     "name": "stderr",
     "output_type": "stream",
     "text": [
      "C:\\Users\\WANGLIN CAI\\AppData\\Local\\Temp\\ipykernel_11660\\2352258697.py:2: UserWarning: \n",
      "\n",
      "`distplot` is a deprecated function and will be removed in seaborn v0.14.0.\n",
      "\n",
      "Please adapt your code to use either `displot` (a figure-level function with\n",
      "similar flexibility) or `histplot` (an axes-level function for histograms).\n",
      "\n",
      "For a guide to updating your code to use the new functions, please see\n",
      "https://gist.github.com/mwaskom/de44147ed2974457ad6372750bbe5751\n",
      "\n",
      "  sns.distplot(price_brownian, ax=axes[0])\n",
      "C:\\Users\\WANGLIN CAI\\AppData\\Local\\Temp\\ipykernel_11660\\2352258697.py:3: UserWarning: \n",
      "\n",
      "`distplot` is a deprecated function and will be removed in seaborn v0.14.0.\n",
      "\n",
      "Please adapt your code to use either `displot` (a figure-level function with\n",
      "similar flexibility) or `histplot` (an axes-level function for histograms).\n",
      "\n",
      "For a guide to updating your code to use the new functions, please see\n",
      "https://gist.github.com/mwaskom/de44147ed2974457ad6372750bbe5751\n",
      "\n",
      "  sns.distplot(price_arithmetic, ax=axes[1])\n",
      "C:\\Users\\WANGLIN CAI\\AppData\\Local\\Temp\\ipykernel_11660\\2352258697.py:4: UserWarning: \n",
      "\n",
      "`distplot` is a deprecated function and will be removed in seaborn v0.14.0.\n",
      "\n",
      "Please adapt your code to use either `displot` (a figure-level function with\n",
      "similar flexibility) or `histplot` (an axes-level function for histograms).\n",
      "\n",
      "For a guide to updating your code to use the new functions, please see\n",
      "https://gist.github.com/mwaskom/de44147ed2974457ad6372750bbe5751\n",
      "\n",
      "  sns.distplot(price_log, ax=axes[2])\n"
     ]
    },
    {
     "data": {
      "image/png": "[encoded data removed]",
      "text/plain": [
       "<Figure size 600x1000 with 3 Axes>"
      ]
     },
     "metadata": {},
     "output_type": "display_data"
    }
   ],
   "source": [
    "fig, axes = plt.subplots(3, 1, figsize=(6, 10))\n",
    "sns.distplot(price_brownian, ax=axes[0])\n",
    "sns.distplot(price_arithmetic, ax=axes[1])\n",
    "sns.distplot(price_log, ax=axes[2])\n",
    "axes[0].set_title(\"Classical Brownian Motion\")\n",
    "axes[1].set_title(\"Arithmetic Return System\")\n",
    "axes[2].set_title(\"Geometric Brownian Motion\")\n",
    "plt.show()"
   ]
  },
  {
   "cell_type": "code",
   "execution_count": null,
   "metadata": {},
   "outputs": [],
   "source": [
    "# Q2 code"
   ]
  },
  {
   "cell_type": "code",
   "execution_count": 4,
   "metadata": {},
   "outputs": [
    {
     "data": {
      "text/plain": [
       "(249, 100)"
      ]
     },
     "execution_count": 4,
     "metadata": {},
     "output_type": "execute_result"
    }
   ],
   "source": [
    "vars = list(DP.columns)\n",
    "vars.remove('Date')\n",
    "p = np.array(DP[vars])\n",
    "p.shape"
   ]
  },
  {
   "cell_type": "code",
   "execution_count": 5,
   "metadata": {},
   "outputs": [],
   "source": [
    "def return_calculate(prices: pd.DataFrame, method: str = \"DISCRETE\", dateColumn: str = \"Date\"):\n",
    "\n",
    "    vars = list(prices.columns)\n",
    "    nVars = len(vars)\n",
    "    vars.remove(dateColumn)\n",
    "    if nVars == len(vars):\n",
    "        raise ValueError(\"dateColumn: \" + dateColumn + \" not in DataFrame: \" + str(vars))\n",
    "    nVars = nVars-1\n",
    "\n",
    "    p = np.array(prices[vars])\n",
    "    n = p.shape[0]\n",
    "    m = p.shape[1]\n",
    "    p2 = np.empty((n-1,m))\n",
    "    \n",
    "    for i in range(n-1):\n",
    "        for j in range(m):\n",
    "            p2[i,j] = p[i+1,j] / p[i,j]\n",
    "\n",
    "    if method.upper() == \"DISCRETE\":\n",
    "        p2 = p2 - 1.0\n",
    "    elif method.upper() == \"LOG\":\n",
    "        p2 = np.log(p2)\n",
    "    else:\n",
    "        raise ValueError(\"method: \" + method + \" must be in (\\\"LOG\\\",\\\"DISCRETE\\\")\")\n",
    "\n",
    "    dates = prices[dateColumn][1:n]\n",
    "    out = pd.DataFrame({dateColumn: dates})\n",
    "    for i in range(nVars):\n",
    "        out[vars[i]] = p2[:,i]\n",
    "    return out"
   ]
  },
  {
   "cell_type": "code",
   "execution_count": 6,
   "metadata": {},
   "outputs": [
    {
     "name": "stderr",
     "output_type": "stream",
     "text": [
      "C:\\Users\\WANGLIN CAI\\AppData\\Local\\Temp\\ipykernel_76728\\1745945367.py:29: PerformanceWarning: DataFrame is highly fragmented.  This is usually the result of calling `frame.insert` many times, which has poor performance.  Consider joining all columns at once using pd.concat(axis=1) instead. To get a de-fragmented frame, use `newframe = frame.copy()`\n",
      "  out[vars[i]] = p2[:,i]\n"
     ]
    },
    {
     "data": {
      "text/html": [
       "<div>\n",
       "<style scoped>\n",
       "    .dataframe tbody tr th:only-of-type {\n",
       "        vertical-align: middle;\n",
       "    }\n",
       "\n",
       "    .dataframe tbody tr th {\n",
       "        vertical-align: top;\n",
       "    }\n",
       "\n",
       "    .dataframe thead th {\n",
       "        text-align: right;\n",
       "    }\n",
       "</style>\n",
       "<table border=\"1\" class=\"dataframe\">\n",
       "  <thead>\n",
       "    <tr style=\"text-align: right;\">\n",
       "      <th></th>\n",
       "      <th>Date</th>\n",
       "      <th>SPY</th>\n",
       "      <th>AAPL</th>\n",
       "      <th>MSFT</th>\n",
       "      <th>AMZN</th>\n",
       "      <th>TSLA</th>\n",
       "      <th>GOOGL</th>\n",
       "      <th>GOOG</th>\n",
       "      <th>META</th>\n",
       "      <th>NVDA</th>\n",
       "      <th>...</th>\n",
       "      <th>PNC</th>\n",
       "      <th>MDLZ</th>\n",
       "      <th>MO</th>\n",
       "      <th>ADI</th>\n",
       "      <th>GILD</th>\n",
       "      <th>LMT</th>\n",
       "      <th>SYK</th>\n",
       "      <th>GM</th>\n",
       "      <th>TFC</th>\n",
       "      <th>TJX</th>\n",
       "    </tr>\n",
       "  </thead>\n",
       "  <tbody>\n",
       "    <tr>\n",
       "      <th>1</th>\n",
       "      <td>2/15/2022 0:00</td>\n",
       "      <td>0.016127</td>\n",
       "      <td>0.023152</td>\n",
       "      <td>0.018542</td>\n",
       "      <td>0.008658</td>\n",
       "      <td>0.053291</td>\n",
       "      <td>0.007987</td>\n",
       "      <td>0.008319</td>\n",
       "      <td>0.015158</td>\n",
       "      <td>0.091812</td>\n",
       "      <td>...</td>\n",
       "      <td>0.012807</td>\n",
       "      <td>-0.004082</td>\n",
       "      <td>0.004592</td>\n",
       "      <td>0.052344</td>\n",
       "      <td>0.003600</td>\n",
       "      <td>-0.012275</td>\n",
       "      <td>0.033021</td>\n",
       "      <td>0.026240</td>\n",
       "      <td>0.028572</td>\n",
       "      <td>0.013237</td>\n",
       "    </tr>\n",
       "    <tr>\n",
       "      <th>2</th>\n",
       "      <td>2/16/2022 0:00</td>\n",
       "      <td>0.001121</td>\n",
       "      <td>-0.001389</td>\n",
       "      <td>-0.001167</td>\n",
       "      <td>0.010159</td>\n",
       "      <td>0.001041</td>\n",
       "      <td>0.008268</td>\n",
       "      <td>0.007784</td>\n",
       "      <td>-0.020181</td>\n",
       "      <td>0.000604</td>\n",
       "      <td>...</td>\n",
       "      <td>0.006757</td>\n",
       "      <td>-0.002429</td>\n",
       "      <td>0.005763</td>\n",
       "      <td>0.038879</td>\n",
       "      <td>0.009294</td>\n",
       "      <td>0.012244</td>\n",
       "      <td>0.003363</td>\n",
       "      <td>0.015301</td>\n",
       "      <td>-0.001389</td>\n",
       "      <td>-0.025984</td>\n",
       "    </tr>\n",
       "    <tr>\n",
       "      <th>3</th>\n",
       "      <td>2/17/2022 0:00</td>\n",
       "      <td>-0.021361</td>\n",
       "      <td>-0.021269</td>\n",
       "      <td>-0.029282</td>\n",
       "      <td>-0.021809</td>\n",
       "      <td>-0.050943</td>\n",
       "      <td>-0.037746</td>\n",
       "      <td>-0.037669</td>\n",
       "      <td>-0.040778</td>\n",
       "      <td>-0.075591</td>\n",
       "      <td>...</td>\n",
       "      <td>-0.034949</td>\n",
       "      <td>0.005326</td>\n",
       "      <td>0.015017</td>\n",
       "      <td>-0.046988</td>\n",
       "      <td>-0.009855</td>\n",
       "      <td>0.004833</td>\n",
       "      <td>-0.030857</td>\n",
       "      <td>-0.031925</td>\n",
       "      <td>-0.033380</td>\n",
       "      <td>-0.028763</td>\n",
       "    </tr>\n",
       "    <tr>\n",
       "      <th>4</th>\n",
       "      <td>2/18/2022 0:00</td>\n",
       "      <td>-0.006475</td>\n",
       "      <td>-0.009356</td>\n",
       "      <td>-0.009631</td>\n",
       "      <td>-0.013262</td>\n",
       "      <td>-0.022103</td>\n",
       "      <td>-0.016116</td>\n",
       "      <td>-0.013914</td>\n",
       "      <td>-0.007462</td>\n",
       "      <td>-0.035296</td>\n",
       "      <td>...</td>\n",
       "      <td>-0.000646</td>\n",
       "      <td>-0.000908</td>\n",
       "      <td>0.007203</td>\n",
       "      <td>-0.000436</td>\n",
       "      <td>-0.003916</td>\n",
       "      <td>-0.005942</td>\n",
       "      <td>-0.013674</td>\n",
       "      <td>-0.004506</td>\n",
       "      <td>-0.003677</td>\n",
       "      <td>0.015038</td>\n",
       "    </tr>\n",
       "    <tr>\n",
       "      <th>5</th>\n",
       "      <td>2/22/2022 0:00</td>\n",
       "      <td>-0.010732</td>\n",
       "      <td>-0.017812</td>\n",
       "      <td>-0.000729</td>\n",
       "      <td>-0.015753</td>\n",
       "      <td>-0.041366</td>\n",
       "      <td>-0.004521</td>\n",
       "      <td>-0.008163</td>\n",
       "      <td>-0.019790</td>\n",
       "      <td>-0.010659</td>\n",
       "      <td>...</td>\n",
       "      <td>0.009494</td>\n",
       "      <td>0.007121</td>\n",
       "      <td>-0.008891</td>\n",
       "      <td>0.003243</td>\n",
       "      <td>-0.001147</td>\n",
       "      <td>-0.000673</td>\n",
       "      <td>0.008342</td>\n",
       "      <td>-0.037654</td>\n",
       "      <td>-0.002246</td>\n",
       "      <td>-0.013605</td>\n",
       "    </tr>\n",
       "  </tbody>\n",
       "</table>\n",
       "<p>5 rows × 101 columns</p>\n",
       "</div>"
      ],
      "text/plain": [
       "             Date       SPY      AAPL      MSFT      AMZN      TSLA     GOOGL  \\\n",
       "1  2/15/2022 0:00  0.016127  0.023152  0.018542  0.008658  0.053291  0.007987   \n",
       "2  2/16/2022 0:00  0.001121 -0.001389 -0.001167  0.010159  0.001041  0.008268   \n",
       "3  2/17/2022 0:00 -0.021361 -0.021269 -0.029282 -0.021809 -0.050943 -0.037746   \n",
       "4  2/18/2022 0:00 -0.006475 -0.009356 -0.009631 -0.013262 -0.022103 -0.016116   \n",
       "5  2/22/2022 0:00 -0.010732 -0.017812 -0.000729 -0.015753 -0.041366 -0.004521   \n",
       "\n",
       "       GOOG      META      NVDA  ...       PNC      MDLZ        MO       ADI  \\\n",
       "1  0.008319  0.015158  0.091812  ...  0.012807 -0.004082  0.004592  0.052344   \n",
       "2  0.007784 -0.020181  0.000604  ...  0.006757 -0.002429  0.005763  0.038879   \n",
       "3 -0.037669 -0.040778 -0.075591  ... -0.034949  0.005326  0.015017 -0.046988   \n",
       "4 -0.013914 -0.007462 -0.035296  ... -0.000646 -0.000908  0.007203 -0.000436   \n",
       "5 -0.008163 -0.019790 -0.010659  ...  0.009494  0.007121 -0.008891  0.003243   \n",
       "\n",
       "       GILD       LMT       SYK        GM       TFC       TJX  \n",
       "1  0.003600 -0.012275  0.033021  0.026240  0.028572  0.013237  \n",
       "2  0.009294  0.012244  0.003363  0.015301 -0.001389 -0.025984  \n",
       "3 -0.009855  0.004833 -0.030857 -0.031925 -0.033380 -0.028763  \n",
       "4 -0.003916 -0.005942 -0.013674 -0.004506 -0.003677  0.015038  \n",
       "5 -0.001147 -0.000673  0.008342 -0.037654 -0.002246 -0.013605  \n",
       "\n",
       "[5 rows x 101 columns]"
      ]
     },
     "execution_count": 6,
     "metadata": {},
     "output_type": "execute_result"
    }
   ],
   "source": [
    "# arithmetic return for all prices\n",
    "all_return = return_calculate(DP, \"DISCRETE\", \"Date\")\n",
    "all_return.head(5)"
   ]
  },
  {
   "cell_type": "code",
   "execution_count": 7,
   "metadata": {},
   "outputs": [
    {
     "name": "stdout",
     "output_type": "stream",
     "text": [
      "1.6787646541711037e-18\n"
     ]
    },
    {
     "data": {
      "text/plain": [
       "0.039882922468254534"
      ]
     },
     "execution_count": 7,
     "metadata": {},
     "output_type": "execute_result"
    }
   ],
   "source": [
    "# demean the return for META\n",
    "Meta = all_return[\"META\"] - all_return[\"META\"].mean()\n",
    "\n",
    "# check if the mean is zero\n",
    "print(Meta.mean())\n",
    "\n",
    "# set alpha\n",
    "alpha = 0.05\n",
    "\n",
    "sd = Meta.std()\n",
    "sd"
   ]
  },
  {
   "cell_type": "code",
   "execution_count": 9,
   "metadata": {},
   "outputs": [
    {
     "data": {
      "text/plain": [
       "[<matplotlib.lines.Line2D at 0x1fdf022a9b0>]"
      ]
     },
     "execution_count": 9,
     "metadata": {},
     "output_type": "execute_result"
    },
    {
     "data": {
      "image/png": "[encoded data removed]",
      "text/plain": [
       "<Figure size 640x480 with 1 Axes>"
      ]
     },
     "metadata": {},
     "output_type": "display_data"
    }
   ],
   "source": [
    "q = Meta/sd\n",
    "\n",
    "hist_plot = sns.histplot(q, kde = True, stat=\"density\")\n",
    "xmin, xmax = hist_plot.get_xlim()\n",
    "normal_x = np.linspace(xmin, xmax, 100)\n",
    "hist_plot.plot(normal_x, norm.pdf(normal_x), color = 'red')"
   ]
  },
  {
   "cell_type": "code",
   "execution_count": 22,
   "metadata": {},
   "outputs": [
    {
     "name": "stdout",
     "output_type": "stream",
     "text": [
      "0.06560156967533286\n",
      "0.09278155189455961\n"
     ]
    },
    {
     "data": {
      "text/plain": [
       "<BarContainer object of 2 artists>"
      ]
     },
     "execution_count": 22,
     "metadata": {},
     "output_type": "execute_result"
    },
    {
     "data": {
      "image/png": "[encoded data removed]",
      "text/plain": [
       "<Figure size 640x480 with 1 Axes>"
      ]
     },
     "metadata": {},
     "output_type": "display_data"
    }
   ],
   "source": [
    "# 1. normal distribution\n",
    "\n",
    "#VaR_05 = -quantile(Normal(0,sd),.05)\n",
    "#VaR_01 = -quantile(Normal(0,sd),.01)\n",
    "\n",
    "VaR_05_q1 = -norm.ppf(0.05, loc = 0, scale = sd)\n",
    "VaR_01_q1 = -norm.ppf(0.01, loc = 0, scale = sd)\n",
    "print(VaR_05_q1)\n",
    "print(VaR_01_q1)\n",
    "plt.title('VaR Using Normal Distribution')\n",
    "plt.bar(['VaR_05','VaR_01'],[VaR_05_q1, VaR_01_q1], color = ['blue','red'])"
   ]
  },
  {
   "cell_type": "code",
   "execution_count": 64,
   "metadata": {},
   "outputs": [
    {
     "data": {
      "text/plain": [
       "(1, 248)"
      ]
     },
     "execution_count": 64,
     "metadata": {},
     "output_type": "execute_result"
    }
   ],
   "source": [
    "np.asmatrix(Meta).shape"
   ]
  },
  {
   "cell_type": "code",
   "execution_count": 18,
   "metadata": {},
   "outputs": [],
   "source": [
    "# 2. normal distribution with Exponentially Weighted Variance (lambda = 0.94)\n",
    "def get_weight(array, L):\n",
    "    \n",
    "    nrows = len(array)\n",
    "    weights = np.zeros(nrows)\n",
    "    \n",
    "    for i in range(1,nrows+1):\n",
    "        weights[i-1] = (1 - L) * (L**(i-1))\n",
    "        \n",
    "    return weights/weights.sum()\n",
    "\n",
    "#weights = getweight(0.97,DR.shape[0])\n",
    "\n",
    "def weighted_variance(array, L):\n",
    "    \n",
    "    weights = get_weight(array, L)\n",
    "    w_v = 0\n",
    "    \n",
    "    index = 0\n",
    "    for i in array.index:\n",
    "        w = weights[index]\n",
    "        index += 1\n",
    "        \n",
    "        x = array[i]-array.mean()\n",
    "        w_v += w*x**2\n",
    "        \n",
    "    return w_v"
   ]
  },
  {
   "cell_type": "code",
   "execution_count": 19,
   "metadata": {},
   "outputs": [
    {
     "data": {
      "text/plain": [
       "0.05555829372358195"
      ]
     },
     "execution_count": 19,
     "metadata": {},
     "output_type": "execute_result"
    }
   ],
   "source": [
    "ewv = weighted_variance(Meta[::-1], 0.94)\n",
    "sd2 = np.sqrt(ewv)\n",
    "sd2"
   ]
  },
  {
   "cell_type": "code",
   "execution_count": 21,
   "metadata": {},
   "outputs": [
    {
     "name": "stdout",
     "output_type": "stream",
     "text": [
      "0.09138526093846902\n",
      "0.12924791848919145\n"
     ]
    },
    {
     "data": {
      "text/plain": [
       "<BarContainer object of 2 artists>"
      ]
     },
     "execution_count": 21,
     "metadata": {},
     "output_type": "execute_result"
    },
    {
     "data": {
      "image/png": "[encoded data removed]",
      "text/plain": [
       "<Figure size 640x480 with 1 Axes>"
      ]
     },
     "metadata": {},
     "output_type": "display_data"
    }
   ],
   "source": [
    "VaR_05_q2 = -norm.ppf(0.05, loc = 0, scale = sd2)\n",
    "VaR_01_q2 = -norm.ppf(0.01, loc = 0, scale = sd2)\n",
    "print(VaR_05_q2)\n",
    "print(VaR_01_q2)\n",
    "plt.title('VaR Using Normal Distribution with Exponentially Weighted Variance Lambda = 0.94')\n",
    "plt.bar(['VaR_05','VaR_01'],[VaR_05_q2, VaR_01_q2],color = ['blue','red'])"
   ]
  },
  {
   "cell_type": "code",
   "execution_count": 23,
   "metadata": {},
   "outputs": [
    {
     "name": "stdout",
     "output_type": "stream",
     "text": [
      "Optimization terminated successfully.\n",
      "         Current function value: -463.957934\n",
      "         Iterations: 6\n",
      "         Function evaluations: 18\n",
      "         Gradient evaluations: 9\n"
     ]
    },
    {
     "data": {
      "text/plain": [
       "array([8.84777824])"
      ]
     },
     "execution_count": 23,
     "metadata": {},
     "output_type": "execute_result"
    }
   ],
   "source": [
    "# 3. MLE fitted T distribution \n",
    "\n",
    "def calcLogLikelihood_t(n):\n",
    "    f = 1\n",
    "    for i in Meta:\n",
    "        f = f * t.pdf(i,n,scale=sd)\n",
    "    return -np.log(f)\n",
    "\n",
    "res_t = minimize(calcLogLikelihood_t, 10, method = 'BFGS', options={'disp': True})\n",
    "\n",
    "res_t.x\n"
   ]
  },
  {
   "cell_type": "code",
   "execution_count": 24,
   "metadata": {},
   "outputs": [
    {
     "name": "stdout",
     "output_type": "stream",
     "text": [
      "0.0732531532504567\n",
      "0.1129305704912018\n"
     ]
    },
    {
     "data": {
      "text/plain": [
       "<BarContainer object of 2 artists>"
      ]
     },
     "execution_count": 24,
     "metadata": {},
     "output_type": "execute_result"
    },
    {
     "data": {
      "image/png": "[encoded data removed]",
      "text/plain": [
       "<Figure size 640x480 with 1 Axes>"
      ]
     },
     "metadata": {},
     "output_type": "display_data"
    }
   ],
   "source": [
    "VaR_05_q3 = -t.ppf(0.05, df = 8.848, scale = sd)\n",
    "VaR_01_q3 = -t.ppf(0.01, df = 8.848, scale = sd)\n",
    "print(VaR_05_q3)\n",
    "print(VaR_01_q3)\n",
    "plt.title('VaR Using NLE fitted T distribution')\n",
    "plt.bar(['VaR_05','VaR_01'],[VaR_05_q3, VaR_01_q3],color = ['blue','red'])"
   ]
  },
  {
   "cell_type": "code",
   "execution_count": 25,
   "metadata": {},
   "outputs": [
    {
     "name": "stdout",
     "output_type": "stream",
     "text": [
      "0.06588072152825065\n",
      "0.09306070374747741\n"
     ]
    },
    {
     "data": {
      "text/plain": [
       "<BarContainer object of 2 artists>"
      ]
     },
     "execution_count": 25,
     "metadata": {},
     "output_type": "execute_result"
    },
    {
     "data": {
      "image/png": "[encoded data removed]",
      "text/plain": [
       "<Figure size 640x480 with 1 Axes>"
      ]
     },
     "metadata": {},
     "output_type": "display_data"
    }
   ],
   "source": [
    "# 4. fitted AR(1) Model\n",
    "ar_model = AutoReg(Meta, lags = 1).fit()\n",
    "\n",
    "ar_model.params\n",
    "# so the model is xt =  -0.000062 + 0.007233xt-1 + wt\n",
    "\n",
    "VaR_05_q4 = - (-0.000062 + 0.007233*Meta[248] + norm.ppf(0.05, loc = 0, scale = sd))\n",
    "VaR_01_q4 = - (-0.000062 + 0.007233*Meta[248] + norm.ppf(0.01, loc = 0, scale = sd))\n",
    "print(VaR_05_q4)\n",
    "print(VaR_01_q4)\n",
    "plt.title('VaR Using a fitted AR(1) model')\n",
    "plt.bar(['VaR_05','VaR_01'],[VaR_05_q4, VaR_01_q4],color = ['blue','red'])"
   ]
  },
  {
   "cell_type": "code",
   "execution_count": 28,
   "metadata": {},
   "outputs": [
    {
     "name": "stdout",
     "output_type": "stream",
     "text": [
      "0.05590681367337082\n",
      "0.07770676546064272\n"
     ]
    },
    {
     "data": {
      "text/plain": [
       "<BarContainer object of 2 artists>"
      ]
     },
     "execution_count": 28,
     "metadata": {},
     "output_type": "execute_result"
    },
    {
     "data": {
      "image/png": "[encoded data removed]",
      "text/plain": [
       "<Figure size 640x480 with 1 Axes>"
      ]
     },
     "metadata": {},
     "output_type": "display_data"
    }
   ],
   "source": [
    "# 5. Historic Simulation\n",
    "N = 10000\n",
    "\n",
    "# here we use the same weight for the return\n",
    "# therefore, the chance for each day being selected is the same\n",
    "choice = np.random.randint(low = 1, high = 248, size = 10000)\n",
    "simulated_return = sorted(Meta[choice])\n",
    "#simulated_return[499]\n",
    "H_VaR_05 = - np.quantile(simulated_return, 0.05)\n",
    "H_VaR_01 = - np.quantile(simulated_return, 0.01)\n",
    "print(H_VaR_05)\n",
    "print(H_VaR_01)\n",
    "plt.title('VaR Using Historical Simulation')\n",
    "plt.bar(['VaR_05','VaR_01'],[H_VaR_05, H_VaR_01],color = ['blue','red'])"
   ]
  },
  {
   "cell_type": "code",
   "execution_count": 31,
   "metadata": {},
   "outputs": [
    {
     "data": {
      "text/plain": [
       "<BarContainer object of 10 artists>"
      ]
     },
     "execution_count": 31,
     "metadata": {},
     "output_type": "execute_result"
    },
    {
     "data": {
      "image/png": "[encoded data removed]",
      "text/plain": [
       "<Figure size 1000x1000 with 1 Axes>"
      ]
     },
     "metadata": {},
     "output_type": "display_data"
    }
   ],
   "source": [
    "\n",
    "plt.figure(figsize=(10,10))\n",
    "plt.bar(['VaR_05_1','VaR_01_1','VaR_05_2','VaR_01_2','VaR_05_3','VaR_01_3','VaR_05_4','VaR_01_4','VaR_05_5','VaR_01_5'],\n",
    "        [VaR_05_q1, VaR_01_q1, VaR_05_q2, VaR_01_q2, VaR_05_q3, VaR_01_q3, VaR_05_q4, VaR_01_q4, H_VaR_05, H_VaR_01],\n",
    "        color = ['blue','red','blue','red','blue','red','blue','red','blue','red'])"
   ]
  },
  {
   "cell_type": "code",
   "execution_count": 4,
   "metadata": {},
   "outputs": [
    {
     "ename": "NameError",
     "evalue": "name 'return_calculate' is not defined",
     "output_type": "error",
     "traceback": [
      "\u001b[1;31m---------------------------------------------------------------------------\u001b[0m",
      "\u001b[1;31mNameError\u001b[0m                                 Traceback (most recent call last)",
      "\u001b[1;32mc:\\Users\\WANGLIN CAI\\fintech545\\Week04\\week4 code.ipynb 单元格 24\u001b[0m in \u001b[0;36m<cell line: 1>\u001b[1;34m()\u001b[0m\n\u001b[1;32m----> <a href='vscode-notebook-cell:/c%3A/Users/WANGLIN%20CAI/fintech545/Week04/week4%20code.ipynb#X32sZmlsZQ%3D%3D?line=0'>1</a>\u001b[0m all_return \u001b[39m=\u001b[39m return_calculate(DP, \u001b[39m\"\u001b[39m\u001b[39mDISCRETE\u001b[39m\u001b[39m\"\u001b[39m, \u001b[39m\"\u001b[39m\u001b[39mDate\u001b[39m\u001b[39m\"\u001b[39m)\n",
      "\u001b[1;31mNameError\u001b[0m: name 'return_calculate' is not defined"
     ]
    }
   ],
   "source": [
    "all_return = return_calculate(DP, \"DISCRETE\", \"Date\")"
   ]
  },
  {
   "cell_type": "code",
   "execution_count": 32,
   "metadata": {},
   "outputs": [],
   "source": [
    "# q3\n",
    "# demean all the return\n",
    "for i in range(1,101):\n",
    "    all_return.iloc[:,i] = all_return.iloc[:,i] - all_return.iloc[:,i].mean()\n"
   ]
  },
  {
   "cell_type": "code",
   "execution_count": 7,
   "metadata": {},
   "outputs": [],
   "source": [
    "def demean(DataFrame: pd.DataFrame, DateOrNot: str = 'Y'):\n",
    "    \n",
    "    nrows = DataFrame.shape[0]\n",
    "    ncol = DataFrame.shape[1]\n",
    "    Result = pd.DataFrame(np.zeros([nrows, ncol]))\n",
    "    Result.index = DataFrame.index\n",
    "    \n",
    "    if DateOrNot == 'Y':\n",
    "        # except the first one\n",
    "        for i in range(1,ncol):\n",
    "            Result.iloc[:,i] = DataFrame.iloc[:,i] - DataFrame.iloc[:,i].mean()\n",
    "            \n",
    "        Result.drop(Result.columns[0], axis=1, inplace=True)\n",
    "        Result.insert(0, 'whatever', DataFrame.iloc[:,0]) \n",
    "        Result.columns = DataFrame.columns\n",
    "        \n",
    "    elif DateOrNot == \"N\":\n",
    "        # except the first one\n",
    "        for i in range(0,ncol):\n",
    "            Result.iloc[:,i] = DataFrame.iloc[:,i] - DataFrame.iloc[:,i].mean()\n",
    "            \n",
    "        Result.columns = DataFrame.columns\n",
    "    else:\n",
    "        raise ValueError(\"you can only input Y or N\")\n",
    "    \n",
    "    return Result\n",
    "    "
   ]
  },
  {
   "cell_type": "code",
   "execution_count": 8,
   "metadata": {},
   "outputs": [],
   "source": [
    "all_return_demean = demean(all_return,'Y')"
   ]
  },
  {
   "cell_type": "code",
   "execution_count": 66,
   "metadata": {},
   "outputs": [
    {
     "data": {
      "text/html": [
       "<div>\n",
       "<style scoped>\n",
       "    .dataframe tbody tr th:only-of-type {\n",
       "        vertical-align: middle;\n",
       "    }\n",
       "\n",
       "    .dataframe tbody tr th {\n",
       "        vertical-align: top;\n",
       "    }\n",
       "\n",
       "    .dataframe thead th {\n",
       "        text-align: right;\n",
       "    }\n",
       "</style>\n",
       "<table border=\"1\" class=\"dataframe\">\n",
       "  <thead>\n",
       "    <tr style=\"text-align: right;\">\n",
       "      <th></th>\n",
       "      <th>Date</th>\n",
       "      <th>SPY</th>\n",
       "      <th>AAPL</th>\n",
       "      <th>MSFT</th>\n",
       "      <th>AMZN</th>\n",
       "      <th>TSLA</th>\n",
       "      <th>GOOGL</th>\n",
       "      <th>GOOG</th>\n",
       "      <th>META</th>\n",
       "      <th>NVDA</th>\n",
       "      <th>...</th>\n",
       "      <th>PNC</th>\n",
       "      <th>MDLZ</th>\n",
       "      <th>MO</th>\n",
       "      <th>ADI</th>\n",
       "      <th>GILD</th>\n",
       "      <th>LMT</th>\n",
       "      <th>SYK</th>\n",
       "      <th>GM</th>\n",
       "      <th>TFC</th>\n",
       "      <th>TJX</th>\n",
       "    </tr>\n",
       "  </thead>\n",
       "  <tbody>\n",
       "    <tr>\n",
       "      <th>1</th>\n",
       "      <td>2/15/2022 0:00</td>\n",
       "      <td>0.016251</td>\n",
       "      <td>0.023338</td>\n",
       "      <td>0.018706</td>\n",
       "      <td>0.010018</td>\n",
       "      <td>0.053757</td>\n",
       "      <td>0.009100</td>\n",
       "      <td>0.009403</td>\n",
       "      <td>0.015175</td>\n",
       "      <td>0.091347</td>\n",
       "      <td>...</td>\n",
       "      <td>0.013489</td>\n",
       "      <td>-0.004152</td>\n",
       "      <td>0.004456</td>\n",
       "      <td>0.051421</td>\n",
       "      <td>0.001937</td>\n",
       "      <td>-0.013301</td>\n",
       "      <td>0.032537</td>\n",
       "      <td>0.026442</td>\n",
       "      <td>0.029295</td>\n",
       "      <td>0.012263</td>\n",
       "    </tr>\n",
       "    <tr>\n",
       "      <th>2</th>\n",
       "      <td>2/16/2022 0:00</td>\n",
       "      <td>0.001245</td>\n",
       "      <td>-0.001203</td>\n",
       "      <td>-0.001004</td>\n",
       "      <td>0.011518</td>\n",
       "      <td>0.001507</td>\n",
       "      <td>0.009381</td>\n",
       "      <td>0.008869</td>\n",
       "      <td>-0.020165</td>\n",
       "      <td>0.000139</td>\n",
       "      <td>...</td>\n",
       "      <td>0.007438</td>\n",
       "      <td>-0.002499</td>\n",
       "      <td>0.005628</td>\n",
       "      <td>0.037956</td>\n",
       "      <td>0.007630</td>\n",
       "      <td>0.011219</td>\n",
       "      <td>0.002879</td>\n",
       "      <td>0.015504</td>\n",
       "      <td>-0.000665</td>\n",
       "      <td>-0.026958</td>\n",
       "    </tr>\n",
       "    <tr>\n",
       "      <th>3</th>\n",
       "      <td>2/17/2022 0:00</td>\n",
       "      <td>-0.021237</td>\n",
       "      <td>-0.021083</td>\n",
       "      <td>-0.029119</td>\n",
       "      <td>-0.020450</td>\n",
       "      <td>-0.050476</td>\n",
       "      <td>-0.036633</td>\n",
       "      <td>-0.036584</td>\n",
       "      <td>-0.040761</td>\n",
       "      <td>-0.076056</td>\n",
       "      <td>...</td>\n",
       "      <td>-0.034268</td>\n",
       "      <td>0.005256</td>\n",
       "      <td>0.014881</td>\n",
       "      <td>-0.047911</td>\n",
       "      <td>-0.011518</td>\n",
       "      <td>0.003808</td>\n",
       "      <td>-0.031340</td>\n",
       "      <td>-0.031723</td>\n",
       "      <td>-0.032656</td>\n",
       "      <td>-0.029738</td>\n",
       "    </tr>\n",
       "    <tr>\n",
       "      <th>4</th>\n",
       "      <td>2/18/2022 0:00</td>\n",
       "      <td>-0.006350</td>\n",
       "      <td>-0.009170</td>\n",
       "      <td>-0.009468</td>\n",
       "      <td>-0.011903</td>\n",
       "      <td>-0.021637</td>\n",
       "      <td>-0.015003</td>\n",
       "      <td>-0.012830</td>\n",
       "      <td>-0.007446</td>\n",
       "      <td>-0.035761</td>\n",
       "      <td>...</td>\n",
       "      <td>0.000035</td>\n",
       "      <td>-0.000978</td>\n",
       "      <td>0.007067</td>\n",
       "      <td>-0.001360</td>\n",
       "      <td>-0.005579</td>\n",
       "      <td>-0.006967</td>\n",
       "      <td>-0.014157</td>\n",
       "      <td>-0.004304</td>\n",
       "      <td>-0.002953</td>\n",
       "      <td>0.014063</td>\n",
       "    </tr>\n",
       "    <tr>\n",
       "      <th>5</th>\n",
       "      <td>2/22/2022 0:00</td>\n",
       "      <td>-0.010607</td>\n",
       "      <td>-0.017626</td>\n",
       "      <td>-0.000566</td>\n",
       "      <td>-0.014394</td>\n",
       "      <td>-0.040900</td>\n",
       "      <td>-0.003408</td>\n",
       "      <td>-0.007078</td>\n",
       "      <td>-0.019774</td>\n",
       "      <td>-0.011124</td>\n",
       "      <td>...</td>\n",
       "      <td>0.010176</td>\n",
       "      <td>0.007051</td>\n",
       "      <td>-0.009026</td>\n",
       "      <td>0.002320</td>\n",
       "      <td>-0.002810</td>\n",
       "      <td>-0.001698</td>\n",
       "      <td>0.007858</td>\n",
       "      <td>-0.037452</td>\n",
       "      <td>-0.001523</td>\n",
       "      <td>-0.014580</td>\n",
       "    </tr>\n",
       "    <tr>\n",
       "      <th>...</th>\n",
       "      <td>...</td>\n",
       "      <td>...</td>\n",
       "      <td>...</td>\n",
       "      <td>...</td>\n",
       "      <td>...</td>\n",
       "      <td>...</td>\n",
       "      <td>...</td>\n",
       "      <td>...</td>\n",
       "      <td>...</td>\n",
       "      <td>...</td>\n",
       "      <td>...</td>\n",
       "      <td>...</td>\n",
       "      <td>...</td>\n",
       "      <td>...</td>\n",
       "      <td>...</td>\n",
       "      <td>...</td>\n",
       "      <td>...</td>\n",
       "      <td>...</td>\n",
       "      <td>...</td>\n",
       "      <td>...</td>\n",
       "      <td>...</td>\n",
       "    </tr>\n",
       "    <tr>\n",
       "      <th>244</th>\n",
       "      <td>2/3/2023 0:00</td>\n",
       "      <td>-0.010505</td>\n",
       "      <td>0.024586</td>\n",
       "      <td>-0.023457</td>\n",
       "      <td>-0.082956</td>\n",
       "      <td>0.009549</td>\n",
       "      <td>-0.026361</td>\n",
       "      <td>-0.031820</td>\n",
       "      <td>-0.011850</td>\n",
       "      <td>-0.028518</td>\n",
       "      <td>...</td>\n",
       "      <td>-0.004013</td>\n",
       "      <td>-0.011321</td>\n",
       "      <td>-0.001413</td>\n",
       "      <td>-0.003600</td>\n",
       "      <td>0.036548</td>\n",
       "      <td>0.003108</td>\n",
       "      <td>0.001853</td>\n",
       "      <td>-0.008713</td>\n",
       "      <td>-0.005230</td>\n",
       "      <td>0.000642</td>\n",
       "    </tr>\n",
       "    <tr>\n",
       "      <th>245</th>\n",
       "      <td>2/6/2023 0:00</td>\n",
       "      <td>-0.005987</td>\n",
       "      <td>-0.017743</td>\n",
       "      <td>-0.005952</td>\n",
       "      <td>-0.010344</td>\n",
       "      <td>0.025627</td>\n",
       "      <td>-0.016829</td>\n",
       "      <td>-0.015547</td>\n",
       "      <td>-0.002503</td>\n",
       "      <td>-0.000986</td>\n",
       "      <td>...</td>\n",
       "      <td>-0.013769</td>\n",
       "      <td>0.003875</td>\n",
       "      <td>0.000930</td>\n",
       "      <td>-0.008025</td>\n",
       "      <td>0.020348</td>\n",
       "      <td>0.020801</td>\n",
       "      <td>-0.041665</td>\n",
       "      <td>0.005308</td>\n",
       "      <td>-0.009059</td>\n",
       "      <td>-0.005570</td>\n",
       "    </tr>\n",
       "    <tr>\n",
       "      <th>246</th>\n",
       "      <td>2/7/2023 0:00</td>\n",
       "      <td>0.013203</td>\n",
       "      <td>0.019431</td>\n",
       "      <td>0.042186</td>\n",
       "      <td>0.000674</td>\n",
       "      <td>0.010992</td>\n",
       "      <td>0.047177</td>\n",
       "      <td>0.045252</td>\n",
       "      <td>0.029899</td>\n",
       "      <td>0.050936</td>\n",
       "      <td>...</td>\n",
       "      <td>0.000313</td>\n",
       "      <td>-0.016543</td>\n",
       "      <td>-0.008653</td>\n",
       "      <td>0.018621</td>\n",
       "      <td>-0.005253</td>\n",
       "      <td>-0.002667</td>\n",
       "      <td>0.003089</td>\n",
       "      <td>0.001654</td>\n",
       "      <td>0.009393</td>\n",
       "      <td>-0.004593</td>\n",
       "    </tr>\n",
       "    <tr>\n",
       "      <th>247</th>\n",
       "      <td>2/8/2023 0:00</td>\n",
       "      <td>-0.010810</td>\n",
       "      <td>-0.017467</td>\n",
       "      <td>-0.002939</td>\n",
       "      <td>-0.018815</td>\n",
       "      <td>0.023230</td>\n",
       "      <td>-0.075717</td>\n",
       "      <td>-0.073332</td>\n",
       "      <td>-0.042725</td>\n",
       "      <td>0.000978</td>\n",
       "      <td>...</td>\n",
       "      <td>-0.007788</td>\n",
       "      <td>-0.004526</td>\n",
       "      <td>-0.001424</td>\n",
       "      <td>-0.018932</td>\n",
       "      <td>-0.006080</td>\n",
       "      <td>0.001793</td>\n",
       "      <td>-0.016009</td>\n",
       "      <td>0.004309</td>\n",
       "      <td>-0.014667</td>\n",
       "      <td>0.008389</td>\n",
       "    </tr>\n",
       "    <tr>\n",
       "      <th>248</th>\n",
       "      <td>2/9/2023 0:00</td>\n",
       "      <td>-0.008545</td>\n",
       "      <td>-0.006726</td>\n",
       "      <td>-0.011496</td>\n",
       "      <td>-0.016732</td>\n",
       "      <td>0.030423</td>\n",
       "      <td>-0.042764</td>\n",
       "      <td>-0.044315</td>\n",
       "      <td>-0.030022</td>\n",
       "      <td>0.005479</td>\n",
       "      <td>...</td>\n",
       "      <td>-0.015907</td>\n",
       "      <td>-0.007787</td>\n",
       "      <td>-0.003791</td>\n",
       "      <td>0.003352</td>\n",
       "      <td>-0.003298</td>\n",
       "      <td>-0.000089</td>\n",
       "      <td>-0.014875</td>\n",
       "      <td>0.001646</td>\n",
       "      <td>-0.015895</td>\n",
       "      <td>0.004629</td>\n",
       "    </tr>\n",
       "  </tbody>\n",
       "</table>\n",
       "<p>248 rows × 101 columns</p>\n",
       "</div>"
      ],
      "text/plain": [
       "               Date       SPY      AAPL      MSFT      AMZN      TSLA  \\\n",
       "1    2/15/2022 0:00  0.016251  0.023338  0.018706  0.010018  0.053757   \n",
       "2    2/16/2022 0:00  0.001245 -0.001203 -0.001004  0.011518  0.001507   \n",
       "3    2/17/2022 0:00 -0.021237 -0.021083 -0.029119 -0.020450 -0.050476   \n",
       "4    2/18/2022 0:00 -0.006350 -0.009170 -0.009468 -0.011903 -0.021637   \n",
       "5    2/22/2022 0:00 -0.010607 -0.017626 -0.000566 -0.014394 -0.040900   \n",
       "..              ...       ...       ...       ...       ...       ...   \n",
       "244   2/3/2023 0:00 -0.010505  0.024586 -0.023457 -0.082956  0.009549   \n",
       "245   2/6/2023 0:00 -0.005987 -0.017743 -0.005952 -0.010344  0.025627   \n",
       "246   2/7/2023 0:00  0.013203  0.019431  0.042186  0.000674  0.010992   \n",
       "247   2/8/2023 0:00 -0.010810 -0.017467 -0.002939 -0.018815  0.023230   \n",
       "248   2/9/2023 0:00 -0.008545 -0.006726 -0.011496 -0.016732  0.030423   \n",
       "\n",
       "        GOOGL      GOOG      META      NVDA  ...       PNC      MDLZ  \\\n",
       "1    0.009100  0.009403  0.015175  0.091347  ...  0.013489 -0.004152   \n",
       "2    0.009381  0.008869 -0.020165  0.000139  ...  0.007438 -0.002499   \n",
       "3   -0.036633 -0.036584 -0.040761 -0.076056  ... -0.034268  0.005256   \n",
       "4   -0.015003 -0.012830 -0.007446 -0.035761  ...  0.000035 -0.000978   \n",
       "5   -0.003408 -0.007078 -0.019774 -0.011124  ...  0.010176  0.007051   \n",
       "..        ...       ...       ...       ...  ...       ...       ...   \n",
       "244 -0.026361 -0.031820 -0.011850 -0.028518  ... -0.004013 -0.011321   \n",
       "245 -0.016829 -0.015547 -0.002503 -0.000986  ... -0.013769  0.003875   \n",
       "246  0.047177  0.045252  0.029899  0.050936  ...  0.000313 -0.016543   \n",
       "247 -0.075717 -0.073332 -0.042725  0.000978  ... -0.007788 -0.004526   \n",
       "248 -0.042764 -0.044315 -0.030022  0.005479  ... -0.015907 -0.007787   \n",
       "\n",
       "           MO       ADI      GILD       LMT       SYK        GM       TFC  \\\n",
       "1    0.004456  0.051421  0.001937 -0.013301  0.032537  0.026442  0.029295   \n",
       "2    0.005628  0.037956  0.007630  0.011219  0.002879  0.015504 -0.000665   \n",
       "3    0.014881 -0.047911 -0.011518  0.003808 -0.031340 -0.031723 -0.032656   \n",
       "4    0.007067 -0.001360 -0.005579 -0.006967 -0.014157 -0.004304 -0.002953   \n",
       "5   -0.009026  0.002320 -0.002810 -0.001698  0.007858 -0.037452 -0.001523   \n",
       "..        ...       ...       ...       ...       ...       ...       ...   \n",
       "244 -0.001413 -0.003600  0.036548  0.003108  0.001853 -0.008713 -0.005230   \n",
       "245  0.000930 -0.008025  0.020348  0.020801 -0.041665  0.005308 -0.009059   \n",
       "246 -0.008653  0.018621 -0.005253 -0.002667  0.003089  0.001654  0.009393   \n",
       "247 -0.001424 -0.018932 -0.006080  0.001793 -0.016009  0.004309 -0.014667   \n",
       "248 -0.003791  0.003352 -0.003298 -0.000089 -0.014875  0.001646 -0.015895   \n",
       "\n",
       "          TJX  \n",
       "1    0.012263  \n",
       "2   -0.026958  \n",
       "3   -0.029738  \n",
       "4    0.014063  \n",
       "5   -0.014580  \n",
       "..        ...  \n",
       "244  0.000642  \n",
       "245 -0.005570  \n",
       "246 -0.004593  \n",
       "247  0.008389  \n",
       "248  0.004629  \n",
       "\n",
       "[248 rows x 101 columns]"
      ]
     },
     "execution_count": 66,
     "metadata": {},
     "output_type": "execute_result"
    }
   ],
   "source": [
    "all_return_demean"
   ]
  },
  {
   "cell_type": "code",
   "execution_count": 51,
   "metadata": {},
   "outputs": [
    {
     "data": {
      "text/html": [
       "<div>\n",
       "<style scoped>\n",
       "    .dataframe tbody tr th:only-of-type {\n",
       "        vertical-align: middle;\n",
       "    }\n",
       "\n",
       "    .dataframe tbody tr th {\n",
       "        vertical-align: top;\n",
       "    }\n",
       "\n",
       "    .dataframe thead th {\n",
       "        text-align: right;\n",
       "    }\n",
       "</style>\n",
       "<table border=\"1\" class=\"dataframe\">\n",
       "  <thead>\n",
       "    <tr style=\"text-align: right;\">\n",
       "      <th></th>\n",
       "      <th>0</th>\n",
       "      <th>1</th>\n",
       "      <th>2</th>\n",
       "      <th>3</th>\n",
       "      <th>4</th>\n",
       "      <th>5</th>\n",
       "      <th>6</th>\n",
       "      <th>7</th>\n",
       "      <th>8</th>\n",
       "      <th>9</th>\n",
       "      <th>...</th>\n",
       "      <th>91</th>\n",
       "      <th>92</th>\n",
       "      <th>93</th>\n",
       "      <th>94</th>\n",
       "      <th>95</th>\n",
       "      <th>96</th>\n",
       "      <th>97</th>\n",
       "      <th>98</th>\n",
       "      <th>99</th>\n",
       "      <th>100</th>\n",
       "    </tr>\n",
       "  </thead>\n",
       "  <tbody>\n",
       "    <tr>\n",
       "      <th>1</th>\n",
       "      <td>0.0</td>\n",
       "      <td>0.0</td>\n",
       "      <td>0.0</td>\n",
       "      <td>0.0</td>\n",
       "      <td>0.0</td>\n",
       "      <td>0.0</td>\n",
       "      <td>0.0</td>\n",
       "      <td>0.0</td>\n",
       "      <td>0.0</td>\n",
       "      <td>0.0</td>\n",
       "      <td>...</td>\n",
       "      <td>0.0</td>\n",
       "      <td>0.0</td>\n",
       "      <td>0.0</td>\n",
       "      <td>0.0</td>\n",
       "      <td>0.0</td>\n",
       "      <td>0.0</td>\n",
       "      <td>0.0</td>\n",
       "      <td>0.0</td>\n",
       "      <td>0.0</td>\n",
       "      <td>0.0</td>\n",
       "    </tr>\n",
       "    <tr>\n",
       "      <th>2</th>\n",
       "      <td>0.0</td>\n",
       "      <td>0.0</td>\n",
       "      <td>0.0</td>\n",
       "      <td>0.0</td>\n",
       "      <td>0.0</td>\n",
       "      <td>0.0</td>\n",
       "      <td>0.0</td>\n",
       "      <td>0.0</td>\n",
       "      <td>0.0</td>\n",
       "      <td>0.0</td>\n",
       "      <td>...</td>\n",
       "      <td>0.0</td>\n",
       "      <td>0.0</td>\n",
       "      <td>0.0</td>\n",
       "      <td>0.0</td>\n",
       "      <td>0.0</td>\n",
       "      <td>0.0</td>\n",
       "      <td>0.0</td>\n",
       "      <td>0.0</td>\n",
       "      <td>0.0</td>\n",
       "      <td>0.0</td>\n",
       "    </tr>\n",
       "    <tr>\n",
       "      <th>3</th>\n",
       "      <td>0.0</td>\n",
       "      <td>0.0</td>\n",
       "      <td>0.0</td>\n",
       "      <td>0.0</td>\n",
       "      <td>0.0</td>\n",
       "      <td>0.0</td>\n",
       "      <td>0.0</td>\n",
       "      <td>0.0</td>\n",
       "      <td>0.0</td>\n",
       "      <td>0.0</td>\n",
       "      <td>...</td>\n",
       "      <td>0.0</td>\n",
       "      <td>0.0</td>\n",
       "      <td>0.0</td>\n",
       "      <td>0.0</td>\n",
       "      <td>0.0</td>\n",
       "      <td>0.0</td>\n",
       "      <td>0.0</td>\n",
       "      <td>0.0</td>\n",
       "      <td>0.0</td>\n",
       "      <td>0.0</td>\n",
       "    </tr>\n",
       "    <tr>\n",
       "      <th>4</th>\n",
       "      <td>0.0</td>\n",
       "      <td>0.0</td>\n",
       "      <td>0.0</td>\n",
       "      <td>0.0</td>\n",
       "      <td>0.0</td>\n",
       "      <td>0.0</td>\n",
       "      <td>0.0</td>\n",
       "      <td>0.0</td>\n",
       "      <td>0.0</td>\n",
       "      <td>0.0</td>\n",
       "      <td>...</td>\n",
       "      <td>0.0</td>\n",
       "      <td>0.0</td>\n",
       "      <td>0.0</td>\n",
       "      <td>0.0</td>\n",
       "      <td>0.0</td>\n",
       "      <td>0.0</td>\n",
       "      <td>0.0</td>\n",
       "      <td>0.0</td>\n",
       "      <td>0.0</td>\n",
       "      <td>0.0</td>\n",
       "    </tr>\n",
       "    <tr>\n",
       "      <th>5</th>\n",
       "      <td>0.0</td>\n",
       "      <td>0.0</td>\n",
       "      <td>0.0</td>\n",
       "      <td>0.0</td>\n",
       "      <td>0.0</td>\n",
       "      <td>0.0</td>\n",
       "      <td>0.0</td>\n",
       "      <td>0.0</td>\n",
       "      <td>0.0</td>\n",
       "      <td>0.0</td>\n",
       "      <td>...</td>\n",
       "      <td>0.0</td>\n",
       "      <td>0.0</td>\n",
       "      <td>0.0</td>\n",
       "      <td>0.0</td>\n",
       "      <td>0.0</td>\n",
       "      <td>0.0</td>\n",
       "      <td>0.0</td>\n",
       "      <td>0.0</td>\n",
       "      <td>0.0</td>\n",
       "      <td>0.0</td>\n",
       "    </tr>\n",
       "    <tr>\n",
       "      <th>...</th>\n",
       "      <td>...</td>\n",
       "      <td>...</td>\n",
       "      <td>...</td>\n",
       "      <td>...</td>\n",
       "      <td>...</td>\n",
       "      <td>...</td>\n",
       "      <td>...</td>\n",
       "      <td>...</td>\n",
       "      <td>...</td>\n",
       "      <td>...</td>\n",
       "      <td>...</td>\n",
       "      <td>...</td>\n",
       "      <td>...</td>\n",
       "      <td>...</td>\n",
       "      <td>...</td>\n",
       "      <td>...</td>\n",
       "      <td>...</td>\n",
       "      <td>...</td>\n",
       "      <td>...</td>\n",
       "      <td>...</td>\n",
       "      <td>...</td>\n",
       "    </tr>\n",
       "    <tr>\n",
       "      <th>244</th>\n",
       "      <td>0.0</td>\n",
       "      <td>0.0</td>\n",
       "      <td>0.0</td>\n",
       "      <td>0.0</td>\n",
       "      <td>0.0</td>\n",
       "      <td>0.0</td>\n",
       "      <td>0.0</td>\n",
       "      <td>0.0</td>\n",
       "      <td>0.0</td>\n",
       "      <td>0.0</td>\n",
       "      <td>...</td>\n",
       "      <td>0.0</td>\n",
       "      <td>0.0</td>\n",
       "      <td>0.0</td>\n",
       "      <td>0.0</td>\n",
       "      <td>0.0</td>\n",
       "      <td>0.0</td>\n",
       "      <td>0.0</td>\n",
       "      <td>0.0</td>\n",
       "      <td>0.0</td>\n",
       "      <td>0.0</td>\n",
       "    </tr>\n",
       "    <tr>\n",
       "      <th>245</th>\n",
       "      <td>0.0</td>\n",
       "      <td>0.0</td>\n",
       "      <td>0.0</td>\n",
       "      <td>0.0</td>\n",
       "      <td>0.0</td>\n",
       "      <td>0.0</td>\n",
       "      <td>0.0</td>\n",
       "      <td>0.0</td>\n",
       "      <td>0.0</td>\n",
       "      <td>0.0</td>\n",
       "      <td>...</td>\n",
       "      <td>0.0</td>\n",
       "      <td>0.0</td>\n",
       "      <td>0.0</td>\n",
       "      <td>0.0</td>\n",
       "      <td>0.0</td>\n",
       "      <td>0.0</td>\n",
       "      <td>0.0</td>\n",
       "      <td>0.0</td>\n",
       "      <td>0.0</td>\n",
       "      <td>0.0</td>\n",
       "    </tr>\n",
       "    <tr>\n",
       "      <th>246</th>\n",
       "      <td>0.0</td>\n",
       "      <td>0.0</td>\n",
       "      <td>0.0</td>\n",
       "      <td>0.0</td>\n",
       "      <td>0.0</td>\n",
       "      <td>0.0</td>\n",
       "      <td>0.0</td>\n",
       "      <td>0.0</td>\n",
       "      <td>0.0</td>\n",
       "      <td>0.0</td>\n",
       "      <td>...</td>\n",
       "      <td>0.0</td>\n",
       "      <td>0.0</td>\n",
       "      <td>0.0</td>\n",
       "      <td>0.0</td>\n",
       "      <td>0.0</td>\n",
       "      <td>0.0</td>\n",
       "      <td>0.0</td>\n",
       "      <td>0.0</td>\n",
       "      <td>0.0</td>\n",
       "      <td>0.0</td>\n",
       "    </tr>\n",
       "    <tr>\n",
       "      <th>247</th>\n",
       "      <td>0.0</td>\n",
       "      <td>0.0</td>\n",
       "      <td>0.0</td>\n",
       "      <td>0.0</td>\n",
       "      <td>0.0</td>\n",
       "      <td>0.0</td>\n",
       "      <td>0.0</td>\n",
       "      <td>0.0</td>\n",
       "      <td>0.0</td>\n",
       "      <td>0.0</td>\n",
       "      <td>...</td>\n",
       "      <td>0.0</td>\n",
       "      <td>0.0</td>\n",
       "      <td>0.0</td>\n",
       "      <td>0.0</td>\n",
       "      <td>0.0</td>\n",
       "      <td>0.0</td>\n",
       "      <td>0.0</td>\n",
       "      <td>0.0</td>\n",
       "      <td>0.0</td>\n",
       "      <td>0.0</td>\n",
       "    </tr>\n",
       "    <tr>\n",
       "      <th>248</th>\n",
       "      <td>0.0</td>\n",
       "      <td>0.0</td>\n",
       "      <td>0.0</td>\n",
       "      <td>0.0</td>\n",
       "      <td>0.0</td>\n",
       "      <td>0.0</td>\n",
       "      <td>0.0</td>\n",
       "      <td>0.0</td>\n",
       "      <td>0.0</td>\n",
       "      <td>0.0</td>\n",
       "      <td>...</td>\n",
       "      <td>0.0</td>\n",
       "      <td>0.0</td>\n",
       "      <td>0.0</td>\n",
       "      <td>0.0</td>\n",
       "      <td>0.0</td>\n",
       "      <td>0.0</td>\n",
       "      <td>0.0</td>\n",
       "      <td>0.0</td>\n",
       "      <td>0.0</td>\n",
       "      <td>0.0</td>\n",
       "    </tr>\n",
       "  </tbody>\n",
       "</table>\n",
       "<p>248 rows × 101 columns</p>\n",
       "</div>"
      ],
      "text/plain": [
       "     0    1    2    3    4    5    6    7    8    9    ...  91   92   93   \\\n",
       "1    0.0  0.0  0.0  0.0  0.0  0.0  0.0  0.0  0.0  0.0  ...  0.0  0.0  0.0   \n",
       "2    0.0  0.0  0.0  0.0  0.0  0.0  0.0  0.0  0.0  0.0  ...  0.0  0.0  0.0   \n",
       "3    0.0  0.0  0.0  0.0  0.0  0.0  0.0  0.0  0.0  0.0  ...  0.0  0.0  0.0   \n",
       "4    0.0  0.0  0.0  0.0  0.0  0.0  0.0  0.0  0.0  0.0  ...  0.0  0.0  0.0   \n",
       "5    0.0  0.0  0.0  0.0  0.0  0.0  0.0  0.0  0.0  0.0  ...  0.0  0.0  0.0   \n",
       "..   ...  ...  ...  ...  ...  ...  ...  ...  ...  ...  ...  ...  ...  ...   \n",
       "244  0.0  0.0  0.0  0.0  0.0  0.0  0.0  0.0  0.0  0.0  ...  0.0  0.0  0.0   \n",
       "245  0.0  0.0  0.0  0.0  0.0  0.0  0.0  0.0  0.0  0.0  ...  0.0  0.0  0.0   \n",
       "246  0.0  0.0  0.0  0.0  0.0  0.0  0.0  0.0  0.0  0.0  ...  0.0  0.0  0.0   \n",
       "247  0.0  0.0  0.0  0.0  0.0  0.0  0.0  0.0  0.0  0.0  ...  0.0  0.0  0.0   \n",
       "248  0.0  0.0  0.0  0.0  0.0  0.0  0.0  0.0  0.0  0.0  ...  0.0  0.0  0.0   \n",
       "\n",
       "     94   95   96   97   98   99   100  \n",
       "1    0.0  0.0  0.0  0.0  0.0  0.0  0.0  \n",
       "2    0.0  0.0  0.0  0.0  0.0  0.0  0.0  \n",
       "3    0.0  0.0  0.0  0.0  0.0  0.0  0.0  \n",
       "4    0.0  0.0  0.0  0.0  0.0  0.0  0.0  \n",
       "5    0.0  0.0  0.0  0.0  0.0  0.0  0.0  \n",
       "..   ...  ...  ...  ...  ...  ...  ...  \n",
       "244  0.0  0.0  0.0  0.0  0.0  0.0  0.0  \n",
       "245  0.0  0.0  0.0  0.0  0.0  0.0  0.0  \n",
       "246  0.0  0.0  0.0  0.0  0.0  0.0  0.0  \n",
       "247  0.0  0.0  0.0  0.0  0.0  0.0  0.0  \n",
       "248  0.0  0.0  0.0  0.0  0.0  0.0  0.0  \n",
       "\n",
       "[248 rows x 101 columns]"
      ]
     },
     "execution_count": 51,
     "metadata": {},
     "output_type": "execute_result"
    }
   ],
   "source": [
    "nrows = all_return.shape[0]\n",
    "ncol = all_return.shape[1]\n",
    "Result = pd.DataFrame(np.zeros([nrows, ncol]))\n",
    "\n",
    "Result.index = all_return.index\n",
    "Result"
   ]
  },
  {
   "cell_type": "code",
   "execution_count": 32,
   "metadata": {},
   "outputs": [
    {
     "data": {
      "text/plain": [
       "-0.00012451228866234673"
      ]
     },
     "execution_count": 32,
     "metadata": {},
     "output_type": "execute_result"
    }
   ],
   "source": [
    "all_return.iloc[:,1].mean()"
   ]
  },
  {
   "cell_type": "code",
   "execution_count": 79,
   "metadata": {},
   "outputs": [
    {
     "data": {
      "text/plain": [
       "Int64Index([  1,   2,   3,   4,   5,   6,   7,   8,   9,  10,\n",
       "            ...\n",
       "            239, 240, 241, 242, 243, 244, 245, 246, 247, 248],\n",
       "           dtype='int64', length=246)"
      ]
     },
     "execution_count": 79,
     "metadata": {},
     "output_type": "execute_result"
    }
   ],
   "source": [
    "np.random.randint(a = all_return.index, size = 1000, p = )"
   ]
  },
  {
   "cell_type": "code",
   "execution_count": 12,
   "metadata": {},
   "outputs": [
    {
     "data": {
      "text/html": [
       "<div>\n",
       "<style scoped>\n",
       "    .dataframe tbody tr th:only-of-type {\n",
       "        vertical-align: middle;\n",
       "    }\n",
       "\n",
       "    .dataframe tbody tr th {\n",
       "        vertical-align: top;\n",
       "    }\n",
       "\n",
       "    .dataframe thead th {\n",
       "        text-align: right;\n",
       "    }\n",
       "</style>\n",
       "<table border=\"1\" class=\"dataframe\">\n",
       "  <thead>\n",
       "    <tr style=\"text-align: right;\">\n",
       "      <th></th>\n",
       "      <th>Date</th>\n",
       "      <th>SPY</th>\n",
       "      <th>AAPL</th>\n",
       "      <th>MSFT</th>\n",
       "      <th>AMZN</th>\n",
       "      <th>TSLA</th>\n",
       "      <th>GOOGL</th>\n",
       "      <th>GOOG</th>\n",
       "      <th>META</th>\n",
       "      <th>NVDA</th>\n",
       "      <th>...</th>\n",
       "      <th>PNC</th>\n",
       "      <th>MDLZ</th>\n",
       "      <th>MO</th>\n",
       "      <th>ADI</th>\n",
       "      <th>GILD</th>\n",
       "      <th>LMT</th>\n",
       "      <th>SYK</th>\n",
       "      <th>GM</th>\n",
       "      <th>TFC</th>\n",
       "      <th>TJX</th>\n",
       "    </tr>\n",
       "  </thead>\n",
       "  <tbody>\n",
       "    <tr>\n",
       "      <th>1</th>\n",
       "      <td>2/15/2022 0:00</td>\n",
       "      <td>0.016251</td>\n",
       "      <td>0.023338</td>\n",
       "      <td>0.018706</td>\n",
       "      <td>0.010018</td>\n",
       "      <td>0.053757</td>\n",
       "      <td>0.009100</td>\n",
       "      <td>0.009403</td>\n",
       "      <td>0.015175</td>\n",
       "      <td>0.091347</td>\n",
       "      <td>...</td>\n",
       "      <td>0.013489</td>\n",
       "      <td>-0.004152</td>\n",
       "      <td>0.004456</td>\n",
       "      <td>0.051421</td>\n",
       "      <td>0.001937</td>\n",
       "      <td>-0.013301</td>\n",
       "      <td>0.032537</td>\n",
       "      <td>0.026442</td>\n",
       "      <td>0.029295</td>\n",
       "      <td>0.012263</td>\n",
       "    </tr>\n",
       "    <tr>\n",
       "      <th>2</th>\n",
       "      <td>2/16/2022 0:00</td>\n",
       "      <td>0.001245</td>\n",
       "      <td>-0.001203</td>\n",
       "      <td>-0.001004</td>\n",
       "      <td>0.011518</td>\n",
       "      <td>0.001507</td>\n",
       "      <td>0.009381</td>\n",
       "      <td>0.008869</td>\n",
       "      <td>-0.020165</td>\n",
       "      <td>0.000139</td>\n",
       "      <td>...</td>\n",
       "      <td>0.007438</td>\n",
       "      <td>-0.002499</td>\n",
       "      <td>0.005628</td>\n",
       "      <td>0.037956</td>\n",
       "      <td>0.007630</td>\n",
       "      <td>0.011219</td>\n",
       "      <td>0.002879</td>\n",
       "      <td>0.015504</td>\n",
       "      <td>-0.000665</td>\n",
       "      <td>-0.026958</td>\n",
       "    </tr>\n",
       "    <tr>\n",
       "      <th>3</th>\n",
       "      <td>2/17/2022 0:00</td>\n",
       "      <td>-0.021237</td>\n",
       "      <td>-0.021083</td>\n",
       "      <td>-0.029119</td>\n",
       "      <td>-0.020450</td>\n",
       "      <td>-0.050476</td>\n",
       "      <td>-0.036633</td>\n",
       "      <td>-0.036584</td>\n",
       "      <td>-0.040761</td>\n",
       "      <td>-0.076056</td>\n",
       "      <td>...</td>\n",
       "      <td>-0.034268</td>\n",
       "      <td>0.005256</td>\n",
       "      <td>0.014881</td>\n",
       "      <td>-0.047911</td>\n",
       "      <td>-0.011518</td>\n",
       "      <td>0.003808</td>\n",
       "      <td>-0.031340</td>\n",
       "      <td>-0.031723</td>\n",
       "      <td>-0.032656</td>\n",
       "      <td>-0.029738</td>\n",
       "    </tr>\n",
       "    <tr>\n",
       "      <th>4</th>\n",
       "      <td>2/18/2022 0:00</td>\n",
       "      <td>-0.006350</td>\n",
       "      <td>-0.009170</td>\n",
       "      <td>-0.009468</td>\n",
       "      <td>-0.011903</td>\n",
       "      <td>-0.021637</td>\n",
       "      <td>-0.015003</td>\n",
       "      <td>-0.012830</td>\n",
       "      <td>-0.007446</td>\n",
       "      <td>-0.035761</td>\n",
       "      <td>...</td>\n",
       "      <td>0.000035</td>\n",
       "      <td>-0.000978</td>\n",
       "      <td>0.007067</td>\n",
       "      <td>-0.001360</td>\n",
       "      <td>-0.005579</td>\n",
       "      <td>-0.006967</td>\n",
       "      <td>-0.014157</td>\n",
       "      <td>-0.004304</td>\n",
       "      <td>-0.002953</td>\n",
       "      <td>0.014063</td>\n",
       "    </tr>\n",
       "    <tr>\n",
       "      <th>5</th>\n",
       "      <td>2/22/2022 0:00</td>\n",
       "      <td>-0.010607</td>\n",
       "      <td>-0.017626</td>\n",
       "      <td>-0.000566</td>\n",
       "      <td>-0.014394</td>\n",
       "      <td>-0.040900</td>\n",
       "      <td>-0.003408</td>\n",
       "      <td>-0.007078</td>\n",
       "      <td>-0.019774</td>\n",
       "      <td>-0.011124</td>\n",
       "      <td>...</td>\n",
       "      <td>0.010176</td>\n",
       "      <td>0.007051</td>\n",
       "      <td>-0.009026</td>\n",
       "      <td>0.002320</td>\n",
       "      <td>-0.002810</td>\n",
       "      <td>-0.001698</td>\n",
       "      <td>0.007858</td>\n",
       "      <td>-0.037452</td>\n",
       "      <td>-0.001523</td>\n",
       "      <td>-0.014580</td>\n",
       "    </tr>\n",
       "    <tr>\n",
       "      <th>...</th>\n",
       "      <td>...</td>\n",
       "      <td>...</td>\n",
       "      <td>...</td>\n",
       "      <td>...</td>\n",
       "      <td>...</td>\n",
       "      <td>...</td>\n",
       "      <td>...</td>\n",
       "      <td>...</td>\n",
       "      <td>...</td>\n",
       "      <td>...</td>\n",
       "      <td>...</td>\n",
       "      <td>...</td>\n",
       "      <td>...</td>\n",
       "      <td>...</td>\n",
       "      <td>...</td>\n",
       "      <td>...</td>\n",
       "      <td>...</td>\n",
       "      <td>...</td>\n",
       "      <td>...</td>\n",
       "      <td>...</td>\n",
       "      <td>...</td>\n",
       "    </tr>\n",
       "    <tr>\n",
       "      <th>244</th>\n",
       "      <td>2/3/2023 0:00</td>\n",
       "      <td>-0.010505</td>\n",
       "      <td>0.024586</td>\n",
       "      <td>-0.023457</td>\n",
       "      <td>-0.082956</td>\n",
       "      <td>0.009549</td>\n",
       "      <td>-0.026361</td>\n",
       "      <td>-0.031820</td>\n",
       "      <td>-0.011850</td>\n",
       "      <td>-0.028518</td>\n",
       "      <td>...</td>\n",
       "      <td>-0.004013</td>\n",
       "      <td>-0.011321</td>\n",
       "      <td>-0.001413</td>\n",
       "      <td>-0.003600</td>\n",
       "      <td>0.036548</td>\n",
       "      <td>0.003108</td>\n",
       "      <td>0.001853</td>\n",
       "      <td>-0.008713</td>\n",
       "      <td>-0.005230</td>\n",
       "      <td>0.000642</td>\n",
       "    </tr>\n",
       "    <tr>\n",
       "      <th>245</th>\n",
       "      <td>2/6/2023 0:00</td>\n",
       "      <td>-0.005987</td>\n",
       "      <td>-0.017743</td>\n",
       "      <td>-0.005952</td>\n",
       "      <td>-0.010344</td>\n",
       "      <td>0.025627</td>\n",
       "      <td>-0.016829</td>\n",
       "      <td>-0.015547</td>\n",
       "      <td>-0.002503</td>\n",
       "      <td>-0.000986</td>\n",
       "      <td>...</td>\n",
       "      <td>-0.013769</td>\n",
       "      <td>0.003875</td>\n",
       "      <td>0.000930</td>\n",
       "      <td>-0.008025</td>\n",
       "      <td>0.020348</td>\n",
       "      <td>0.020801</td>\n",
       "      <td>-0.041665</td>\n",
       "      <td>0.005308</td>\n",
       "      <td>-0.009059</td>\n",
       "      <td>-0.005570</td>\n",
       "    </tr>\n",
       "    <tr>\n",
       "      <th>246</th>\n",
       "      <td>2/7/2023 0:00</td>\n",
       "      <td>0.013203</td>\n",
       "      <td>0.019431</td>\n",
       "      <td>0.042186</td>\n",
       "      <td>0.000674</td>\n",
       "      <td>0.010992</td>\n",
       "      <td>0.047177</td>\n",
       "      <td>0.045252</td>\n",
       "      <td>0.029899</td>\n",
       "      <td>0.050936</td>\n",
       "      <td>...</td>\n",
       "      <td>0.000313</td>\n",
       "      <td>-0.016543</td>\n",
       "      <td>-0.008653</td>\n",
       "      <td>0.018621</td>\n",
       "      <td>-0.005253</td>\n",
       "      <td>-0.002667</td>\n",
       "      <td>0.003089</td>\n",
       "      <td>0.001654</td>\n",
       "      <td>0.009393</td>\n",
       "      <td>-0.004593</td>\n",
       "    </tr>\n",
       "    <tr>\n",
       "      <th>247</th>\n",
       "      <td>2/8/2023 0:00</td>\n",
       "      <td>-0.010810</td>\n",
       "      <td>-0.017467</td>\n",
       "      <td>-0.002939</td>\n",
       "      <td>-0.018815</td>\n",
       "      <td>0.023230</td>\n",
       "      <td>-0.075717</td>\n",
       "      <td>-0.073332</td>\n",
       "      <td>-0.042725</td>\n",
       "      <td>0.000978</td>\n",
       "      <td>...</td>\n",
       "      <td>-0.007788</td>\n",
       "      <td>-0.004526</td>\n",
       "      <td>-0.001424</td>\n",
       "      <td>-0.018932</td>\n",
       "      <td>-0.006080</td>\n",
       "      <td>0.001793</td>\n",
       "      <td>-0.016009</td>\n",
       "      <td>0.004309</td>\n",
       "      <td>-0.014667</td>\n",
       "      <td>0.008389</td>\n",
       "    </tr>\n",
       "    <tr>\n",
       "      <th>248</th>\n",
       "      <td>2/9/2023 0:00</td>\n",
       "      <td>-0.008545</td>\n",
       "      <td>-0.006726</td>\n",
       "      <td>-0.011496</td>\n",
       "      <td>-0.016732</td>\n",
       "      <td>0.030423</td>\n",
       "      <td>-0.042764</td>\n",
       "      <td>-0.044315</td>\n",
       "      <td>-0.030022</td>\n",
       "      <td>0.005479</td>\n",
       "      <td>...</td>\n",
       "      <td>-0.015907</td>\n",
       "      <td>-0.007787</td>\n",
       "      <td>-0.003791</td>\n",
       "      <td>0.003352</td>\n",
       "      <td>-0.003298</td>\n",
       "      <td>-0.000089</td>\n",
       "      <td>-0.014875</td>\n",
       "      <td>0.001646</td>\n",
       "      <td>-0.015895</td>\n",
       "      <td>0.004629</td>\n",
       "    </tr>\n",
       "  </tbody>\n",
       "</table>\n",
       "<p>248 rows × 101 columns</p>\n",
       "</div>"
      ],
      "text/plain": [
       "               Date       SPY      AAPL      MSFT      AMZN      TSLA  \\\n",
       "1    2/15/2022 0:00  0.016251  0.023338  0.018706  0.010018  0.053757   \n",
       "2    2/16/2022 0:00  0.001245 -0.001203 -0.001004  0.011518  0.001507   \n",
       "3    2/17/2022 0:00 -0.021237 -0.021083 -0.029119 -0.020450 -0.050476   \n",
       "4    2/18/2022 0:00 -0.006350 -0.009170 -0.009468 -0.011903 -0.021637   \n",
       "5    2/22/2022 0:00 -0.010607 -0.017626 -0.000566 -0.014394 -0.040900   \n",
       "..              ...       ...       ...       ...       ...       ...   \n",
       "244   2/3/2023 0:00 -0.010505  0.024586 -0.023457 -0.082956  0.009549   \n",
       "245   2/6/2023 0:00 -0.005987 -0.017743 -0.005952 -0.010344  0.025627   \n",
       "246   2/7/2023 0:00  0.013203  0.019431  0.042186  0.000674  0.010992   \n",
       "247   2/8/2023 0:00 -0.010810 -0.017467 -0.002939 -0.018815  0.023230   \n",
       "248   2/9/2023 0:00 -0.008545 -0.006726 -0.011496 -0.016732  0.030423   \n",
       "\n",
       "        GOOGL      GOOG      META      NVDA  ...       PNC      MDLZ  \\\n",
       "1    0.009100  0.009403  0.015175  0.091347  ...  0.013489 -0.004152   \n",
       "2    0.009381  0.008869 -0.020165  0.000139  ...  0.007438 -0.002499   \n",
       "3   -0.036633 -0.036584 -0.040761 -0.076056  ... -0.034268  0.005256   \n",
       "4   -0.015003 -0.012830 -0.007446 -0.035761  ...  0.000035 -0.000978   \n",
       "5   -0.003408 -0.007078 -0.019774 -0.011124  ...  0.010176  0.007051   \n",
       "..        ...       ...       ...       ...  ...       ...       ...   \n",
       "244 -0.026361 -0.031820 -0.011850 -0.028518  ... -0.004013 -0.011321   \n",
       "245 -0.016829 -0.015547 -0.002503 -0.000986  ... -0.013769  0.003875   \n",
       "246  0.047177  0.045252  0.029899  0.050936  ...  0.000313 -0.016543   \n",
       "247 -0.075717 -0.073332 -0.042725  0.000978  ... -0.007788 -0.004526   \n",
       "248 -0.042764 -0.044315 -0.030022  0.005479  ... -0.015907 -0.007787   \n",
       "\n",
       "           MO       ADI      GILD       LMT       SYK        GM       TFC  \\\n",
       "1    0.004456  0.051421  0.001937 -0.013301  0.032537  0.026442  0.029295   \n",
       "2    0.005628  0.037956  0.007630  0.011219  0.002879  0.015504 -0.000665   \n",
       "3    0.014881 -0.047911 -0.011518  0.003808 -0.031340 -0.031723 -0.032656   \n",
       "4    0.007067 -0.001360 -0.005579 -0.006967 -0.014157 -0.004304 -0.002953   \n",
       "5   -0.009026  0.002320 -0.002810 -0.001698  0.007858 -0.037452 -0.001523   \n",
       "..        ...       ...       ...       ...       ...       ...       ...   \n",
       "244 -0.001413 -0.003600  0.036548  0.003108  0.001853 -0.008713 -0.005230   \n",
       "245  0.000930 -0.008025  0.020348  0.020801 -0.041665  0.005308 -0.009059   \n",
       "246 -0.008653  0.018621 -0.005253 -0.002667  0.003089  0.001654  0.009393   \n",
       "247 -0.001424 -0.018932 -0.006080  0.001793 -0.016009  0.004309 -0.014667   \n",
       "248 -0.003791  0.003352 -0.003298 -0.000089 -0.014875  0.001646 -0.015895   \n",
       "\n",
       "          TJX  \n",
       "1    0.012263  \n",
       "2   -0.026958  \n",
       "3   -0.029738  \n",
       "4    0.014063  \n",
       "5   -0.014580  \n",
       "..        ...  \n",
       "244  0.000642  \n",
       "245 -0.005570  \n",
       "246 -0.004593  \n",
       "247  0.008389  \n",
       "248  0.004629  \n",
       "\n",
       "[248 rows x 101 columns]"
      ]
     },
     "execution_count": 12,
     "metadata": {},
     "output_type": "execute_result"
    }
   ],
   "source": [
    "all_return_demean"
   ]
  },
  {
   "cell_type": "code",
   "execution_count": 17,
   "metadata": {},
   "outputs": [
    {
     "data": {
      "text/plain": [
       "array([[ 1.26482714e-04,  1.60498225e-04,  2.11666910e-04, ...,\n",
       "         1.81397640e-04,  1.20191099e-04,  1.21415100e-05],\n",
       "       [ 1.60498225e-04,  3.52996482e-04,  2.69735204e-04, ...,\n",
       "         2.55929668e-04,  1.51299428e-04, -6.50908573e-06],\n",
       "       [ 2.11666910e-04,  2.69735204e-04,  4.97465537e-04, ...,\n",
       "         3.07984284e-04,  1.52281378e-04, -3.78397686e-05],\n",
       "       ...,\n",
       "       [ 1.81397640e-04,  2.55929668e-04,  3.07984284e-04, ...,\n",
       "         7.84934935e-04,  1.71100484e-04, -1.17601047e-05],\n",
       "       [ 1.20191099e-04,  1.51299428e-04,  1.52281378e-04, ...,\n",
       "         1.71100484e-04,  2.50910983e-04,  7.84124017e-06],\n",
       "       [ 1.21415100e-05, -6.50908573e-06, -3.78397686e-05, ...,\n",
       "        -1.17601047e-05,  7.84124017e-06,  1.26941238e-04]])"
      ]
     },
     "execution_count": 17,
     "metadata": {},
     "output_type": "execute_result"
    }
   ],
   "source": [
    "def getweight(matrix, L):\n",
    "    \n",
    "    nrows = matrix.shape[0]\n",
    "    weights = np.zeros(nrows)\n",
    "    \n",
    "    for i in range(1,nrows+1):\n",
    "        weights[i-1] = (1 - L) * (L**(i-1))\n",
    "        \n",
    "    return weights/weights.sum()\n",
    "\n",
    "#weights = getweight(0.97,DR.shape[0])\n",
    "\n",
    "def weightedcov(matrix, L):\n",
    "    \n",
    "    weights = getweight(matrix, L)\n",
    "    weightedcov = np.zeros([matrix.shape[1], matrix.shape[1]])\n",
    "    \n",
    "    for i in range(0,matrix.shape[1]):\n",
    "        \n",
    "        w = np.matrix(weights)\n",
    "        x = np.asmatrix(matrix[:,i]-matrix[:,i].mean())\n",
    "        w_x = np.zeros([1, x.shape[0]])\n",
    "        \n",
    "        for j in range(0,x.shape[0]):\n",
    "            \n",
    "            w_x[0,j] = w[0,j] * x[j,0]\n",
    "            \n",
    "        for k in range(0,matrix.shape[1]):\n",
    "            \n",
    "            y = np.asmatrix(matrix[:,k]-matrix[:,k].mean())\n",
    "            \n",
    "            weightedcov[i,k] += np.dot(w_x,y)\n",
    " \n",
    "    return weightedcov\n",
    "\n",
    "\n",
    "wcov = weightedcov(np.asmatrix(all_return_demean[::-1].iloc[:,1:101]), L = 0.94)\n",
    "wcov\n",
    "\n",
    "#getweight(np.asmatrix(all_return[::-1].iloc[:,1:101]), L = 0.94)\n",
    "\n"
   ]
  },
  {
   "cell_type": "code",
   "execution_count": 80,
   "metadata": {},
   "outputs": [
    {
     "ename": "IndexError",
     "evalue": "tuple index out of range",
     "output_type": "error",
     "traceback": [
      "\u001b[1;31m---------------------------------------------------------------------------\u001b[0m",
      "\u001b[1;31mIndexError\u001b[0m                                Traceback (most recent call last)",
      "\u001b[1;32mc:\\Users\\WANGLIN CAI\\fintech545\\Week04\\week4 code.ipynb 单元格 34\u001b[0m in \u001b[0;36m<cell line: 32>\u001b[1;34m()\u001b[0m\n\u001b[0;32m     <a href='vscode-notebook-cell:/c%3A/Users/WANGLIN%20CAI/fintech545/Week04/week4%20code.ipynb#X44sZmlsZQ%3D%3D?line=28'>29</a>\u001b[0m     var_ew \u001b[39m=\u001b[39m calculate_var(simulation_ew, mean, alpha)\n\u001b[0;32m     <a href='vscode-notebook-cell:/c%3A/Users/WANGLIN%20CAI/fintech545/Week04/week4%20code.ipynb#X44sZmlsZQ%3D%3D?line=29'>30</a>\u001b[0m     \u001b[39mreturn\u001b[39;00m var_ew\n\u001b[1;32m---> <a href='vscode-notebook-cell:/c%3A/Users/WANGLIN%20CAI/fintech545/Week04/week4%20code.ipynb#X44sZmlsZQ%3D%3D?line=31'>32</a>\u001b[0m ewcov_normal_var(all_return_demean\u001b[39m.\u001b[39;49miloc[:,\u001b[39m1\u001b[39;49m])\n",
      "\u001b[1;32mc:\\Users\\WANGLIN CAI\\fintech545\\Week04\\week4 code.ipynb 单元格 34\u001b[0m in \u001b[0;36mewcov_normal_var\u001b[1;34m(data, mean, alpha, nsamples)\u001b[0m\n\u001b[0;32m     <a href='vscode-notebook-cell:/c%3A/Users/WANGLIN%20CAI/fintech545/Week04/week4%20code.ipynb#X44sZmlsZQ%3D%3D?line=22'>23</a>\u001b[0m \u001b[39mdef\u001b[39;00m \u001b[39mewcov_normal_var\u001b[39m(data, mean\u001b[39m=\u001b[39m\u001b[39m0\u001b[39m, alpha\u001b[39m=\u001b[39m\u001b[39m0.05\u001b[39m, nsamples\u001b[39m=\u001b[39m\u001b[39m10000\u001b[39m):\n\u001b[1;32m---> <a href='vscode-notebook-cell:/c%3A/Users/WANGLIN%20CAI/fintech545/Week04/week4%20code.ipynb#X44sZmlsZQ%3D%3D?line=23'>24</a>\u001b[0m     ew_cov \u001b[39m=\u001b[39m weightedcov(data, \u001b[39m0.94\u001b[39;49m)\n\u001b[0;32m     <a href='vscode-notebook-cell:/c%3A/Users/WANGLIN%20CAI/fintech545/Week04/week4%20code.ipynb#X44sZmlsZQ%3D%3D?line=24'>25</a>\u001b[0m     \u001b[39mprint\u001b[39m(ew_cov)\n\u001b[0;32m     <a href='vscode-notebook-cell:/c%3A/Users/WANGLIN%20CAI/fintech545/Week04/week4%20code.ipynb#X44sZmlsZQ%3D%3D?line=25'>26</a>\u001b[0m     ew_variance \u001b[39m=\u001b[39m ew_cov[\u001b[39m0\u001b[39m, \u001b[39m0\u001b[39m]\n",
      "\u001b[1;32mc:\\Users\\WANGLIN CAI\\fintech545\\Week04\\week4 code.ipynb 单元格 34\u001b[0m in \u001b[0;36mweightedcov\u001b[1;34m(DF, L)\u001b[0m\n\u001b[0;32m      <a href='vscode-notebook-cell:/c%3A/Users/WANGLIN%20CAI/fintech545/Week04/week4%20code.ipynb#X44sZmlsZQ%3D%3D?line=2'>3</a>\u001b[0m matrix \u001b[39m=\u001b[39m DF\u001b[39m.\u001b[39mvalues\n\u001b[0;32m      <a href='vscode-notebook-cell:/c%3A/Users/WANGLIN%20CAI/fintech545/Week04/week4%20code.ipynb#X44sZmlsZQ%3D%3D?line=3'>4</a>\u001b[0m weights \u001b[39m=\u001b[39m getweight(DF, L)\n\u001b[1;32m----> <a href='vscode-notebook-cell:/c%3A/Users/WANGLIN%20CAI/fintech545/Week04/week4%20code.ipynb#X44sZmlsZQ%3D%3D?line=4'>5</a>\u001b[0m weightedcov \u001b[39m=\u001b[39m np\u001b[39m.\u001b[39mzeros([matrix\u001b[39m.\u001b[39;49mshape[\u001b[39m1\u001b[39;49m], matrix\u001b[39m.\u001b[39mshape[\u001b[39m1\u001b[39m]])\n\u001b[0;32m      <a href='vscode-notebook-cell:/c%3A/Users/WANGLIN%20CAI/fintech545/Week04/week4%20code.ipynb#X44sZmlsZQ%3D%3D?line=6'>7</a>\u001b[0m \u001b[39mfor\u001b[39;00m i \u001b[39min\u001b[39;00m \u001b[39mrange\u001b[39m(\u001b[39m0\u001b[39m,matrix\u001b[39m.\u001b[39mshape[\u001b[39m1\u001b[39m]):\n\u001b[0;32m      <a href='vscode-notebook-cell:/c%3A/Users/WANGLIN%20CAI/fintech545/Week04/week4%20code.ipynb#X44sZmlsZQ%3D%3D?line=8'>9</a>\u001b[0m     x \u001b[39m=\u001b[39m np\u001b[39m.\u001b[39marray(matrix[:,i]\u001b[39m-\u001b[39mmatrix[:,i]\u001b[39m.\u001b[39mmean())\n",
      "\u001b[1;31mIndexError\u001b[0m: tuple index out of range"
     ]
    }
   ],
   "source": [
    "def weightedcov(DF, L):\n",
    "    \n",
    "    matrix = DF.values\n",
    "    weights = getweight(DF, L)\n",
    "    weightedcov = np.zeros([matrix.shape[1], matrix.shape[1]])\n",
    "    \n",
    "    for i in range(0,matrix.shape[1]):\n",
    "        \n",
    "        x = np.array(matrix[:,i]-matrix[:,i].mean())\n",
    "        w_x = [weights[j]*x[j] for j in range(len(weights))]\n",
    "        w_x = np.asmatrix(w_x)\n",
    "\n",
    "        for k in range(0,matrix.shape[1]):\n",
    "            \n",
    "            y = np.asmatrix(matrix[:,k]-matrix[:,k].mean())\n",
    "            weightedcov[i,k] += np.dot(w_x,y.T)\n",
    " \n",
    "    return weightedcov\n",
    "\n",
    "def calculate_var(data, mean=0, alpha=0.05):\n",
    "    return mean - np.quantile(data, alpha)\n",
    "\n",
    "def ewcov_normal_var(data, mean=0, alpha=0.05, nsamples=10000, L=0.94):\n",
    "    ew_cov = weightedcov(data, L)\n",
    "    ew_variance = ew_cov[0, 0]\n",
    "    sigma = np.sqrt(ew_variance)\n",
    "    simulation_ew = np.random.normal(mean, sigma, nsamples)\n",
    "    var_ew = calculate_var(simulation_ew, mean, alpha)\n",
    "    return var_ew\n",
    "\n",
    "ewcov_normal_var(all_return_demean.iloc[:,1])"
   ]
  },
  {
   "cell_type": "code",
   "execution_count": 28,
   "metadata": {},
   "outputs": [
    {
     "data": {
      "text/plain": [
       "[4, 10, 18]"
      ]
     },
     "execution_count": 28,
     "metadata": {},
     "output_type": "execute_result"
    }
   ],
   "source": [
    "a = [1,2,3]\n",
    "b = [4,5,6]\n",
    "a_b = [a[i]*b[i] for i in range(len(a))]\n",
    "a_b"
   ]
  },
  {
   "cell_type": "code",
   "execution_count": 43,
   "metadata": {},
   "outputs": [
    {
     "name": "stdout",
     "output_type": "stream",
     "text": [
      "[1.38271025e-08 1.47096836e-08 1.56485995e-08 1.66474463e-08\n",
      " 1.77100493e-08 1.88404779e-08 2.00430616e-08 2.13224060e-08\n",
      " 2.26834106e-08 2.41312879e-08 2.56715829e-08 2.73101946e-08\n",
      " 2.90533985e-08 3.09078707e-08 3.28807135e-08 3.49794825e-08\n",
      " 3.72122154e-08 3.95874632e-08 4.21143225e-08 4.48024708e-08\n",
      " 4.76622030e-08 5.07044712e-08 5.39409268e-08 5.73839647e-08\n",
      " 6.10467710e-08 6.49433734e-08 6.90886951e-08 7.34986118e-08\n",
      " 7.81900125e-08 8.31808644e-08 8.84902813e-08 9.41385971e-08\n",
      " 1.00147444e-07 1.06539834e-07 1.13340249e-07 1.20574733e-07\n",
      " 1.28270992e-07 1.36458502e-07 1.45168619e-07 1.54434702e-07\n",
      " 1.64292236e-07 1.74778974e-07 1.85935079e-07 1.97803275e-07\n",
      " 2.10429016e-07 2.23860656e-07 2.38149634e-07 2.53350674e-07\n",
      " 2.69521994e-07 2.86725525e-07 3.05027155e-07 3.24496973e-07\n",
      " 3.45209546e-07 3.67244198e-07 3.90685317e-07 4.15622677e-07\n",
      " 4.42151784e-07 4.70374239e-07 5.00398126e-07 5.32338432e-07\n",
      " 5.66317481e-07 6.02465405e-07 6.40920644e-07 6.81830472e-07\n",
      " 7.25351566e-07 7.71650602e-07 8.20904896e-07 8.73303081e-07\n",
      " 9.29045831e-07 9.88346629e-07 1.05143258e-06 1.11854530e-06\n",
      " 1.18994181e-06 1.26589554e-06 1.34669739e-06 1.43265679e-06\n",
      " 1.52410297e-06 1.62138614e-06 1.72487887e-06 1.83497752e-06\n",
      " 1.95210375e-06 2.07670612e-06 2.20926183e-06 2.35027854e-06\n",
      " 2.50029632e-06 2.65988970e-06 2.82966989e-06 3.01028712e-06\n",
      " 3.20243311e-06 3.40684373e-06 3.62430184e-06 3.85564026e-06\n",
      " 4.10174495e-06 4.36355846e-06 4.64208347e-06 4.93838667e-06\n",
      " 5.25360284e-06 5.58893919e-06 5.94567999e-06 6.32519148e-06\n",
      " 6.72892711e-06 7.15843309e-06 7.61535435e-06 8.10144080e-06\n",
      " 8.61855404e-06 9.16867451e-06 9.75390906e-06 1.03764990e-05\n",
      " 1.10388287e-05 1.17434348e-05 1.24930158e-05 1.32904423e-05\n",
      " 1.41387684e-05 1.50412430e-05 1.60013223e-05 1.70226833e-05\n",
      " 1.81092376e-05 1.92651463e-05 2.04948365e-05 2.18030176e-05\n",
      " 2.31946996e-05 2.46752123e-05 2.62502259e-05 2.79257722e-05\n",
      " 2.97082683e-05 3.16045407e-05 3.36218518e-05 3.57679275e-05\n",
      " 3.80509867e-05 4.04797731e-05 4.30635884e-05 4.58123281e-05\n",
      " 4.87365192e-05 5.18473609e-05 5.51567669e-05 5.86774116e-05\n",
      " 6.24227783e-05 6.64072109e-05 7.06459691e-05 7.51552862e-05\n",
      " 7.99524322e-05 8.50557789e-05 9.04848712e-05 9.62605013e-05\n",
      " 1.02404789e-04 1.08941264e-04 1.15894962e-04 1.23292513e-04\n",
      " 1.31162248e-04 1.39534306e-04 1.48440751e-04 1.57915693e-04\n",
      " 1.67995418e-04 1.78718530e-04 1.90126095e-04 2.02261804e-04\n",
      " 2.15172132e-04 2.28906523e-04 2.43517578e-04 2.59061253e-04\n",
      " 2.75597077e-04 2.93188380e-04 3.11902532e-04 3.31811204e-04\n",
      " 3.52990643e-04 3.75521961e-04 3.99491447e-04 4.24990901e-04\n",
      " 4.52117980e-04 4.80976575e-04 5.11677207e-04 5.44337454e-04\n",
      " 5.79082398e-04 6.16045105e-04 6.55367133e-04 6.97199077e-04\n",
      " 7.41701146e-04 7.89043772e-04 8.39408268e-04 8.92987520e-04\n",
      " 9.49986723e-04 1.01062417e-03 1.07513210e-03 1.14375755e-03\n",
      " 1.21676335e-03 1.29442910e-03 1.37705223e-03 1.46494918e-03\n",
      " 1.55845658e-03 1.65793253e-03 1.76375801e-03 1.87633831e-03\n",
      " 1.99610459e-03 2.12351552e-03 2.25905906e-03 2.40325432e-03\n",
      " 2.55665353e-03 2.71984418e-03 2.89345126e-03 3.07813964e-03\n",
      " 3.27461663e-03 3.48363472e-03 3.70599438e-03 3.94254721e-03\n",
      " 4.19419916e-03 4.46191400e-03 4.74671702e-03 5.04969896e-03\n",
      " 5.37202017e-03 5.71491508e-03 6.07969689e-03 6.46776265e-03\n",
      " 6.88059856e-03 7.31978571e-03 7.78700607e-03 8.28404901e-03\n",
      " 8.81281810e-03 9.37533840e-03 9.97376426e-03 1.06103875e-02\n",
      " 1.12876463e-02 1.20081343e-02 1.27746110e-02 1.35900117e-02\n",
      " 1.44574593e-02 1.53802758e-02 1.63619955e-02 1.74063782e-02\n",
      " 1.85174237e-02 1.96993869e-02 2.09567945e-02 2.22944623e-02\n",
      " 2.37175131e-02 2.52313969e-02 2.68419116e-02 2.85552251e-02\n",
      " 3.03778990e-02 3.23169138e-02 3.43796956e-02 3.65741442e-02\n",
      " 3.89086641e-02 4.13921958e-02 4.40342509e-02 4.68449477e-02\n",
      " 4.98350508e-02 5.30160115e-02 5.64000122e-02 6.00000130e-02]\n"
     ]
    },
    {
     "data": {
      "text/plain": [
       "array([[ 1.26482714e-04,  1.60498225e-04,  2.11666910e-04, ...,\n",
       "         1.81397640e-04,  1.20191099e-04,  1.21415100e-05],\n",
       "       [ 1.60498225e-04,  3.52996482e-04,  2.69735204e-04, ...,\n",
       "         2.55929668e-04,  1.51299428e-04, -6.50908573e-06],\n",
       "       [ 2.11666910e-04,  2.69735204e-04,  4.97465537e-04, ...,\n",
       "         3.07984284e-04,  1.52281378e-04, -3.78397686e-05],\n",
       "       ...,\n",
       "       [ 1.81397640e-04,  2.55929668e-04,  3.07984284e-04, ...,\n",
       "         7.84934935e-04,  1.71100484e-04, -1.17601047e-05],\n",
       "       [ 1.20191099e-04,  1.51299428e-04,  1.52281378e-04, ...,\n",
       "         1.71100484e-04,  2.50910983e-04,  7.84124017e-06],\n",
       "       [ 1.21415100e-05, -6.50908573e-06, -3.78397686e-05, ...,\n",
       "        -1.17601047e-05,  7.84124017e-06,  1.26941238e-04]])"
      ]
     },
     "execution_count": 43,
     "metadata": {},
     "output_type": "execute_result"
    }
   ],
   "source": [
    "def exp_weighted_cov(input, lambda_=0.97):\n",
    "    ror = input.values\n",
    "    ror_mean = np.mean(ror, axis=0)\n",
    "    dev = ror - ror_mean\n",
    "    times = dev.shape[0]\n",
    "    weights = np.zeros(times)\n",
    "    \n",
    "    for i in range(times):\n",
    "        weights[times - i - 1]  = (1 - lambda_) * lambda_**i\n",
    "    \n",
    "    print(weights/sum(weights))\n",
    "    weights_mat = np.diag(weights/sum(weights))\n",
    "\n",
    "    cov = np.transpose(dev) @ weights_mat @ dev\n",
    "    return cov\n",
    "\n",
    "exp_weighted_cov(all_return_demean.iloc[:,1:101], lambda_=0.94)"
   ]
  },
  {
   "cell_type": "code",
   "execution_count": 35,
   "metadata": {},
   "outputs": [
    {
     "name": "stdout",
     "output_type": "stream",
     "text": [
      "5539.374841223762\n",
      "7922.672069816093\n"
     ]
    },
    {
     "data": {
      "text/plain": [
       "<BarContainer object of 2 artists>"
      ]
     },
     "execution_count": 35,
     "metadata": {},
     "output_type": "execute_result"
    },
    {
     "data": {
      "image/png": "[encoded data removed]",
      "text/plain": [
       "<Figure size 640x480 with 1 Axes>"
      ]
     },
     "metadata": {},
     "output_type": "display_data"
    }
   ],
   "source": [
    "# use MC method to generate N possible returns for the portfolio\n",
    "N = 10000\n",
    "\n",
    "# portfolio A\n",
    "portfolio_a = portfolio[portfolio['Portfolio']=='A']\n",
    "stock_a = portfolio_a['Stock']\n",
    "return_a = all_return[stock_a]\n",
    "wcov_a = weightedcov(np.asmatrix(return_a)[::-1], L = 0.94)\n",
    "\n",
    "DP_a = DP[stock_a]\n",
    "PV_a = 0\n",
    "for i in range(len(stock_a)):\n",
    "    PV_a += DP_a[::-1].iloc[0,:][i] * portfolio_a['Holding'].iloc[i]\n",
    "    \n",
    "sim_return_a = np.random.multivariate_normal(np.zeros(len(stock_a)),wcov_a,size = N)\n",
    "sim_price_a = (sim_return_a + 1) * np.array(DP_a[::-1].iloc[0,:])\n",
    "sim_PV_a = np.dot(sim_price_a, np.array(portfolio_a['Holding']))\n",
    "sim_PV_a = sorted(sim_PV_a)\n",
    "\n",
    "index_05_a = int(0.05*N-1)\n",
    "index_01_a = int(0.01*N-1)\n",
    "\n",
    "VaR_05_a = PV_a - sim_PV_a[index_05_a]\n",
    "VaR_01_a = PV_a - sim_PV_a[index_01_a]\n",
    "\n",
    "print(VaR_05_a)\n",
    "print(VaR_01_a)\n",
    "plt.title('Portfolio A VaR Using Monte-Carlo Simulation')\n",
    "plt.bar(['VaR_05','VaR_01'],[VaR_05_a, VaR_01_a],color = ['Orange','Green'])"
   ]
  },
  {
   "cell_type": "code",
   "execution_count": 85,
   "metadata": {},
   "outputs": [
    {
     "data": {
      "text/plain": [
       "array([[149.79398332, 203.35854729, 140.69750554, ..., 179.26772893,\n",
       "        264.73883992,  80.32602155],\n",
       "       [151.52842243, 203.66146463, 144.57517136, ..., 176.50834017,\n",
       "        260.55800086,  83.47951297],\n",
       "       [149.09830406, 203.56068001, 141.7633855 , ..., 175.6754401 ,\n",
       "        264.81958267,  82.51937759],\n",
       "       ...,\n",
       "       [150.08112253, 211.43406337, 138.31630996, ..., 177.95449241,\n",
       "        263.38682603,  80.03595556],\n",
       "       [154.13305004, 222.82180778, 138.95149017, ..., 180.55248099,\n",
       "        264.86739576,  80.04806412],\n",
       "       [152.30794027, 221.49292642, 138.73542547, ..., 178.56918072,\n",
       "        258.9475676 ,  78.51792406]])"
      ]
     },
     "execution_count": 85,
     "metadata": {},
     "output_type": "execute_result"
    }
   ],
   "source": [
    "sim_price_a"
   ]
  },
  {
   "cell_type": "code",
   "execution_count": 36,
   "metadata": {},
   "outputs": [
    {
     "name": "stdout",
     "output_type": "stream",
     "text": [
      "4486.059053554025\n",
      "6535.919205486192\n"
     ]
    },
    {
     "data": {
      "text/plain": [
       "<BarContainer object of 2 artists>"
      ]
     },
     "execution_count": 36,
     "metadata": {},
     "output_type": "execute_result"
    },
    {
     "data": {
      "image/png": "[encoded data removed]",
      "text/plain": [
       "<Figure size 640x480 with 1 Axes>"
      ]
     },
     "metadata": {},
     "output_type": "display_data"
    }
   ],
   "source": [
    "# portfolio B\n",
    "portfolio_b = portfolio[portfolio['Portfolio']=='B']\n",
    "stock_b = portfolio_b['Stock']\n",
    "return_b = all_return[stock_b]\n",
    "wcov_b = weightedcov(np.asmatrix(return_b)[::-1], L = 0.94)\n",
    "DP_b = DP[stock_b]\n",
    "PV_b = 0\n",
    "for i in range(len(stock_b)):\n",
    "    PV_b += DP_b[::-1].iloc[0,:][i] * portfolio_b['Holding'].iloc[i]\n",
    "\n",
    "sim_return_b = np.random.multivariate_normal(np.zeros(len(stock_b)),wcov_b,size = N)\n",
    "sim_price_b = (sim_return_b + 1) * np.array(DP_b[::-1].iloc[0,:])\n",
    "sim_PV_b = np.dot(sim_price_b, np.array(portfolio_b['Holding']))\n",
    "sim_PV_b = sorted(sim_PV_b)\n",
    "\n",
    "index_05_b = int(0.05*N-1)\n",
    "index_01_b = int(0.01*N-1)\n",
    "\n",
    "VaR_05_b = PV_b - sim_PV_b[index_05_b]\n",
    "VaR_01_b = PV_b - sim_PV_b[index_01_b]\n",
    "\n",
    "print(VaR_05_b)\n",
    "print(VaR_01_b)\n",
    "plt.title('Portfolio B VaR Using Monte-Carlo Simulation')\n",
    "plt.bar(['VaR_05','VaR_01'],[VaR_05_b, VaR_01_b],color = ['Orange','Green'])"
   ]
  },
  {
   "cell_type": "code",
   "execution_count": 37,
   "metadata": {},
   "outputs": [
    {
     "name": "stdout",
     "output_type": "stream",
     "text": [
      "3845.9785782470717\n",
      "5318.348523460852\n"
     ]
    },
    {
     "data": {
      "text/plain": [
       "<BarContainer object of 2 artists>"
      ]
     },
     "execution_count": 37,
     "metadata": {},
     "output_type": "execute_result"
    },
    {
     "data": {
      "image/png": "[encoded data removed]",
      "text/plain": [
       "<Figure size 640x480 with 1 Axes>"
      ]
     },
     "metadata": {},
     "output_type": "display_data"
    }
   ],
   "source": [
    "# portfolio C\n",
    "portfolio_c = portfolio[portfolio['Portfolio']=='C']\n",
    "stock_c = portfolio_c['Stock']\n",
    "return_c = all_return[stock_c]\n",
    "wcov_c = weightedcov(np.asmatrix(return_c)[::-1], L = 0.94)\n",
    "DP_c = DP[stock_c]\n",
    "PV_c = 0\n",
    "for i in range(len(stock_c)):\n",
    "    PV_c += DP_c[::-1].iloc[0,:][i] * portfolio_c['Holding'].iloc[i]\n",
    "\n",
    "sim_return_c = np.random.multivariate_normal(np.zeros(len(stock_c)),wcov_c,size = N)\n",
    "sim_price_c = (sim_return_c + 1) * np.array(DP_c[::-1].iloc[0,:])\n",
    "sim_PV_c = np.dot(sim_price_c, np.array(portfolio_c['Holding']))\n",
    "sim_PV_c = sorted(sim_PV_c)\n",
    "\n",
    "index_05_c = int(0.05*N-1)\n",
    "index_01_c = int(0.01*N-1)\n",
    "\n",
    "VaR_05_c = PV_c - sim_PV_c[index_05_c]\n",
    "VaR_01_c = PV_c - sim_PV_c[index_01_c]\n",
    "\n",
    "print(VaR_05_c)\n",
    "print(VaR_01_c)\n",
    "plt.title('Portfolio C VaR Using Monte-Carlo Simulation')\n",
    "plt.bar(['VaR_05','VaR_01'],[VaR_05_c, VaR_01_c],color = ['Orange','Green'])"
   ]
  },
  {
   "cell_type": "code",
   "execution_count": 38,
   "metadata": {},
   "outputs": [
    {
     "name": "stdout",
     "output_type": "stream",
     "text": [
      "13486.687224362046\n",
      "19354.33390056691\n"
     ]
    },
    {
     "data": {
      "text/plain": [
       "<BarContainer object of 2 artists>"
      ]
     },
     "execution_count": 38,
     "metadata": {},
     "output_type": "execute_result"
    },
    {
     "data": {
      "image/png": "[encoded data removed]",
      "text/plain": [
       "<Figure size 640x480 with 1 Axes>"
      ]
     },
     "metadata": {},
     "output_type": "display_data"
    }
   ],
   "source": [
    "# Total portfolio\n",
    "portfolio_t = portfolio\n",
    "stock_t = portfolio_t['Stock']\n",
    "return_t = all_return[stock_t]\n",
    "wcov_t = weightedcov(np.asmatrix(return_t)[::-1], L = 0.94)\n",
    "DP_t = DP[stock_t]\n",
    "PV_t = 0\n",
    "for i in range(len(stock_t)):\n",
    "    PV_t += DP_t[::-1].iloc[0,:][i] * portfolio_t['Holding'].iloc[i]\n",
    "\n",
    "sim_return_t = np.random.multivariate_normal(np.zeros(len(stock_t)),wcov_t,size = N)\n",
    "sim_price_t = (sim_return_t + 1) * np.array(DP_t[::-1].iloc[0,:])\n",
    "sim_PV_t = np.dot(sim_price_t, np.array(portfolio_t['Holding']))\n",
    "sim_PV_t = sorted(sim_PV_t)\n",
    "\n",
    "index_05_t = int(0.05*N-1)\n",
    "index_01_t = int(0.01*N-1)\n",
    "\n",
    "VaR_05_t = PV_t - sim_PV_t[index_05_t]\n",
    "VaR_01_t = PV_t - sim_PV_t[index_01_t]\n",
    "\n",
    "print(VaR_05_t)\n",
    "print(VaR_01_t)\n",
    "plt.title('Total Portfolio VaR Using Monte-Carlo Simulation')\n",
    "plt.bar(['VaR_05','VaR_01'],[VaR_05_t, VaR_01_t],color = ['Orange','Green'])"
   ]
  },
  {
   "cell_type": "code",
   "execution_count": 40,
   "metadata": {},
   "outputs": [
    {
     "name": "stdout",
     "output_type": "stream",
     "text": [
      "9070.10436189425\n",
      "11005.40053841751\n"
     ]
    },
    {
     "data": {
      "text/plain": [
       "<BarContainer object of 2 artists>"
      ]
     },
     "execution_count": 40,
     "metadata": {},
     "output_type": "execute_result"
    },
    {
     "data": {
      "image/png": "[encoded data removed]",
      "text/plain": [
       "<Figure size 640x480 with 1 Axes>"
      ]
     },
     "metadata": {},
     "output_type": "display_data"
    }
   ],
   "source": [
    "# historic simulation\n",
    "# portfolio a\n",
    "\n",
    "hs_a = np.random.randint(low = 1, high = 248, size = N)\n",
    "hs_return_a = np.zeros([N,len(stock_a)])\n",
    "for i in range(N):\n",
    "    for j in range(len(stock_a)):\n",
    "        hs_return_a[i,j] = return_a.iloc[hs_a[i],j]\n",
    "\n",
    "hs_price_a = (hs_return_a + 1) * np.array(DP_a[::-1].iloc[0,:])\n",
    "\n",
    "hs_PV_a = np.dot(hs_price_a, np.array(portfolio_a['Holding']))\n",
    "hs_PV_a = sorted(hs_PV_a) \n",
    "\n",
    "hs_index_05_a = int(0.05*N-1)\n",
    "hs_index_01_a = int(0.01*N-1)\n",
    "\n",
    "hs_VaR_05_a = PV_a - hs_PV_a[hs_index_05_a]\n",
    "hs_VaR_01_a = PV_a - hs_PV_a[hs_index_01_a]\n",
    "\n",
    "print(hs_VaR_05_a)\n",
    "print(hs_VaR_01_a)\n",
    "plt.title('Portfolio A VaR Using Historic Simulation')\n",
    "plt.bar(['VaR_05','VaR_01'],[hs_VaR_05_a, hs_VaR_01_a],color = ['Orange','Green'])"
   ]
  },
  {
   "cell_type": "code",
   "execution_count": 88,
   "metadata": {},
   "outputs": [
    {
     "data": {
      "text/html": [
       "<div>\n",
       "<style scoped>\n",
       "    .dataframe tbody tr th:only-of-type {\n",
       "        vertical-align: middle;\n",
       "    }\n",
       "\n",
       "    .dataframe tbody tr th {\n",
       "        vertical-align: top;\n",
       "    }\n",
       "\n",
       "    .dataframe thead th {\n",
       "        text-align: right;\n",
       "    }\n",
       "</style>\n",
       "<table border=\"1\" class=\"dataframe\">\n",
       "  <thead>\n",
       "    <tr style=\"text-align: right;\">\n",
       "      <th></th>\n",
       "      <th>SPY</th>\n",
       "      <th>AAPL</th>\n",
       "      <th>MSFT</th>\n",
       "      <th>AMZN</th>\n",
       "      <th>TSLA</th>\n",
       "      <th>GOOGL</th>\n",
       "      <th>GOOG</th>\n",
       "      <th>META</th>\n",
       "      <th>NVDA</th>\n",
       "      <th>BRK-B</th>\n",
       "      <th>...</th>\n",
       "      <th>PNC</th>\n",
       "      <th>MDLZ</th>\n",
       "      <th>MO</th>\n",
       "      <th>ADI</th>\n",
       "      <th>GILD</th>\n",
       "      <th>LMT</th>\n",
       "      <th>SYK</th>\n",
       "      <th>GM</th>\n",
       "      <th>TFC</th>\n",
       "      <th>TJX</th>\n",
       "    </tr>\n",
       "  </thead>\n",
       "  <tbody>\n",
       "    <tr>\n",
       "      <th>1</th>\n",
       "      <td>0.016127</td>\n",
       "      <td>0.023152</td>\n",
       "      <td>0.018542</td>\n",
       "      <td>0.008658</td>\n",
       "      <td>0.053291</td>\n",
       "      <td>0.007987</td>\n",
       "      <td>0.008319</td>\n",
       "      <td>0.015158</td>\n",
       "      <td>0.091812</td>\n",
       "      <td>0.006109</td>\n",
       "      <td>...</td>\n",
       "      <td>0.012807</td>\n",
       "      <td>-0.004082</td>\n",
       "      <td>0.004592</td>\n",
       "      <td>0.052344</td>\n",
       "      <td>0.003600</td>\n",
       "      <td>-0.012275</td>\n",
       "      <td>0.033021</td>\n",
       "      <td>0.026240</td>\n",
       "      <td>0.028572</td>\n",
       "      <td>0.013237</td>\n",
       "    </tr>\n",
       "    <tr>\n",
       "      <th>2</th>\n",
       "      <td>0.001121</td>\n",
       "      <td>-0.001389</td>\n",
       "      <td>-0.001167</td>\n",
       "      <td>0.010159</td>\n",
       "      <td>0.001041</td>\n",
       "      <td>0.008268</td>\n",
       "      <td>0.007784</td>\n",
       "      <td>-0.020181</td>\n",
       "      <td>0.000604</td>\n",
       "      <td>-0.001739</td>\n",
       "      <td>...</td>\n",
       "      <td>0.006757</td>\n",
       "      <td>-0.002429</td>\n",
       "      <td>0.005763</td>\n",
       "      <td>0.038879</td>\n",
       "      <td>0.009294</td>\n",
       "      <td>0.012244</td>\n",
       "      <td>0.003363</td>\n",
       "      <td>0.015301</td>\n",
       "      <td>-0.001389</td>\n",
       "      <td>-0.025984</td>\n",
       "    </tr>\n",
       "    <tr>\n",
       "      <th>3</th>\n",
       "      <td>-0.021361</td>\n",
       "      <td>-0.021269</td>\n",
       "      <td>-0.029282</td>\n",
       "      <td>-0.021809</td>\n",
       "      <td>-0.050943</td>\n",
       "      <td>-0.037746</td>\n",
       "      <td>-0.037669</td>\n",
       "      <td>-0.040778</td>\n",
       "      <td>-0.075591</td>\n",
       "      <td>-0.006653</td>\n",
       "      <td>...</td>\n",
       "      <td>-0.034949</td>\n",
       "      <td>0.005326</td>\n",
       "      <td>0.015017</td>\n",
       "      <td>-0.046988</td>\n",
       "      <td>-0.009855</td>\n",
       "      <td>0.004833</td>\n",
       "      <td>-0.030857</td>\n",
       "      <td>-0.031925</td>\n",
       "      <td>-0.033380</td>\n",
       "      <td>-0.028763</td>\n",
       "    </tr>\n",
       "    <tr>\n",
       "      <th>4</th>\n",
       "      <td>-0.006475</td>\n",
       "      <td>-0.009356</td>\n",
       "      <td>-0.009631</td>\n",
       "      <td>-0.013262</td>\n",
       "      <td>-0.022103</td>\n",
       "      <td>-0.016116</td>\n",
       "      <td>-0.013914</td>\n",
       "      <td>-0.007462</td>\n",
       "      <td>-0.035296</td>\n",
       "      <td>0.003987</td>\n",
       "      <td>...</td>\n",
       "      <td>-0.000646</td>\n",
       "      <td>-0.000908</td>\n",
       "      <td>0.007203</td>\n",
       "      <td>-0.000436</td>\n",
       "      <td>-0.003916</td>\n",
       "      <td>-0.005942</td>\n",
       "      <td>-0.013674</td>\n",
       "      <td>-0.004506</td>\n",
       "      <td>-0.003677</td>\n",
       "      <td>0.015038</td>\n",
       "    </tr>\n",
       "    <tr>\n",
       "      <th>5</th>\n",
       "      <td>-0.010732</td>\n",
       "      <td>-0.017812</td>\n",
       "      <td>-0.000729</td>\n",
       "      <td>-0.015753</td>\n",
       "      <td>-0.041366</td>\n",
       "      <td>-0.004521</td>\n",
       "      <td>-0.008163</td>\n",
       "      <td>-0.019790</td>\n",
       "      <td>-0.010659</td>\n",
       "      <td>-0.002033</td>\n",
       "      <td>...</td>\n",
       "      <td>0.009494</td>\n",
       "      <td>0.007121</td>\n",
       "      <td>-0.008891</td>\n",
       "      <td>0.003243</td>\n",
       "      <td>-0.001147</td>\n",
       "      <td>-0.000673</td>\n",
       "      <td>0.008342</td>\n",
       "      <td>-0.037654</td>\n",
       "      <td>-0.002246</td>\n",
       "      <td>-0.013605</td>\n",
       "    </tr>\n",
       "    <tr>\n",
       "      <th>...</th>\n",
       "      <td>...</td>\n",
       "      <td>...</td>\n",
       "      <td>...</td>\n",
       "      <td>...</td>\n",
       "      <td>...</td>\n",
       "      <td>...</td>\n",
       "      <td>...</td>\n",
       "      <td>...</td>\n",
       "      <td>...</td>\n",
       "      <td>...</td>\n",
       "      <td>...</td>\n",
       "      <td>...</td>\n",
       "      <td>...</td>\n",
       "      <td>...</td>\n",
       "      <td>...</td>\n",
       "      <td>...</td>\n",
       "      <td>...</td>\n",
       "      <td>...</td>\n",
       "      <td>...</td>\n",
       "      <td>...</td>\n",
       "      <td>...</td>\n",
       "    </tr>\n",
       "    <tr>\n",
       "      <th>244</th>\n",
       "      <td>-0.010629</td>\n",
       "      <td>0.024400</td>\n",
       "      <td>-0.023621</td>\n",
       "      <td>-0.084315</td>\n",
       "      <td>0.009083</td>\n",
       "      <td>-0.027474</td>\n",
       "      <td>-0.032904</td>\n",
       "      <td>-0.011866</td>\n",
       "      <td>-0.028053</td>\n",
       "      <td>-0.010742</td>\n",
       "      <td>...</td>\n",
       "      <td>-0.004694</td>\n",
       "      <td>-0.011251</td>\n",
       "      <td>-0.001277</td>\n",
       "      <td>-0.002677</td>\n",
       "      <td>0.038211</td>\n",
       "      <td>0.004134</td>\n",
       "      <td>0.002336</td>\n",
       "      <td>-0.008916</td>\n",
       "      <td>-0.005954</td>\n",
       "      <td>0.001617</td>\n",
       "    </tr>\n",
       "    <tr>\n",
       "      <th>245</th>\n",
       "      <td>-0.006111</td>\n",
       "      <td>-0.017929</td>\n",
       "      <td>-0.006116</td>\n",
       "      <td>-0.011703</td>\n",
       "      <td>0.025161</td>\n",
       "      <td>-0.017942</td>\n",
       "      <td>-0.016632</td>\n",
       "      <td>-0.002520</td>\n",
       "      <td>-0.000521</td>\n",
       "      <td>-0.000259</td>\n",
       "      <td>...</td>\n",
       "      <td>-0.014451</td>\n",
       "      <td>0.003945</td>\n",
       "      <td>0.001066</td>\n",
       "      <td>-0.007102</td>\n",
       "      <td>0.022012</td>\n",
       "      <td>0.021826</td>\n",
       "      <td>-0.041181</td>\n",
       "      <td>0.005106</td>\n",
       "      <td>-0.009782</td>\n",
       "      <td>-0.004595</td>\n",
       "    </tr>\n",
       "    <tr>\n",
       "      <th>246</th>\n",
       "      <td>0.013079</td>\n",
       "      <td>0.019245</td>\n",
       "      <td>0.042022</td>\n",
       "      <td>-0.000685</td>\n",
       "      <td>0.010526</td>\n",
       "      <td>0.046064</td>\n",
       "      <td>0.044167</td>\n",
       "      <td>0.029883</td>\n",
       "      <td>0.051401</td>\n",
       "      <td>0.014720</td>\n",
       "      <td>...</td>\n",
       "      <td>-0.000368</td>\n",
       "      <td>-0.016473</td>\n",
       "      <td>-0.008518</td>\n",
       "      <td>0.019544</td>\n",
       "      <td>-0.003590</td>\n",
       "      <td>-0.001641</td>\n",
       "      <td>0.003573</td>\n",
       "      <td>0.001451</td>\n",
       "      <td>0.008669</td>\n",
       "      <td>-0.003618</td>\n",
       "    </tr>\n",
       "    <tr>\n",
       "      <th>247</th>\n",
       "      <td>-0.010935</td>\n",
       "      <td>-0.017653</td>\n",
       "      <td>-0.003102</td>\n",
       "      <td>-0.020174</td>\n",
       "      <td>0.022763</td>\n",
       "      <td>-0.076830</td>\n",
       "      <td>-0.074417</td>\n",
       "      <td>-0.042741</td>\n",
       "      <td>0.001443</td>\n",
       "      <td>-0.014346</td>\n",
       "      <td>...</td>\n",
       "      <td>-0.008469</td>\n",
       "      <td>-0.004456</td>\n",
       "      <td>-0.001289</td>\n",
       "      <td>-0.018009</td>\n",
       "      <td>-0.004416</td>\n",
       "      <td>0.002819</td>\n",
       "      <td>-0.015526</td>\n",
       "      <td>0.004106</td>\n",
       "      <td>-0.015391</td>\n",
       "      <td>0.009363</td>\n",
       "    </tr>\n",
       "    <tr>\n",
       "      <th>248</th>\n",
       "      <td>-0.008669</td>\n",
       "      <td>-0.006912</td>\n",
       "      <td>-0.011660</td>\n",
       "      <td>-0.018091</td>\n",
       "      <td>0.029957</td>\n",
       "      <td>-0.043876</td>\n",
       "      <td>-0.045400</td>\n",
       "      <td>-0.030039</td>\n",
       "      <td>0.005945</td>\n",
       "      <td>-0.004117</td>\n",
       "      <td>...</td>\n",
       "      <td>-0.016588</td>\n",
       "      <td>-0.007717</td>\n",
       "      <td>-0.003656</td>\n",
       "      <td>0.004275</td>\n",
       "      <td>-0.001634</td>\n",
       "      <td>0.000937</td>\n",
       "      <td>-0.014391</td>\n",
       "      <td>0.001443</td>\n",
       "      <td>-0.016619</td>\n",
       "      <td>0.005603</td>\n",
       "    </tr>\n",
       "  </tbody>\n",
       "</table>\n",
       "<p>248 rows × 100 columns</p>\n",
       "</div>"
      ],
      "text/plain": [
       "          SPY      AAPL      MSFT      AMZN      TSLA     GOOGL      GOOG  \\\n",
       "1    0.016127  0.023152  0.018542  0.008658  0.053291  0.007987  0.008319   \n",
       "2    0.001121 -0.001389 -0.001167  0.010159  0.001041  0.008268  0.007784   \n",
       "3   -0.021361 -0.021269 -0.029282 -0.021809 -0.050943 -0.037746 -0.037669   \n",
       "4   -0.006475 -0.009356 -0.009631 -0.013262 -0.022103 -0.016116 -0.013914   \n",
       "5   -0.010732 -0.017812 -0.000729 -0.015753 -0.041366 -0.004521 -0.008163   \n",
       "..        ...       ...       ...       ...       ...       ...       ...   \n",
       "244 -0.010629  0.024400 -0.023621 -0.084315  0.009083 -0.027474 -0.032904   \n",
       "245 -0.006111 -0.017929 -0.006116 -0.011703  0.025161 -0.017942 -0.016632   \n",
       "246  0.013079  0.019245  0.042022 -0.000685  0.010526  0.046064  0.044167   \n",
       "247 -0.010935 -0.017653 -0.003102 -0.020174  0.022763 -0.076830 -0.074417   \n",
       "248 -0.008669 -0.006912 -0.011660 -0.018091  0.029957 -0.043876 -0.045400   \n",
       "\n",
       "         META      NVDA     BRK-B  ...       PNC      MDLZ        MO  \\\n",
       "1    0.015158  0.091812  0.006109  ...  0.012807 -0.004082  0.004592   \n",
       "2   -0.020181  0.000604 -0.001739  ...  0.006757 -0.002429  0.005763   \n",
       "3   -0.040778 -0.075591 -0.006653  ... -0.034949  0.005326  0.015017   \n",
       "4   -0.007462 -0.035296  0.003987  ... -0.000646 -0.000908  0.007203   \n",
       "5   -0.019790 -0.010659 -0.002033  ...  0.009494  0.007121 -0.008891   \n",
       "..        ...       ...       ...  ...       ...       ...       ...   \n",
       "244 -0.011866 -0.028053 -0.010742  ... -0.004694 -0.011251 -0.001277   \n",
       "245 -0.002520 -0.000521 -0.000259  ... -0.014451  0.003945  0.001066   \n",
       "246  0.029883  0.051401  0.014720  ... -0.000368 -0.016473 -0.008518   \n",
       "247 -0.042741  0.001443 -0.014346  ... -0.008469 -0.004456 -0.001289   \n",
       "248 -0.030039  0.005945 -0.004117  ... -0.016588 -0.007717 -0.003656   \n",
       "\n",
       "          ADI      GILD       LMT       SYK        GM       TFC       TJX  \n",
       "1    0.052344  0.003600 -0.012275  0.033021  0.026240  0.028572  0.013237  \n",
       "2    0.038879  0.009294  0.012244  0.003363  0.015301 -0.001389 -0.025984  \n",
       "3   -0.046988 -0.009855  0.004833 -0.030857 -0.031925 -0.033380 -0.028763  \n",
       "4   -0.000436 -0.003916 -0.005942 -0.013674 -0.004506 -0.003677  0.015038  \n",
       "5    0.003243 -0.001147 -0.000673  0.008342 -0.037654 -0.002246 -0.013605  \n",
       "..        ...       ...       ...       ...       ...       ...       ...  \n",
       "244 -0.002677  0.038211  0.004134  0.002336 -0.008916 -0.005954  0.001617  \n",
       "245 -0.007102  0.022012  0.021826 -0.041181  0.005106 -0.009782 -0.004595  \n",
       "246  0.019544 -0.003590 -0.001641  0.003573  0.001451  0.008669 -0.003618  \n",
       "247 -0.018009 -0.004416  0.002819 -0.015526  0.004106 -0.015391  0.009363  \n",
       "248  0.004275 -0.001634  0.000937 -0.014391  0.001443 -0.016619  0.005603  \n",
       "\n",
       "[248 rows x 100 columns]"
      ]
     },
     "execution_count": 88,
     "metadata": {},
     "output_type": "execute_result"
    }
   ],
   "source": [
    "all_return.iloc[:,1:]"
   ]
  },
  {
   "cell_type": "code",
   "execution_count": 41,
   "metadata": {},
   "outputs": [
    {
     "name": "stdout",
     "output_type": "stream",
     "text": [
      "7078.514761769562\n",
      "10302.531264178164\n"
     ]
    },
    {
     "data": {
      "text/plain": [
       "<BarContainer object of 2 artists>"
      ]
     },
     "execution_count": 41,
     "metadata": {},
     "output_type": "execute_result"
    },
    {
     "data": {
      "image/png": "[encoded data removed]",
      "text/plain": [
       "<Figure size 640x480 with 1 Axes>"
      ]
     },
     "metadata": {},
     "output_type": "display_data"
    }
   ],
   "source": [
    "# portfolio b\n",
    "\n",
    "hs_b = np.random.randint(low = 1, high = 248, size = N)\n",
    "hs_return_b = np.zeros([N,len(stock_b)])\n",
    "for i in range(N):\n",
    "    for j in range(len(stock_b)):\n",
    "        hs_return_b[i,j] = return_b.iloc[hs_b[i],j]\n",
    "\n",
    "hs_price_b = (hs_return_b + 1) * np.array(DP_b[::-1].iloc[0,:])\n",
    "\n",
    "hs_PV_b = np.dot(hs_price_b, np.array(portfolio_b['Holding']))\n",
    "hs_PV_b = sorted(hs_PV_b) \n",
    "\n",
    "hs_index_05_b = int(0.05*N-1)\n",
    "hs_index_01_b = int(0.01*N-1)\n",
    "\n",
    "hs_VaR_05_b = PV_b - hs_PV_b[hs_index_05_b]\n",
    "hs_VaR_01_b = PV_b - hs_PV_b[hs_index_01_b]\n",
    "\n",
    "print(hs_VaR_05_b)\n",
    "print(hs_VaR_01_b)\n",
    "plt.title('Portfolio B VaR Using Historic Simulation')\n",
    "plt.bar(['VaR_05','VaR_01'],[hs_VaR_05_b, hs_VaR_01_b],color = ['Orange','Green'])"
   ]
  },
  {
   "cell_type": "code",
   "execution_count": 85,
   "metadata": {},
   "outputs": [
    {
     "data": {
      "text/plain": [
       "3   -0.021361\n",
       "5   -0.010732\n",
       "4   -0.006475\n",
       "2    0.001121\n",
       "2    0.001121\n",
       "Name: SPY, dtype: float64"
      ]
     },
     "execution_count": 85,
     "metadata": {},
     "output_type": "execute_result"
    }
   ],
   "source": [
    "all_return.iloc[[1,1,2,3,4],1].sort_values()"
   ]
  },
  {
   "cell_type": "code",
   "execution_count": 42,
   "metadata": {},
   "outputs": [
    {
     "name": "stdout",
     "output_type": "stream",
     "text": [
      "5802.65286111302\n",
      "8355.846512456133\n"
     ]
    },
    {
     "data": {
      "text/plain": [
       "<BarContainer object of 2 artists>"
      ]
     },
     "execution_count": 42,
     "metadata": {},
     "output_type": "execute_result"
    },
    {
     "data": {
      "image/png": "[encoded data removed]",
      "text/plain": [
       "<Figure size 640x480 with 1 Axes>"
      ]
     },
     "metadata": {},
     "output_type": "display_data"
    }
   ],
   "source": [
    "# portfolio c\n",
    "\n",
    "hs_c = np.random.randint(low = 1, high = 248, size = N)\n",
    "hs_return_c = np.zeros([N,len(stock_c)])\n",
    "for i in range(N):\n",
    "    for j in range(len(stock_c)):\n",
    "        hs_return_c[i,j] = return_c.iloc[hs_c[i],j]\n",
    "\n",
    "hs_price_c = (hs_return_c + 1) * np.array(DP_c[::-1].iloc[0,:])\n",
    "\n",
    "hs_PV_c = np.dot(hs_price_c, np.array(portfolio_c['Holding']))\n",
    "hs_PV_c = sorted(hs_PV_c) \n",
    "\n",
    "hs_index_05_c = int(0.05*N-1)\n",
    "hs_index_01_c = int(0.01*N-1)\n",
    "\n",
    "hs_VaR_05_c = PV_c - hs_PV_c[hs_index_05_c]\n",
    "hs_VaR_01_c = PV_c - hs_PV_c[hs_index_01_c]\n",
    "\n",
    "print(hs_VaR_05_c)\n",
    "print(hs_VaR_01_c)\n",
    "plt.title('Portfolio C VaR Using Historic Simulation')\n",
    "plt.bar(['VaR_05','VaR_01'],[hs_VaR_05_c, hs_VaR_01_c],color = ['Orange','Green'])"
   ]
  },
  {
   "cell_type": "code",
   "execution_count": 43,
   "metadata": {},
   "outputs": [
    {
     "name": "stdout",
     "output_type": "stream",
     "text": [
      "21408.833521795576\n",
      "30824.58669111191\n"
     ]
    },
    {
     "data": {
      "text/plain": [
       "<BarContainer object of 2 artists>"
      ]
     },
     "execution_count": 43,
     "metadata": {},
     "output_type": "execute_result"
    },
    {
     "data": {
      "image/png": "[encoded data removed]",
      "text/plain": [
       "<Figure size 640x480 with 1 Axes>"
      ]
     },
     "metadata": {},
     "output_type": "display_data"
    }
   ],
   "source": [
    "hs = np.random.randint(low = 1, high = 248, size = N)\n",
    "hs_return = np.zeros([N,len(stock_t)])\n",
    "for i in range(N):\n",
    "    for j in range(len(stock_t)):\n",
    "        hs_return[i,j] = return_t.iloc[hs[i],j]\n",
    "\n",
    "hs_price = (hs_return + 1) * np.array(DP_t[::-1].iloc[0,:])\n",
    "\n",
    "hs_PV = np.dot(hs_price, np.array(portfolio_t['Holding']))\n",
    "hs_PV = sorted(hs_PV) \n",
    "\n",
    "hs_index_05 = int(0.05*N-1)\n",
    "hs_index_01 = int(0.01*N-1)\n",
    "\n",
    "hs_VaR_05 = PV_t - hs_PV[hs_index_05]\n",
    "hs_VaR_01 = PV_t - hs_PV[hs_index_01]\n",
    "\n",
    "print(hs_VaR_05)\n",
    "print(hs_VaR_01)\n",
    "plt.title('Total Portfolio VaR Using Historic Simulation')\n",
    "plt.bar(['VaR_05','VaR_01'],[hs_VaR_05, hs_VaR_01],color = ['Orange','Green'])"
   ]
  },
  {
   "cell_type": "code",
   "execution_count": null,
   "metadata": {},
   "outputs": [],
   "source": []
  },
  {
   "cell_type": "code",
   "execution_count": 44,
   "metadata": {},
   "outputs": [
    {
     "name": "stdout",
     "output_type": "stream",
     "text": [
      "7972.332369585405\n",
      "11369.452168426942\n"
     ]
    },
    {
     "data": {
      "text/plain": [
       "<BarContainer object of 2 artists>"
      ]
     },
     "execution_count": 44,
     "metadata": {},
     "output_type": "execute_result"
    },
    {
     "data": {
      "image/png": "[encoded data removed]",
      "text/plain": [
       "<Figure size 640x480 with 1 Axes>"
      ]
     },
     "metadata": {},
     "output_type": "display_data"
    }
   ],
   "source": [
    "# Using original covariance for returns\n",
    "# portfolio A\n",
    "\n",
    "portfolio_a = portfolio[portfolio['Portfolio']=='A']\n",
    "stock_a = portfolio_a['Stock']\n",
    "return_a = all_return[stock_a]\n",
    "cov_a = all_return[stock_a].cov()\n",
    "DP_a = DP[stock_a]\n",
    "PV_a = 0\n",
    "for i in range(len(stock_a)):\n",
    "    PV_a += DP_a[::-1].iloc[0,:][i] * portfolio_a['Holding'].iloc[i]\n",
    "    \n",
    "sim_return_a = np.random.multivariate_normal(np.zeros(len(stock_a)),cov_a,size = N)\n",
    "sim_price_a = (sim_return_a + 1) * np.array(DP_a[::-1].iloc[0,:])\n",
    "sim_PV_a = np.dot(sim_price_a, np.array(portfolio_a['Holding']))\n",
    "sim_PV_a = sorted(sim_PV_a)\n",
    "\n",
    "index_05_a = int(0.05*N-1)\n",
    "index_01_a = int(0.01*N-1)\n",
    "\n",
    "VaR_05_a = PV_a - sim_PV_a[index_05_a]\n",
    "VaR_01_a = PV_a - sim_PV_a[index_01_a]\n",
    "\n",
    "print(VaR_05_a)\n",
    "print(VaR_01_a)\n",
    "plt.title('Portfolio A VaR Using Monte-Carlo Simulation')\n",
    "plt.bar(['VaR_05','VaR_01'],[VaR_05_a, VaR_01_a],color = ['Orange','Green'])"
   ]
  },
  {
   "cell_type": "code",
   "execution_count": 87,
   "metadata": {},
   "outputs": [
    {
     "data": {
      "text/plain": [
       "array([[150.33372411, 191.56209159, 141.92919946, ..., 179.22075228,\n",
       "        261.74639345,  80.66082231],\n",
       "       [151.07465996, 199.81804206, 138.97566091, ..., 177.78861714,\n",
       "        260.6620219 ,  80.35430777],\n",
       "       [153.3157226 , 215.68227288, 139.2403373 , ..., 180.79694561,\n",
       "        264.55978864,  80.41919855],\n",
       "       ...,\n",
       "       [154.79796957, 224.32605009, 143.33296726, ..., 182.67067189,\n",
       "        273.15621474,  84.39057684],\n",
       "       [156.25574275, 222.88241013, 139.08633955, ..., 182.16039776,\n",
       "        269.20994479,  82.99716218],\n",
       "       [147.57668219, 201.02792221, 136.15102807, ..., 174.3771412 ,\n",
       "        260.20016256,  77.60521028]])"
      ]
     },
     "execution_count": 87,
     "metadata": {},
     "output_type": "execute_result"
    }
   ],
   "source": [
    "sim_price_a"
   ]
  },
  {
   "cell_type": "code",
   "execution_count": 45,
   "metadata": {},
   "outputs": [
    {
     "name": "stdout",
     "output_type": "stream",
     "text": [
      "6716.18523051322\n",
      "9641.705633676494\n"
     ]
    },
    {
     "data": {
      "text/plain": [
       "<BarContainer object of 2 artists>"
      ]
     },
     "execution_count": 45,
     "metadata": {},
     "output_type": "execute_result"
    },
    {
     "data": {
      "image/png": "[encoded data removed]",
      "text/plain": [
       "<Figure size 640x480 with 1 Axes>"
      ]
     },
     "metadata": {},
     "output_type": "display_data"
    }
   ],
   "source": [
    "# portfolio B\n",
    "portfolio_b = portfolio[portfolio['Portfolio']=='B']\n",
    "stock_b = portfolio_b['Stock']\n",
    "return_b = all_return[stock_b]\n",
    "cov_b = all_return[stock_b].cov()\n",
    "DP_b = DP[stock_b]\n",
    "PV_b = 0\n",
    "for i in range(len(stock_b)):\n",
    "    PV_b += DP_b[::-1].iloc[0,:][i] * portfolio_b['Holding'].iloc[i]\n",
    "\n",
    "sim_return_b = np.random.multivariate_normal(np.zeros(len(stock_b)),cov_b,size = N)\n",
    "sim_price_b = (sim_return_b + 1) * np.array(DP_b[::-1].iloc[0,:])\n",
    "sim_PV_b = np.dot(sim_price_b, np.array(portfolio_b['Holding']))\n",
    "sim_PV_b = sorted(sim_PV_b)\n",
    "\n",
    "index_05_b = int(0.05*N-1)\n",
    "index_01_b = int(0.01*N-1)\n",
    "\n",
    "VaR_05_b = PV_b - sim_PV_b[index_05_b]\n",
    "VaR_01_b = PV_b - sim_PV_b[index_01_b]\n",
    "\n",
    "print(VaR_05_b)\n",
    "print(VaR_01_b)\n",
    "plt.title('Portfolio B VaR Using Monte-Carlo Simulation')\n",
    "plt.bar(['VaR_05','VaR_01'],[VaR_05_b, VaR_01_b],color = ['Orange','Green'])"
   ]
  },
  {
   "cell_type": "code",
   "execution_count": 46,
   "metadata": {},
   "outputs": [
    {
     "name": "stdout",
     "output_type": "stream",
     "text": [
      "5797.460296036967\n",
      "8248.695635286887\n"
     ]
    },
    {
     "data": {
      "text/plain": [
       "<BarContainer object of 2 artists>"
      ]
     },
     "execution_count": 46,
     "metadata": {},
     "output_type": "execute_result"
    },
    {
     "data": {
      "image/png": "[encoded data removed]",
      "text/plain": [
       "<Figure size 640x480 with 1 Axes>"
      ]
     },
     "metadata": {},
     "output_type": "display_data"
    }
   ],
   "source": [
    "# portfolio C\n",
    "portfolio_c = portfolio[portfolio['Portfolio']=='C']\n",
    "stock_c = portfolio_c['Stock']\n",
    "return_c = all_return[stock_c]\n",
    "cov_c = all_return[stock_c].cov()\n",
    "DP_c = DP[stock_c]\n",
    "PV_c = 0\n",
    "for i in range(len(stock_c)):\n",
    "    PV_c += DP_c[::-1].iloc[0,:][i] * portfolio_c['Holding'].iloc[i]\n",
    "\n",
    "sim_return_c = np.random.multivariate_normal(np.zeros(len(stock_c)),cov_c,size = N)\n",
    "sim_price_c = (sim_return_c + 1) * np.array(DP_c[::-1].iloc[0,:])\n",
    "sim_PV_c = np.dot(sim_price_c, np.array(portfolio_c['Holding']))\n",
    "sim_PV_c = sorted(sim_PV_c)\n",
    "\n",
    "index_05_c = int(0.05*N-1)\n",
    "index_01_c = int(0.01*N-1)\n",
    "\n",
    "VaR_05_c = PV_c - sim_PV_c[index_05_c]\n",
    "VaR_01_c = PV_c - sim_PV_c[index_01_c]\n",
    "\n",
    "print(VaR_05_c)\n",
    "print(VaR_01_c)\n",
    "plt.title('Portfolio C VaR Using Monte-Carlo Simulation')\n",
    "plt.bar(['VaR_05','VaR_01'],[VaR_05_c, VaR_01_c],color = ['Orange','Green'])"
   ]
  },
  {
   "cell_type": "code",
   "execution_count": 47,
   "metadata": {},
   "outputs": [
    {
     "name": "stdout",
     "output_type": "stream",
     "text": [
      "20442.564457861707\n",
      "28327.321868887055\n"
     ]
    },
    {
     "data": {
      "text/plain": [
       "<BarContainer object of 2 artists>"
      ]
     },
     "execution_count": 47,
     "metadata": {},
     "output_type": "execute_result"
    },
    {
     "data": {
      "image/png": "[encoded data removed]",
      "text/plain": [
       "<Figure size 640x480 with 1 Axes>"
      ]
     },
     "metadata": {},
     "output_type": "display_data"
    }
   ],
   "source": [
    "# Total portfolio\n",
    "portfolio_t = portfolio\n",
    "stock_t = portfolio_t['Stock']\n",
    "return_t = all_return[stock_t]\n",
    "cov_t = all_return[stock_t].cov()\n",
    "DP_t = DP[stock_t]\n",
    "PV_t = 0\n",
    "for i in range(len(stock_t)):\n",
    "    PV_t += DP_t[::-1].iloc[0,:][i] * portfolio_t['Holding'].iloc[i]\n",
    "\n",
    "sim_return_t = np.random.multivariate_normal(np.zeros(len(stock_t)),cov_t,size = N)\n",
    "sim_price_t = (sim_return_t + 1) * np.array(DP_t[::-1].iloc[0,:])\n",
    "sim_PV_t = np.dot(sim_price_t, np.array(portfolio_t['Holding']))\n",
    "sim_PV_t = sorted(sim_PV_t)\n",
    "\n",
    "index_05_t = int(0.05*N-1)\n",
    "index_01_t = int(0.01*N-1)\n",
    "\n",
    "VaR_05_t = PV_t - sim_PV_t[index_05_t]\n",
    "VaR_01_t = PV_t - sim_PV_t[index_01_t]\n",
    "\n",
    "print(VaR_05_t)\n",
    "print(VaR_01_t)\n",
    "plt.title('Total Portfolio VaR Using Monte-Carlo Simulation')\n",
    "plt.bar(['VaR_05','VaR_01'],[VaR_05_t, VaR_01_t],color = ['Orange','Green'])"
   ]
  }
 ],
 "metadata": {
  "kernelspec": {
   "display_name": "Python 3",
   "language": "python",
   "name": "python3"
  },
  "language_info": {
   "codemirror_mode": {
    "name": "ipython",
    "version": 3
   },
   "file_extension": ".py",
   "mimetype": "text/x-python",
   "name": "python",
   "nbconvert_exporter": "python",
   "pygments_lexer": "ipython3",
   "version": "3.10.3"
  },
  "orig_nbformat": 4,
  "vscode": {
   "interpreter": {
    "hash": "6b475a9657af21a44ad9c743f6d355eb686a7b25bf6add97a26c30ff5c2c747d"
   }
  }
 },
 "nbformat": 4,
 "nbformat_minor": 2
}
